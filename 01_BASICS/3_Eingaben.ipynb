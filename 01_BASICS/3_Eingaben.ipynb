{
 "cells": [
  {
   "cell_type": "markdown",
   "metadata": {
    "tags": []
   },
   "source": [
    "<img src=\"IMG/PYT_G01_logo.svg\" width=\"100%\"/>\n",
    "<a href=\"0_Einfuehrung_Inhalt.ipynb\" target=\"_blank\">&larr; Einführung/Inhalt</a>"
   ]
  },
  {
   "cell_type": "markdown",
   "metadata": {},
   "source": [
    "# 3. Benutzereingabe (User Input)\n",
    "\n",
    "Benutzereingaben können über verschiedene Wege erfolgen. Die einfachste Möglichkeit besteht in der Eingabe via Tastatur (*standard input*) mittels der Funktion `input()`. Der Rückgabewert dieser Funktion ist immer ein String.\n",
    "\n",
    "> Anmerkung: Eine angenehmere/elegantere Art der Benutzereingabe besteht in der Verwendung von GUI-Elementen. Dazu wird in der Regel ein GUI-Framework verwendet. Dies behandeln wir hier noch nicht."
   ]
  },
  {
   "cell_type": "code",
   "execution_count": 1,
   "metadata": {},
   "outputs": [
    {
     "name": "stdin",
     "output_type": "stream",
     "text": [
      "Bitte geben Sie Ihren Namen ein:  Hans\n"
     ]
    },
    {
     "name": "stdout",
     "output_type": "stream",
     "text": [
      "Die Eingabe lautet:  Hans\n",
      "Der Datentyp der Eingabe lautet:  <class 'str'>\n"
     ]
    }
   ],
   "source": [
    "tastatur_eingabe = input('Bitte geben Sie Ihren Namen ein: ')\n",
    "print('Die Eingabe lautet: ', tastatur_eingabe)\n",
    "print('Der Datentyp der Eingabe lautet: ', type(tastatur_eingabe))"
   ]
  },
  {
   "cell_type": "markdown",
   "metadata": {},
   "source": [
    "Da der Rückgabewert von `input()` ein String ist, muss dieser i. Allg. analysiert bzw. in andere Datentypen umgewandelt werden. Soll der Datentyp der Eingabe \"automatisch\" ausgewertet werden, so kann dies mit der Funktion `eval()` erfolgen. Alternativ wird der Eingabestring häufig mit entsprechenden Umwandlungsfunktionen in den gewünschten Datentyp umgewandelt."
   ]
  },
  {
   "cell_type": "code",
   "execution_count": 2,
   "metadata": {},
   "outputs": [
    {
     "name": "stdin",
     "output_type": "stream",
     "text": [
      "Bitte eine Fliesskommazahl eingeben:  1.25\n"
     ]
    },
    {
     "name": "stdout",
     "output_type": "stream",
     "text": [
      "Der Datentyp der Eingabe lautet:  <class 'float'>\n"
     ]
    }
   ],
   "source": [
    "tastatur_eingabe = eval(input('Bitte eine Fliesskommazahl eingeben: '))\n",
    "print('Der Datentyp der Eingabe lautet: ', type(tastatur_eingabe))"
   ]
  },
  {
   "cell_type": "code",
   "execution_count": 3,
   "metadata": {},
   "outputs": [
    {
     "name": "stdin",
     "output_type": "stream",
     "text": [
      "Bitte eine Liste eingeben:  [3, 3.45, 's']\n"
     ]
    },
    {
     "name": "stdout",
     "output_type": "stream",
     "text": [
      "Der Datentyp der Eingabe lautet:  <class 'list'>\n"
     ]
    }
   ],
   "source": [
    "tastatur_eingabe = eval(input('Bitte eine Liste eingeben: '))\n",
    "print('Der Datentyp der Eingabe lautet: ', type(tastatur_eingabe))"
   ]
  },
  {
   "cell_type": "markdown",
   "metadata": {},
   "source": [
    "## 3.1 Ausgabe\n",
    "\n",
    "Für die Ausgabe auf dem Bildschirm (*standard output*) steht die `print()`-Funktion zur Verfügung, die wir bereits bestens kennen. Diese trennt mehrere Werte standardmässig mit Leerzeichen und fügt standardmässig am Ende automatisch einen Zeilenumbruch ein. Dieses Verhalten kann mit den Argumenten `sep` (Trennzeichen) bzw. `end` (Abschlusszeichen) verändert werden."
   ]
  },
  {
   "cell_type": "code",
   "execution_count": 9,
   "metadata": {},
   "outputs": [
    {
     "name": "stdout",
     "output_type": "stream",
     "text": [
      "Werte:\n",
      "1 2 3 4 5\n"
     ]
    }
   ],
   "source": [
    "print('Werte:')\n",
    "print(1,2,3,4,5)"
   ]
  },
  {
   "cell_type": "code",
   "execution_count": 10,
   "metadata": {},
   "outputs": [
    {
     "name": "stdout",
     "output_type": "stream",
     "text": [
      "Werte: 1,2,3,4,5\n"
     ]
    }
   ],
   "source": [
    "print('Werte:', end=' ')\n",
    "print(1,2,3,4,5, sep=',')"
   ]
  },
  {
   "cell_type": "markdown",
   "metadata": {},
   "source": [
    "---\n",
    "<p style='text-align: right; font-size: 70%;'>Grundlagen Python (PYT_G01) / 2024</p>"
   ]
  }
 ],
 "metadata": {
  "kernelspec": {
   "display_name": "Python 3 (ipykernel)",
   "language": "python",
   "name": "python3"
  },
  "language_info": {
   "codemirror_mode": {
    "name": "ipython",
    "version": 3
   },
   "file_extension": ".py",
   "mimetype": "text/x-python",
   "name": "python",
   "nbconvert_exporter": "python",
   "pygments_lexer": "ipython3",
   "version": "3.10.11"
  }
 },
 "nbformat": 4,
 "nbformat_minor": 4
}
