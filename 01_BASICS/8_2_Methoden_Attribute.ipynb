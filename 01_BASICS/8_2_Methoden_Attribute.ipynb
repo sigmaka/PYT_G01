{
 "cells": [
  {
   "cell_type": "markdown",
   "metadata": {
    "jp-MarkdownHeadingCollapsed": true
   },
   "source": [
    "<img src=\"IMG/PYT_G01_logo.svg\" width=\"100%\"/>\n",
    "<a href=\"0_Einfuehrung_Inhalt.ipynb\" target=\"_blank\">&larr; Einführung/Inhalt</a>"
   ]
  },
  {
   "cell_type": "markdown",
   "metadata": {},
   "source": [
    "## 8.2 Methoden und Attribute\n",
    "\n",
    "Nachdem nun das Grundprinzip der OOP bekannt ist und eine erste minimale Klasse erstellt wurde, kann diese nun mit Inhalt angereichert werden. In diesen ersten Schritten werden nun der Klasse *RGB* **Methoden** und **Attribute** hinzugefügt."
   ]
  },
  {
   "cell_type": "markdown",
   "metadata": {},
   "source": [
    "### 8.2.1 Methoden\n",
    "\n",
    "Die Begriffe Methoden und Funktionen werden teilweise synonym verwendet, doch sie unterscheiden sich folgendermassen:\n",
    "\n",
    "1. Eine Methode ist eine Funktion, die innerhalb einer Klasse definiert ist.\n",
    "2. Der erste Parameter einer Methode ist immer eine Referenz auf die Instanz, von der sie aufgerufen wird. Diese Referenz wird üblicherweise mit *self* bezeichnet.\n",
    "\n",
    "Der *RGB*-Klasse soll eine Methode `write()` hinzugefügt werden. Methoden werden wie Funktion mit dem Keyword *def* definiert. Da die Methode innerhalb der Klasse definiert wird, ist auf die korrekte Einrückung zu achten."
   ]
  },
  {
   "cell_type": "code",
   "execution_count": 30,
   "metadata": {},
   "outputs": [],
   "source": [
    "class RGB:\n",
    "    def write(self):  # erster Parameter von Methoden ist immer self\n",
    "        print('Es wurde auf die Schnittstelle geschrieben.')"
   ]
  },
  {
   "cell_type": "code",
   "execution_count": 31,
   "metadata": {},
   "outputs": [
    {
     "name": "stdout",
     "output_type": "stream",
     "text": [
      "Es wurde auf die Schnittstelle geschrieben.\n"
     ]
    }
   ],
   "source": [
    "rgb = RGB()  # Objekt wird initialisiert\n",
    "rgb.write()  # Methodenaufruf: objekt.methode()"
   ]
  },
  {
   "cell_type": "markdown",
   "metadata": {},
   "source": [
    "Es fällt auf, dass der Parameter *self* nur bei der Definition der Methode erscheint, nicht aber beim Methodenaufruf."
   ]
  },
  {
   "cell_type": "markdown",
   "metadata": {},
   "source": [
    "#### 8.2.1.1 Magische Methoden\n",
    "\n",
    "Es existieren Methoden, welche bei der Erstellung einer Klasse als Standard hinterlegt sind. Diese werden als *Magische Methoden* bezeichnet und zeichnen sich dadurch aus, dass der Methodenname immer mit jeweils zwei Unterstrichen startet und endet (`__methodenname__()`).\n",
    "\n",
    "#### `__init__()`-Methode\n",
    "\n",
    "Die wichtigste der magischen Methoden ist die Methode `__init__()`. Diese wird bei der Objekterzeugung bzw. Initialisierung des Objektes automatisch aufgerufen. Diese Methode sollte immer als erste Methode innerhalb einer Klasse aufgelistet werden und ist vergleichbar mit einem Konstruktor in anderen Programmiersprachen. In dieser Methode werden üblicherweise die Objektattribute gesetzt (im Falle des RGB-Objektes z.B. die Attribute *port* und *default_color* etc.)."
   ]
  },
  {
   "cell_type": "markdown",
   "metadata": {},
   "source": [
    "### 8.2.2 Attribute\n",
    "\n",
    "Im nachfolgenden Beispiel ist nun ersichtlich, wie die beiden Attribute *port* und *default_color* in der `__init__()`-Methode gesetzt werden. Wie bei normalen Funktionen können der `__init__()`-Methode beliebige Parameter übergeben werden und wie üblich auch Standardwerte gesetzt werden."
   ]
  },
  {
   "cell_type": "code",
   "execution_count": 41,
   "metadata": {},
   "outputs": [],
   "source": [
    "class RGB:\n",
    "    def __init__(self, port='COM5', default_color=(0,0,0)): \n",
    "        self.port = port  # Attribut (Objektattribut): port\n",
    "        self.default_color = default_color  # Attribut (Objektattribut): default_color\n",
    "\n",
    "    def status(self):\n",
    "        print('Die RGB-Matrix wurde mit Port {} und der Farbe {} initialisiert.'.format(self.port, self.default_color))"
   ]
  },
  {
   "cell_type": "code",
   "execution_count": 42,
   "metadata": {},
   "outputs": [
    {
     "name": "stdout",
     "output_type": "stream",
     "text": [
      "Die RGB-Matrix wurde mit Port COM9 und der Farbe [1, 0, 0] initialisiert.\n"
     ]
    }
   ],
   "source": [
    "rgb = RGB(port='COM9', default_color=[1, 0, 0])  # Objekt wird mit spezifischen Werten für Port und Farbe initialisiert\n",
    "rgb.status()"
   ]
  },
  {
   "cell_type": "markdown",
   "metadata": {},
   "source": [
    "#### `__str__()`-Methode\n",
    "\n",
    "Eine weitere *Magic Method* ist die Methode `__str__()`, welche automatisch aufgerufen wird, wenn die `print()`-Funktion auf das Objekt angewendet wird. Diese Methode kann verwendet werden, um einen \"menschenlesbaren\" Output zu generieren."
   ]
  },
  {
   "cell_type": "code",
   "execution_count": 43,
   "metadata": {},
   "outputs": [
    {
     "name": "stdout",
     "output_type": "stream",
     "text": [
      "<__main__.RGB object at 0x000001C17BF092A0>\n"
     ]
    }
   ],
   "source": [
    "rgb = RGB()\n",
    "print(rgb)  # print-Funktion liefert standardmässig keinen sehr aussagekräftigen Output"
   ]
  },
  {
   "cell_type": "markdown",
   "metadata": {},
   "source": [
    "Im Folgenden wird nun die `__str__()`-Methode implementiert, damit ein \"besserer\" Output der `print()`-Funktion erreicht wird."
   ]
  },
  {
   "cell_type": "code",
   "execution_count": 44,
   "metadata": {},
   "outputs": [],
   "source": [
    "class RGB:\n",
    "    def __init__(self, port='COM5', default_color=(0,0,0)): \n",
    "        self.port = port\n",
    "        self.default_color = default_color\n",
    "\n",
    "    def status(self):\n",
    "        print('Die RGB-Matrix wurde mit Port {} und der Farbe {} initialisiert.'.format(self.port, self.default_color))\n",
    "\n",
    "    def __str__(self):\n",
    "        s = 'RGB(port={}, default_color={})'.format(self.port, self.default_color)\n",
    "        return s"
   ]
  },
  {
   "cell_type": "code",
   "execution_count": 45,
   "metadata": {
    "tags": []
   },
   "outputs": [
    {
     "name": "stdout",
     "output_type": "stream",
     "text": [
      "RGB(port=COM9, default_color=(0, 0, 0))\n"
     ]
    }
   ],
   "source": [
    "rgb = RGB(port='COM9')\n",
    "print(rgb)"
   ]
  },
  {
   "cell_type": "markdown",
   "metadata": {},
   "source": [
    "Nachdem die \\_\\_str\\_\\_-Methode sinngemäss definiert wurde, macht das Resultat der Print-Anweisung auch mehr Sinn. <br>\n",
    "Somit sind bereits zwei magische Methoden bekannt!"
   ]
  },
  {
   "cell_type": "markdown",
   "metadata": {
    "tags": []
   },
   "source": [
    "### 8.2.3 Statische Methoden\n",
    "\n",
    "Weist eine Methode keinerlei Bezug zum Objekt der Klasse auf, kann diese als **statische Methode** innerhalb der Klasse definiert werden. Statische Methoden können auch ohne ein entsprechendes Objekt der Klasse aufgerufen werden und besitzen deshalb das *self*-Argument nicht. Eine statische Methode wird mit `@staticmethod` dekoriert. Statische Methode sind \"normale\" Funktionen und könnten auch ausserhalb der Klasse definiert werden, doch da sie z.B. thematisch oder aus Designgründen zu Klasse gehören, ist es durchaus sinnvoll, dass sie innerhalb der Klasse definiert werden.\n",
    "\n",
    "Im nachfolgenden Beispiel der *RGB*-Klasse ist die `write()`-Methode eine statische Methode, da sie keine Verbindung zum Objekt der Klasse aufweist. Der Aufruf der statischen Methode kann analog zu einer \"normalen\" Objektmethode erfolgen oder via *Klassenname.methode()*."
   ]
  },
  {
   "cell_type": "code",
   "execution_count": 48,
   "metadata": {
    "tags": []
   },
   "outputs": [],
   "source": [
    "class RGB:\n",
    "    # Magische Methode: __init__\n",
    "    def __init__(self, port='COM5', default_color=(0, 0, 0)):  # Attribute mit Standardwerten definiert\n",
    "        self.port = port  # Attribut (Objektattribut): port\n",
    "        self.default_color = default_color  # Attribut (Objektattribut): default_color\n",
    "\n",
    "    def status(self):\n",
    "        print('Die RGB-Matrix wurde mit Port {} und der Farbe {} initialisiert.'.format(self.port, self.default_color))\n",
    "\n",
    "    @staticmethod\n",
    "    def write():\n",
    "        print('Es wird auf die Schnittstelle geschrieben.')\n",
    "\n",
    "    def __str__(self):\n",
    "        s = 'RGB(port={}, default_color={})'.format(self.port, self.default_color)\n",
    "        return s"
   ]
  },
  {
   "cell_type": "code",
   "execution_count": 49,
   "metadata": {},
   "outputs": [
    {
     "name": "stdout",
     "output_type": "stream",
     "text": [
      "Es wird auf die Schnittstelle geschrieben.\n"
     ]
    }
   ],
   "source": [
    "RGB.write()  # Aufruf via Klassenname"
   ]
  },
  {
   "cell_type": "markdown",
   "metadata": {},
   "source": [
    "### 8.2.4 Klassendiagramme\n",
    "\n",
    "Eine anschauliche Art, Klassen zu visualisieren bieten die sogenannten *Klassendiagramme*. Darin werden Klassen grafisch beschrieben. Nachfolgend ist das Klassendiagramm der oben definierten Klasse *RGB* dargestellt.\n",
    "\n",
    "<center>\n",
    "<img src=\"IMG/klassendiagramm_intro.png\" />\n",
    "</center>\n",
    "<br>\n",
    "\n",
    "Klassendiagramme geben einen schnellen Überblick über den Funktionsumfang (Attribute/Methoden) einer Klasse, ohne die eigentliche Implementation studieren zu müssen. In den weiteren Kapiteln werden zusätzlich Funktionen der Klassendiagramme gezeigt, welche betreffend Struktur sehr nützlich sind. "
   ]
  },
  {
   "cell_type": "markdown",
   "metadata": {},
   "source": [
    "### 8.2.5 Aufgabe\n",
    "\n",
    "Analysieren Sie die Klasse *RgbFpga* (*abbts_blp.rgb*), die wir für die RGB-Matrix verwenden. Beantworten Sie folgende Fragen:\n",
    "\n",
    "- Listen Sie die Attribute der Klasse auf.\n",
    "- Listen Sie die Methoden der Klasse auf.\n",
    "- Enthält die Klasse statische Methoden? Wenn ja, welche?\n",
    "- Welche magischen Methoden werden in der Klasse verwendet (überschrieben)?"
   ]
  },
  {
   "cell_type": "markdown",
   "metadata": {},
   "source": [
    "---\n",
    "<p style='text-align: right; font-size: 70%;'>Grundlagen Python (PYT_G01) / 2024</p>"
   ]
  }
 ],
 "metadata": {
  "kernelspec": {
   "display_name": "Python 3 (ipykernel)",
   "language": "python",
   "name": "python3"
  },
  "language_info": {
   "codemirror_mode": {
    "name": "ipython",
    "version": 3
   },
   "file_extension": ".py",
   "mimetype": "text/x-python",
   "name": "python",
   "nbconvert_exporter": "python",
   "pygments_lexer": "ipython3",
   "version": "3.10.11"
  }
 },
 "nbformat": 4,
 "nbformat_minor": 4
}
