{
 "cells": [
  {
   "cell_type": "markdown",
   "metadata": {
    "tags": []
   },
   "source": [
    "<img src=\"IMG/PYT_G01_logo.svg\" width=\"100%\"/>\n",
    "<a href=\"0_Einfuehrung_Inhalt.ipynb\" target=\"_blank\">&larr; Einführung/Inhalt</a>"
   ]
  },
  {
   "cell_type": "markdown",
   "metadata": {},
   "source": [
    "### 2.2.1 Listen und Tupel im Detail\n",
    "\n",
    "Listen und Tupel beinhalten Elemente, welche über die Indizierung adressiert werden können. Ebenfalls kann die Anzahl der Elemente ermittelt werden. Nun werden die beiden Datentypen detaillierter betrachtet. Der wesentliche Unterschied zwischen einer Liste und einem Tupel besteht in der Veränderbarkeit bzw. Unveränderbarkeit:\n",
    "\n",
    "- **Liste**: **veränderbar (mutable)**, d.h. Elemente können manipuliert werden (überschrieben, gelöscht, hinzugefügt etc.)\n",
    "- **Tupel**: **unveränderbar (immutable)**, d.h. Elemente können nicht manipuliert werden (überschrieben, gelöscht, hinzugefügt etc.)\n",
    "\n",
    "Es gilt daher, dass alle Operationen, die zu keiner Veränderung des Inhalts führen, sowohl für Listen als auch für Tupel existieren (z.B. `.index()`, `.count()`, etc.). Operationen, welche den Inhalt verändern, sind aufgrund der Unveränderbarkeit von Tupeln nur für Listen definiert (z.B. `.pop()`, `.append()`, `.insert()`).\n",
    "\n",
    "Operationen:\n",
    "\n",
    "- Elemente einer Liste anhängen\n",
    "- Einfügen von Elementen\n",
    "- Elemente aus einer Liste entfernen\n",
    "- Inhalt einer Liste\n",
    "- Index ermitteln\n",
    "- Listen sortieren"
   ]
  },
  {
   "cell_type": "code",
   "execution_count": 69,
   "metadata": {},
   "outputs": [
    {
     "name": "stdout",
     "output_type": "stream",
     "text": [
      "[100, 3.9, 451, 55, 34]\n",
      "(100, 3.9, 451, 55, 34)\n"
     ]
    }
   ],
   "source": [
    "liste = [100, 3.9, 451, 55, 34]\n",
    "tupel = (100, 3.9, 451, 55, 34)\n",
    "print(liste)\n",
    "print(tupel)"
   ]
  },
  {
   "cell_type": "markdown",
   "metadata": {},
   "source": [
    "#### Elemente ändern (überschreiben)\n",
    "\n",
    "Wie wir im letzten Kapitel gesehen haben, können Elemente einer Liste via Indexierung und Zuweisung überschrieben werden. Dies ist bei Tupeln nicht möglich, da diese unveränderbar (immutable) sind."
   ]
  },
  {
   "cell_type": "code",
   "execution_count": 70,
   "metadata": {},
   "outputs": [
    {
     "name": "stdout",
     "output_type": "stream",
     "text": [
      "[100, 99, 451, 55, 34]\n"
     ]
    }
   ],
   "source": [
    "liste[1] = 99\n",
    "print(liste)"
   ]
  },
  {
   "cell_type": "code",
   "execution_count": 71,
   "metadata": {},
   "outputs": [
    {
     "ename": "TypeError",
     "evalue": "'tuple' object does not support item assignment",
     "output_type": "error",
     "traceback": [
      "\u001b[1;31m---------------------------------------------------------------------------\u001b[0m",
      "\u001b[1;31mTypeError\u001b[0m                                 Traceback (most recent call last)",
      "Cell \u001b[1;32mIn[71], line 1\u001b[0m\n\u001b[1;32m----> 1\u001b[0m \u001b[43mtupel\u001b[49m\u001b[43m[\u001b[49m\u001b[38;5;241;43m1\u001b[39;49m\u001b[43m]\u001b[49m \u001b[38;5;241m=\u001b[39m \u001b[38;5;241m99\u001b[39m  \u001b[38;5;66;03m# nicht erlaubt, da Tupel immutable\u001b[39;00m\n",
      "\u001b[1;31mTypeError\u001b[0m: 'tuple' object does not support item assignment"
     ]
    }
   ],
   "source": [
    "tupel[1] = 99  # nicht erlaubt, da Tupel unveränderbar (immutable)"
   ]
  },
  {
   "cell_type": "markdown",
   "metadata": {},
   "source": [
    "#### Element(e) anhängen (am Ende)"
   ]
  },
  {
   "cell_type": "code",
   "execution_count": 72,
   "metadata": {},
   "outputs": [
    {
     "name": "stdout",
     "output_type": "stream",
     "text": [
      "[100, 99, 451, 55, 34, 345.34]\n"
     ]
    }
   ],
   "source": [
    "# am Ende einer Liste ein Element anfügen\n",
    "liste.append(345.34)\n",
    "print(liste)"
   ]
  },
  {
   "cell_type": "code",
   "execution_count": 73,
   "metadata": {},
   "outputs": [
    {
     "name": "stdout",
     "output_type": "stream",
     "text": [
      "[100, 99, 451, 55, 34, 345.34, 45, 56, 10.9]\n"
     ]
    }
   ],
   "source": [
    "# falls mehrere Element hinzugefügt werden sollen\n",
    "liste.extend([45, 56, 10.9])  # Parameter muss iterierbar sein, alternativ kann auch +-Operator verwendet werden.\n",
    "print(liste)"
   ]
  },
  {
   "cell_type": "markdown",
   "metadata": {},
   "source": [
    "Achtung: Falls oben `.append` anstelle von `.extend` verwendet worden wäre, wären die drei Elemente [45, 56, 10.9] als Liste (= 1 Element) angehängt worden. Somit wäre eine verschachtelte Liste entstanden."
   ]
  },
  {
   "cell_type": "markdown",
   "metadata": {},
   "source": [
    "#### Elemente an beliebiger Stelle einfügen"
   ]
  },
  {
   "cell_type": "code",
   "execution_count": 74,
   "metadata": {},
   "outputs": [
    {
     "name": "stdout",
     "output_type": "stream",
     "text": [
      "[100, 99, 'neues Element', 451, 55, 34, 345.34, 45, 56, 10.9]\n"
     ]
    }
   ],
   "source": [
    "# einfügen eines Elementes an eine beliebige Stelle innerhalb einer Liste (nicht am Schluss, sonst append())\n",
    "liste.insert(2, 'neues Element')\n",
    "print(liste)"
   ]
  },
  {
   "cell_type": "markdown",
   "metadata": {},
   "source": [
    "#### Element entnehmen"
   ]
  },
  {
   "cell_type": "code",
   "execution_count": 75,
   "metadata": {},
   "outputs": [
    {
     "name": "stdout",
     "output_type": "stream",
     "text": [
      "10.9\n",
      "[100, 99, 'neues Element', 451, 55, 34, 345.34, 45, 56]\n"
     ]
    }
   ],
   "source": [
    "# i-tes Element zurückgeben und aus Liste entfernen\n",
    "letztes_element = liste.pop()  # ohne Parameter wird das letzte Element entfernt\n",
    "print(letztes_element)\n",
    "print(liste)"
   ]
  },
  {
   "cell_type": "code",
   "execution_count": 76,
   "metadata": {},
   "outputs": [
    {
     "name": "stdout",
     "output_type": "stream",
     "text": [
      "neues Element\n",
      "[100, 99, 451, 55, 34, 345.34, 45, 56]\n"
     ]
    }
   ],
   "source": [
    "i_te_element = liste.pop(2)  # Element mit Index = 2 entfernen\n",
    "print(i_te_element)\n",
    "print(liste)"
   ]
  },
  {
   "cell_type": "code",
   "execution_count": 77,
   "metadata": {},
   "outputs": [
    {
     "name": "stdout",
     "output_type": "stream",
     "text": [
      "[100, 99, 451, 55, 345.34, 45, 56]\n"
     ]
    }
   ],
   "source": [
    "# entfernen eines Elementes (Wertes) ohne Kenntnis des entsprechenden Indexes\n",
    "liste.remove(34)  # es wird nur jeweils ein Element entfernt. Falls Wert mehrfach vorhanden ist, muss remove() mehrmals ausgeführt werden.\n",
    "print(liste)"
   ]
  },
  {
   "cell_type": "markdown",
   "metadata": {},
   "source": [
    "#### Zählen / auf Element prüfen"
   ]
  },
  {
   "cell_type": "code",
   "execution_count": 78,
   "metadata": {},
   "outputs": [
    {
     "name": "stdout",
     "output_type": "stream",
     "text": [
      "1\n",
      "True\n"
     ]
    }
   ],
   "source": [
    "# zählen von Werten in einer Liste/Tupel\n",
    "anzahl = liste.count(345.34)\n",
    "print(anzahl)\n",
    "\n",
    "# ist entsprechendes Element enthalten?\n",
    "print(345.34 in liste)"
   ]
  },
  {
   "cell_type": "code",
   "execution_count": 79,
   "metadata": {},
   "outputs": [
    {
     "data": {
      "text/plain": [
       "3"
      ]
     },
     "execution_count": 79,
     "metadata": {},
     "output_type": "execute_result"
    }
   ],
   "source": [
    "# Position eines Elementes innerhalb einer Liste ermitteln (es wird nur der Index des ersten Elements zurückgegeben)\n",
    "liste.index(55)\n",
    "# optional können noch Start- und Endindex der Suche übergeben werden, z.B. liste.index(55, 1, 3)"
   ]
  },
  {
   "cell_type": "markdown",
   "metadata": {},
   "source": [
    "#### Sortieren"
   ]
  },
  {
   "cell_type": "code",
   "execution_count": 80,
   "metadata": {},
   "outputs": [
    {
     "name": "stdout",
     "output_type": "stream",
     "text": [
      "Die unsortierte Liste:  [100, 99, 451, 55, 345.34, 45, 56]\n",
      "Die sortierte Liste:  [45, 55, 56, 99, 100, 345.34, 451]\n",
      "Die sortierte Liste:  [45, 55, 56, 99, 100, 345.34, 451]\n",
      "Die Liste umgekehrt sortiert:  [451, 345.34, 100, 99, 56, 55, 45]\n"
     ]
    }
   ],
   "source": [
    "print('Die unsortierte Liste: ', liste)\n",
    "liste.sort()  # sort() liefert nicht die sortierte Liste zurück! Rückgabewert ist None\n",
    "print('Die sortierte Liste: ', liste)\n",
    "# Alternative\n",
    "liste_sortiert = sorted(liste)\n",
    "print('Die sortierte Liste: ', liste_sortiert)\n",
    "# die Sortierreihenfolge kann auch invertriert werden\n",
    "liste.sort(reverse=True)  # oder auch sorted(liste, reverse=True)\n",
    "print('Die Liste umgekehrt sortiert: ', liste)"
   ]
  },
  {
   "cell_type": "markdown",
   "metadata": {},
   "source": [
    "#### Mehrfachzuweisungen / Packing & Unpacking\n",
    "\n",
    "Python erlaubt auch Mehrfachzuweisungen. Dies ist besonders nützlich im Zusammenhang mit Rückgabewerten von Funktionen etc. Die rechte Seite des Beispiels unten `0, 1` bildet ein Tupel, welches in die numerischen Variablen `a` und `b` \"aufgeteilt\" wird."
   ]
  },
  {
   "cell_type": "code",
   "execution_count": 81,
   "metadata": {},
   "outputs": [
    {
     "name": "stdout",
     "output_type": "stream",
     "text": [
      "0\n",
      "1\n"
     ]
    }
   ],
   "source": [
    "a, b = 0, 1\n",
    "print(a)\n",
    "print(b)"
   ]
  },
  {
   "cell_type": "code",
   "execution_count": 82,
   "metadata": {},
   "outputs": [
    {
     "name": "stdout",
     "output_type": "stream",
     "text": [
      "34\n",
      "[44, 6743, 89]\n"
     ]
    }
   ],
   "source": [
    "erste, *weitere = 34, 44, 6743, 89\n",
    "print(erste)\n",
    "print(weitere)"
   ]
  },
  {
   "cell_type": "markdown",
   "metadata": {},
   "source": [
    "---\n",
    "<p style='text-align: right; font-size: 70%;'>Grundlagen Python (PYT_G01) / 2024</p>"
   ]
  }
 ],
 "metadata": {
  "kernelspec": {
   "display_name": "Python 3 (ipykernel)",
   "language": "python",
   "name": "python3"
  },
  "language_info": {
   "codemirror_mode": {
    "name": "ipython",
    "version": 3
   },
   "file_extension": ".py",
   "mimetype": "text/x-python",
   "name": "python",
   "nbconvert_exporter": "python",
   "pygments_lexer": "ipython3",
   "version": "3.10.11"
  }
 },
 "nbformat": 4,
 "nbformat_minor": 4
}
