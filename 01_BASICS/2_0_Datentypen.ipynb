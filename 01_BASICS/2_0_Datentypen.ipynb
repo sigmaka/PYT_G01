{
 "cells": [
  {
   "cell_type": "markdown",
   "metadata": {
    "tags": []
   },
   "source": [
    "<img src=\"IMG/PYT_G01_logo.svg\" width=\"100%\"/>\n",
    "<a href=\"0_Einfuehrung_Inhalt.ipynb\" target=\"_blank\">&larr; Einführung/Inhalt</a>"
   ]
  },
  {
   "cell_type": "markdown",
   "metadata": {},
   "source": [
    "# 2. Datentypen\n",
    "\n",
    "Wie in anderen Programmiersprachen bietet Python verschiedene Datentypen.\n",
    "\n",
    "### 2.1 [Numerische Datentypen](2_1_Numerische_Datentypen.ipynb)\n",
    "\n",
    "| Datentyp          | (Englisch)        | Typ-Kennzeichnung | Beispiel          |\n",
    "| :--------         | :-------          | :-------          | :-------          |\n",
    "| ganze Zahl        | (integer)         | **int**           | `3`               |\n",
    "| Fliesskommazahl   | (floating point)  | **float**         | `1.23`            |\n",
    "| komplexe Zahl     | (complex number)  | **complex**       | `1.5 + 4.5j`      |\n",
    "| boolsche Variable | (bolean)          | **bool**          | `False`           |\n",
    "\n",
    "### 2.2 [Sequentielle Datentypen](2_2_0_Sequentielle_Datentypen.ipynb)\n",
    "\n",
    "| Datentyp          | (Englisch)        | Typ-Kennzeichnung | Beispiel              |\n",
    "| :--------         | :-------          | :-------          | :-------              |\n",
    "| Zeichenkette      | (string)          | **str**           | `'Hello World'`       |\n",
    "| Liste             | (list)            | **list**          | `[1, 2, 3.5, 'Name']` |\n",
    "| Tupel             | (tuple)           | **tuple**         | `(1, True, 'Python')` |\n",
    "\n",
    "### 2.3 [Mapping-Datentypen](2_3_Dictionaries.ipynb)\n",
    "\n",
    "| Datentyp          | (Englisch)            | Typ-Kennzeichnung  | Beispiel                      |\n",
    "| :--------         | :-------              | :-------           | :-------                       |\n",
    "| Dictionary        | (dictionary)          | **dict**           | `{'Name': John, 'Age': 43}`   |\n",
    "\n",
    "### 2.4 [Collection-Datentypen](2_4_Mengen.ipynb)\n",
    "\n",
    "| Datentyp          | (Englisch)     | Typ-Kennzeichnung | Beispiel                      |\n",
    "| :--------         | :-------       | :-------          | :-------                      |\n",
    "| Menge             | (set)          | **set**           | `{1, 3, 5, 'Hello', 'World'}` |"
   ]
  },
  {
   "cell_type": "code",
   "execution_count": 13,
   "metadata": {},
   "outputs": [
    {
     "name": "stdout",
     "output_type": "stream",
     "text": [
      "x:  3 <class 'int'>\n",
      "y:  3.75 <class 'float'>\n",
      "z:  (3+5j) <class 'complex'>\n",
      "b:  True <class 'bool'>\n",
      "s:  Ich bin ein String <class 'str'>\n",
      "l:  [3, 4.67, 'Liste'] <class 'list'>\n",
      "t:  (3, 4.67, 'Tupel') <class 'tuple'>\n",
      "d:  {'Kp': 2.45, 'Ti': 0.34, 'Td': 0.21} <class 'dict'>\n",
      "m:  {1, 2, 3.5, '1.25'} <class 'set'>\n"
     ]
    }
   ],
   "source": [
    "x = 3  # Ganzzahl (Integer)\n",
    "y = 3.75  # Fliesskommazahl (Floating-Point)\n",
    "z = 3 + 5j  # Komplexe Zahl\n",
    "b = True  # Boolscher Wert\n",
    "s = 'Ich bin ein String'  # Zeichenkette String\n",
    "l = [3, 4.67, 'Liste']  # Liste\n",
    "t = (3, 4.67, 'Tupel')  # Tupel\n",
    "d = {'Kp': 2.45, 'Ti': 0.34, 'Td': 0.21}  # Dictionary\n",
    "m = {1, 2, 3.5, '1.25'}\n",
    "\n",
    "print('x: ', x, type(x))\n",
    "print('y: ', y, type(y))\n",
    "print('z: ', z, type(z))\n",
    "print('b: ', b, type(b))\n",
    "print('s: ', s, type(s))\n",
    "print('l: ', l, type(l))\n",
    "print('t: ', t, type(t))\n",
    "print('d: ', d, type(d))\n",
    "print('m: ', m, type(m))"
   ]
  },
  {
   "cell_type": "markdown",
   "metadata": {},
   "source": [
    "## Datentyp ermitteln und umwandeln\n",
    "\n",
    "Wie bereits in den obigen Beispielen ersichtlich kann der Datentyp über die Funktion `type()` ermittelt werden. Eine weitere Möglichkeit dies zu tun, erlaubt die Funktion `isinstance()`, welche einen Wahrheitswert *True* oder *False* zurückgibt."
   ]
  },
  {
   "cell_type": "code",
   "execution_count": 3,
   "metadata": {},
   "outputs": [
    {
     "data": {
      "text/plain": [
       "True"
      ]
     },
     "execution_count": 3,
     "metadata": {},
     "output_type": "execute_result"
    }
   ],
   "source": [
    "isinstance(y, float)  # Ist y eine Fliesskommazahl?"
   ]
  },
  {
   "cell_type": "markdown",
   "metadata": {},
   "source": [
    "Der Datentyp einer Variable kann in einen andern Datentyp umgewandelt werden. Nützliche Funktionen dafür sind `int()`, `float()`, `bool()`, `str()`, `list()`, `dict()`, etc. Natürlich sind nur \"sinnvolle\" Umwandlungen möglich (z. B. kann der String \"Hallo\" nicht in eine Zahl umgewandelt werden, der String \"1234\" jedoch problemlos)."
   ]
  },
  {
   "cell_type": "code",
   "execution_count": 17,
   "metadata": {},
   "outputs": [
    {
     "name": "stdout",
     "output_type": "stream",
     "text": [
      "Wert & Datentyp von y: 3.75 <class 'float'>\n",
      "Wert & Datentyp von y: 3 <class 'int'>\n"
     ]
    }
   ],
   "source": [
    "print('Wert & Datentyp von y:', y, type(y))\n",
    "y = int(y)  # Umwandeln in Ganzzahl (Integer)\n",
    "print('Wert & Datentyp von y:', y, type(y))"
   ]
  },
  {
   "cell_type": "code",
   "execution_count": 18,
   "metadata": {},
   "outputs": [
    {
     "name": "stdout",
     "output_type": "stream",
     "text": [
      "Wert & Datentyp von y: 3 <class 'str'>\n"
     ]
    }
   ],
   "source": [
    "y = str(y)  # Umwandeln in String\n",
    "print('Wert & Datentyp von y:', y, type(y))"
   ]
  },
  {
   "cell_type": "markdown",
   "metadata": {},
   "source": [
    "---\n",
    "<p style='text-align: right; font-size: 70%;'>Grundlagen Python (PYT_G01) / 2024</p>"
   ]
  }
 ],
 "metadata": {
  "kernelspec": {
   "display_name": "Python 3 (ipykernel)",
   "language": "python",
   "name": "python3"
  },
  "language_info": {
   "codemirror_mode": {
    "name": "ipython",
    "version": 3
   },
   "file_extension": ".py",
   "mimetype": "text/x-python",
   "name": "python",
   "nbconvert_exporter": "python",
   "pygments_lexer": "ipython3",
   "version": "3.10.11"
  }
 },
 "nbformat": 4,
 "nbformat_minor": 4
}
