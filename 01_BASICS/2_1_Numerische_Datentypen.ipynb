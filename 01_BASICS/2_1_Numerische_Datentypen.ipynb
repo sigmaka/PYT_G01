{
 "cells": [
  {
   "cell_type": "markdown",
   "metadata": {
    "tags": []
   },
   "source": [
    "<img src=\"IMG/PYT_G01_logo.svg\" width=\"100%\"/>\n",
    "<a href=\"0_Einfuehrung_Inhalt.ipynb\" target=\"_blank\">&larr; Einführung/Inhalt</a>"
   ]
  },
  {
   "cell_type": "markdown",
   "metadata": {
    "tags": []
   },
   "source": [
    "## 2.1 Numerische Datentypen\n",
    "\n",
    "### 2.1.1 Ganzzahl (Integer)\n",
    "\n",
    "Ganze Zahlen $ -3, -2, -1, 0, 1, 2, 3 $ werden als **Integer (int)** bezeichnet und sind in Python, im Gegensatz zu anderen Programmiersprachen, nicht durch einen Maximalwert begrenzt. "
   ]
  },
  {
   "cell_type": "code",
   "execution_count": 20,
   "metadata": {},
   "outputs": [
    {
     "data": {
      "text/plain": [
       "int"
      ]
     },
     "execution_count": 20,
     "metadata": {},
     "output_type": "execute_result"
    }
   ],
   "source": [
    "d = 11\n",
    "type(d)"
   ]
  },
  {
   "cell_type": "markdown",
   "metadata": {},
   "source": [
    "Es können auch Binär `0b..`, Oktal `0o..` und Hexadezimalzahlen `0x..` verwendet werden."
   ]
  },
  {
   "cell_type": "code",
   "execution_count": 24,
   "metadata": {},
   "outputs": [
    {
     "name": "stdout",
     "output_type": "stream",
     "text": [
      "11 3 9 17\n"
     ]
    }
   ],
   "source": [
    "b = 0b11  # binär (2er-Zahlensystem)\n",
    "o = 0o11  # oktal (8er-Zahlensystem)\n",
    "h = 0x11  # hexadezimal (16er-Zahlensystem)\n",
    "print(d, b, o, h)"
   ]
  },
  {
   "cell_type": "markdown",
   "metadata": {},
   "source": [
    "Mit den Funktionen `bin()`, `oct()` und `hex()` verwandelt man die Integer-Zahl in einen Binär-, Oktal- bzw. HexadezimalString."
   ]
  },
  {
   "cell_type": "code",
   "execution_count": 25,
   "metadata": {},
   "outputs": [
    {
     "name": "stdout",
     "output_type": "stream",
     "text": [
      "0b1011 0o13 0xb\n"
     ]
    }
   ],
   "source": [
    "b = bin(d)\n",
    "o = oct(d)\n",
    "h = hex(d)\n",
    "print(b, o, h)"
   ]
  },
  {
   "cell_type": "markdown",
   "metadata": {},
   "source": [
    "### 2.1.2 Fliesskommazahl (Floating Point)\n",
    "\n",
    "Fliesskommazahlen entsprechen dem Datentyp **float** in Python. Hier muss immer der Dezimalpunkt verwendet werden."
   ]
  },
  {
   "cell_type": "code",
   "execution_count": 35,
   "metadata": {},
   "outputs": [
    {
     "data": {
      "text/plain": [
       "float"
      ]
     },
     "execution_count": 35,
     "metadata": {},
     "output_type": "execute_result"
    }
   ],
   "source": [
    "x = 42.3456\n",
    "type(x)"
   ]
  },
  {
   "cell_type": "markdown",
   "metadata": {},
   "source": [
    "Nützlich im technisch-wissenschaftlichen Kontext ist die Exponentialschreibweise für kleine/grosse Zahlen."
   ]
  },
  {
   "cell_type": "code",
   "execution_count": 36,
   "metadata": {},
   "outputs": [],
   "source": [
    "y = 1.453e2  # 145.3\n",
    "z = 6.45e-6  # 0.00000645"
   ]
  },
  {
   "cell_type": "markdown",
   "metadata": {},
   "source": [
    "### 2.1.3 Boolsche Werte (Boolean)\n",
    "\n",
    "Dieser Datentyp kennt nur die beiden Zustände *True* und *False*."
   ]
  },
  {
   "cell_type": "code",
   "execution_count": 38,
   "metadata": {},
   "outputs": [
    {
     "data": {
      "text/plain": [
       "bool"
      ]
     },
     "execution_count": 38,
     "metadata": {},
     "output_type": "execute_result"
    }
   ],
   "source": [
    "x = True\n",
    "type(x)"
   ]
  },
  {
   "cell_type": "markdown",
   "metadata": {},
   "source": [
    "Boolsche Werte sind häufig das Resultat von Vergleichen, Abfragen etc. Mit den logischen Operatoren `not`, `and`, `or`, etc. können boolsche Variablen manipuliert bzw. verknüpft werden."
   ]
  },
  {
   "cell_type": "code",
   "execution_count": 40,
   "metadata": {},
   "outputs": [
    {
     "name": "stdout",
     "output_type": "stream",
     "text": [
      "y = False\n",
      "z = True\n"
     ]
    }
   ],
   "source": [
    "y = not x\n",
    "print('y =', y)\n",
    "\n",
    "z = x or y\n",
    "print('z =', z)"
   ]
  },
  {
   "cell_type": "markdown",
   "metadata": {},
   "source": [
    "### 2.1.4 Komplexe Zahlen\n",
    "Im Unterschied zu den meisten anderen Sprachen, bietet Python den Datentyp *complex*. Wie in der Elektrotechnik, nutzt Python j für die imaginäre Einheit. <br>"
   ]
  },
  {
   "cell_type": "code",
   "execution_count": 49,
   "metadata": {},
   "outputs": [
    {
     "data": {
      "text/plain": [
       "complex"
      ]
     },
     "execution_count": 49,
     "metadata": {},
     "output_type": "execute_result"
    }
   ],
   "source": [
    "x = 2 + 6j\n",
    "type(x)"
   ]
  },
  {
   "cell_type": "markdown",
   "metadata": {},
   "source": [
    "Dieser Datentyp besitzt zwei Attribute `.real` und `.imag` und eine Methode `.conjugate()`. Auf diese beiden Begriffe *Attribut* und *Methode* werden wir im Rahmen der objektorientierten Programmierung detailliert eingehen."
   ]
  },
  {
   "cell_type": "code",
   "execution_count": 44,
   "metadata": {},
   "outputs": [
    {
     "name": "stdout",
     "output_type": "stream",
     "text": [
      "Realteil von x: 2.0\n",
      "Imaginärteil von x: 6.0\n"
     ]
    }
   ],
   "source": [
    "print('Realteil von x:', x.real)\n",
    "print('Imaginärteil von x:',  x.imag)"
   ]
  },
  {
   "cell_type": "markdown",
   "metadata": {},
   "source": [
    "### 2.1.5 Operatoren\n",
    "\n",
    "Neben den bekannten mathematischen Operationen (`+`,`-`,`*`,`/`) existieren eine ganzzahlige Division `//`, eine Restdivision `%` (Modulo), das Potenzieren `**`. Der Betrag einer Zahl kann mit der Funktion `abs()` bestimmt werden."
   ]
  },
  {
   "cell_type": "code",
   "execution_count": 53,
   "metadata": {},
   "outputs": [
    {
     "name": "stdout",
     "output_type": "stream",
     "text": [
      "Das Ergebnis von 9 // 2 lautet: 4\n",
      "Das Ergebnis von 9 % 2 lautet: 1\n",
      "Der Betrag von -32.23 lautet: 32.23\n",
      "Das Ergebnis von 9 ^ 2 = 81\n"
     ]
    }
   ],
   "source": [
    "z = 9 // 2  # ganzzahlige Division\n",
    "print('Das Ergebnis von 9 // 2 lautet:', z)\n",
    "\n",
    "z = 9 % 2  # Modulo- oder Restdivision\n",
    "print('Das Ergebnis von 9 % 2 lautet:', z)\n",
    "\n",
    "z = abs(-32.23)\n",
    "print('Der Betrag von -32.23 lautet:', z)\n",
    "\n",
    "z = 9 ** 2  # potenzieren \n",
    "print('Das Ergebnis von 9 ^ 2 =', z)"
   ]
  },
  {
   "cell_type": "markdown",
   "metadata": {},
   "source": [
    "Falls mehrere Operatoren in einem Ausdruck verwendet werden, z.B. $x = 10 + 2 / (3 - 4)$ so ist die Priorität zu beachten (siehe nachfolgende Liste, Reihenfolge in absteigender Priorität). Wie in der Mathematik werden im Zweifelsfall am besten Klammern verwendet!"
   ]
  },
  {
   "cell_type": "markdown",
   "metadata": {},
   "source": [
    "| Operator                                                                                                                                                                                            | Beschreibung\n",
    "| ---------                                                                                                                                                                                           | -----------\n",
    "| (&nbsp;&nbsp;)                                                                                                                                                                                      | Klammern\n",
    "| **                                                                                                                                                                                                  | Potenzierung\n",
    "| +x&nbsp;&nbsp;-x                                                                                                                                                                                    | Vorzeichen\n",
    "| *&nbsp;&nbsp;/&nbsp;&nbsp;//&nbsp;&nbsp;%                                                                                                                                                           | Multiplikation, Division, Ganzzahldivision, Modulo\n",
    "| +&nbsp;&nbsp;-                                                                                                                                                                                      | Addition, Subtraktion\n",
    "| ==&nbsp;&nbsp;!=&nbsp;&nbsp;>&nbsp;&nbsp;>=&nbsp;&nbsp;<&nbsp;&nbsp;\\<=&nbsp;&nbsp;is&nbsp;&nbsp;is not&nbsp;&nbsp;in&nbsp;&nbsp;not in&nbsp;&nbsp;&nbsp;&nbsp;&nbsp;&nbsp;&nbsp;&nbsp;&nbsp;&nbsp; | Vergleiche\n",
    "| not                                                                                                                                                                                                 | Logisch NICHT\n",
    "| and                                                                                                                                                                                                 | Logisch UND\n",
    "| or                                                                                                                                                                                                  | Logisch ODER"
   ]
  },
  {
   "cell_type": "markdown",
   "metadata": {},
   "source": [
    "### 2.1.6 Umwandlung\n",
    "\n",
    "Mit den Funktionen `int()`, `float()` bzw. `complex()` kann der Datentyp einer Zahl verändert werden. Zu beachten gilt, dass bei der Umwandlung einer Fliesskommazahl in eine Ganzzahl nicht gerundet wird! Zum expliziten Runden steht die Funktion `round()` zur Verfügung.\n"
   ]
  },
  {
   "cell_type": "code",
   "execution_count": 61,
   "metadata": {},
   "outputs": [
    {
     "data": {
      "text/plain": [
       "2"
      ]
     },
     "execution_count": 61,
     "metadata": {},
     "output_type": "execute_result"
    }
   ],
   "source": [
    "x = 2.75\n",
    "y = int(x)  # Umwandlung in Ganzahl (keine Rundung!)\n",
    "y"
   ]
  },
  {
   "cell_type": "code",
   "execution_count": 62,
   "metadata": {},
   "outputs": [
    {
     "data": {
      "text/plain": [
       "3"
      ]
     },
     "execution_count": 62,
     "metadata": {},
     "output_type": "execute_result"
    }
   ],
   "source": [
    "y = int(round(x))  # Umwandlung in Ganzahl (explizite Rundung)\n",
    "y"
   ]
  },
  {
   "cell_type": "markdown",
   "metadata": {},
   "source": [
    "---\n",
    "<p style='text-align: right; font-size: 70%;'>Grundlagen Python (PYT_G01) / 2024</p>"
   ]
  }
 ],
 "metadata": {
  "kernelspec": {
   "display_name": "Python 3 (ipykernel)",
   "language": "python",
   "name": "python3"
  },
  "language_info": {
   "codemirror_mode": {
    "name": "ipython",
    "version": 3
   },
   "file_extension": ".py",
   "mimetype": "text/x-python",
   "name": "python",
   "nbconvert_exporter": "python",
   "pygments_lexer": "ipython3",
   "version": "3.10.11"
  }
 },
 "nbformat": 4,
 "nbformat_minor": 4
}
