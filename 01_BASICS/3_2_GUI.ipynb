{
 "cells": [
  {
   "cell_type": "markdown",
   "metadata": {
    "tags": []
   },
   "source": [
    "# 3.2 GUI-Programmierung\n",
    "\n",
    "<img src=\"IMG/logo.png\" />\n",
    "<a href=\"0_Einfuehrung.ipynb\">&larr; Einführung/Inhalt</a>"
   ]
  },
  {
   "cell_type": "markdown",
   "metadata": {},
   "source": [
    "Eine wesentlicher Teil vieler Programme ist die Benutzeroberfläche, d. h. die Interaktion zwischen User und Programm. Im Gegensatz zu den bisherigen Programmen muss ein Programm, welches mit dem Benutzer interagiert, andauernd auf Eingaben (Tastatureingabe, Mausklicks und -bewegungen) reagieren können. Solche Programme enthalten einen *Event-Loop*, d. h. eine Schleife, die konstant \"läuft\" und Benutzerinteraktionen detektiert und korrekt verarbeitet.\n",
    "\n",
    "In Python gibt es verschiedene Pakete für die Erstellung einer allgemeinen Benutzeroberfläche. Zwei sehr verbreitete Pakete sind [tkinter](https://docs.python.org/3/library/tkinter.html) und [PyQt](https://wiki.python.org/moin/PyQt). Wir werden im Folgenden diese kurz anschauen, doch wir werden dabei lediglich \"an der Oberfläche kratzen\".\n",
    "\n",
    "## 3.2.1 IPyWidgets\n",
    "\n",
    "Bevor wir die umfangreichen GUI-Pakete anschauen, mit denen komplette Benutzeroberflächen erstellt werden können, schauen wir **IPyWidgets** an, mit dem man speziell in Jupyter noch interaktivere Notebooks erstellen kann. Dabei verwendet man sogenannte Widgets (Slider, Buttons, Textfelder, Dropdown-Menüs, ...), um die Interaktivität zu ermöglichen. Nachfolgend sind einige Beispiele aufgeführt."
   ]
  },
  {
   "cell_type": "code",
   "execution_count": 28,
   "metadata": {},
   "outputs": [
    {
     "data": {
      "application/vnd.jupyter.widget-view+json": {
       "model_id": "004601a16f944f668da54d8b25330b6b",
       "version_major": 2,
       "version_minor": 0
      },
      "text/plain": [
       "IntSlider(value=0)"
      ]
     },
     "execution_count": 28,
     "metadata": {},
     "output_type": "execute_result"
    }
   ],
   "source": [
    "from ipywidgets import widgets\n",
    "\n",
    "widgets.IntSlider()  # Slider"
   ]
  },
  {
   "cell_type": "code",
   "execution_count": 29,
   "metadata": {},
   "outputs": [
    {
     "data": {
      "application/vnd.jupyter.widget-view+json": {
       "model_id": "251049341fbe4f178181dd7a10b40e59",
       "version_major": 2,
       "version_minor": 0
      },
      "text/plain": [
       "Text(value='Text eingeben ...')"
      ]
     },
     "execution_count": 29,
     "metadata": {},
     "output_type": "execute_result"
    }
   ],
   "source": [
    "widgets.Text(value='Text eingeben ...')  # Textfeld"
   ]
  },
  {
   "cell_type": "code",
   "execution_count": 30,
   "metadata": {},
   "outputs": [
    {
     "data": {
      "application/vnd.jupyter.widget-view+json": {
       "model_id": "bff99e29bebb448d83076548d918a269",
       "version_major": 2,
       "version_minor": 0
      },
      "text/plain": [
       "Dropdown(description='Auswahl', options=('Option 1', 'Option 2', 'Option 3'), value='Option 1')"
      ]
     },
     "execution_count": 30,
     "metadata": {},
     "output_type": "execute_result"
    }
   ],
   "source": [
    "widgets.Dropdown(options=['Option 1', 'Option 2', 'Option 3'], description = 'Auswahl')  # Dropdown-Menü"
   ]
  },
  {
   "cell_type": "markdown",
   "metadata": {},
   "source": [
    "Sie können sicherlich Anwendungen vorstellen, wo die obigen Widgets die Interaktivität (und damit die \"Attraktivität\") eines Notebooks deutlich steigern könnten. Damit die Interaktionen mit den Widgets im Programm verarbeitet werden können, wird eine sogenannte *Callback-Funktion* (*Rückruffunktion*) definiert und an ein bestimmtes Widget \"gebunden\". Im nachfolgenden Beispiel wird ein Button-Widget erstellt und eine Funktion `click()`, welche aufgerufen werden soll, wenn der Button angeklickt wird. Mit der `on_click()`-Methode des `button`-Objektes wird die `click()`-Funktion nun an den Button \"gebunden\"."
   ]
  },
  {
   "cell_type": "code",
   "execution_count": 46,
   "metadata": {},
   "outputs": [
    {
     "data": {
      "application/vnd.jupyter.widget-view+json": {
       "model_id": "8a197866b1084fa0bc25a22faf05c378",
       "version_major": 2,
       "version_minor": 0
      },
      "text/plain": [
       "Button(button_style='info', description='Click me', style=ButtonStyle())"
      ]
     },
     "execution_count": 46,
     "metadata": {},
     "output_type": "execute_result"
    }
   ],
   "source": [
    "button = widgets.Button(\n",
    "    value=False,\n",
    "    description='Click me',\n",
    "    button_style='info'\n",
    ")\n",
    "\n",
    "def click(btn):\n",
    "    btn.description = 'Well done'\n",
    "\n",
    "button.on_click(click)\n",
    "\n",
    "button"
   ]
  },
  {
   "cell_type": "markdown",
   "metadata": {},
   "source": [
    "## 3.2.2 Tkinter\n",
    "\n",
    "Im Gegensatz zu **IPyWidgets** ist **Tkinter** ein vollständiges GUI-Framework, mit dem umfangreiche Benutzeroberflächen erstellt werden können. Das GUI erscheint dabei als separates Fenster, d. h. es läuft unabhängig von JupyterLab. Tkinter ist wohl das populärste GUI-Framework für Python, da es sehr einfach gehalten ist und trotzdem ansprechende Benutzeroberflächen ermöglicht. Im nachfolgenden Beispiel wird ein Fenster mit einem Button erzeugt, den man anklicken kann.\n",
    "\n",
    "> tkinter wird üblicherweise nicht in JupyterLab verwendet, da es in gewissen Fällen zur gegenseitigen Beeinflussung kommen kann. Eine Python-Programm, welches ein komplettes GUI aufweist, würde man aber ohnehin nicht in JupyterLab entwickeln, sondern in einer vollständigen IDE (z. B. PyCharm)."
   ]
  },
  {
   "cell_type": "code",
   "execution_count": 3,
   "metadata": {},
   "outputs": [],
   "source": [
    "import tkinter as tk\n",
    "\n",
    "win = tk.Tk()\n",
    "win.title('My GUI')\n",
    "win.geometry('750x250')\n",
    "\n",
    "def click():\n",
    "    lbl.config(text = 'Hello World!')\n",
    "\n",
    "btn = tk.Button(win, text=\"Click Here or Press Enter\", command=click)\n",
    "btn.pack(ipadx=50, pady=10)\n",
    "lbl = tk.Label(win, text='...', font='Arial 20 bold')\n",
    "lbl.pack(pady=5)\n",
    "\n",
    "win.bind('<Return>', lambda event:click())\n",
    "win.mainloop()"
   ]
  },
  {
   "cell_type": "markdown",
   "metadata": {},
   "source": [
    "## 3.2.3 PyQt\n",
    "\n",
    "**PyQt** ist deutlich komplexer als Tkinter, doch bietet auch mehr Möglichkeiten, um ein modernes, leistungsfähiges GUI zu entwickeln. Es ist ebenfalls ein sehr populäres GUI-Framework und wird auch in anderen Programmiersprachen verwendet. Zu Beginn scheint es relativ kompliziert zu sein, doch für ein grösserer Projekt zahlt sich die Einarbeitung \n",
    "\n",
    "> PyQt wird üblicherweise nicht in JupyterLab verwendet, da es in gewissen Fällen zur gegenseitigen Beeinflussung kommen kann. Ein Python-Programm, welches ein komplettes GUI aufweist, würde man aber ohnehin nicht in JupyterLab entwickeln, sondern in einer vollständigen IDE (z. B. PyCharm)."
   ]
  },
  {
   "cell_type": "code",
   "execution_count": 1,
   "metadata": {},
   "outputs": [],
   "source": [
    "import sys\n",
    "from PyQt5 import QtWidgets, QtCore, QtGui\n",
    "from PyQt5.QtWidgets import QApplication, QMainWindow, QPushButton, QVBoxLayout\n",
    "\n",
    "\n",
    "class MainWindow(QMainWindow):  # Vererbung von Basisklasse QMainWindow\n",
    "    def __init__(self):\n",
    "        super().__init__()\n",
    "\n",
    "        self.setGeometry(1200, 300, 400, 200)\n",
    "        self.setWindowTitle(\"My GUI\")\n",
    "        self.label = QtWidgets.QLabel(\"...\")\n",
    "        self.label.setFont(QtGui.QFont('SansSerif', 20))\n",
    "        self.button1 = QtWidgets.QPushButton()\n",
    "        self.button2 = QtWidgets.QPushButton()\n",
    "\n",
    "        w = QtWidgets.QWidget()\n",
    "        self.setCentralWidget(w)\n",
    "        grid = QtWidgets.QGridLayout(w)\n",
    "\n",
    "        self.button1.setText(\"Click Here\")\n",
    "        self.button1.clicked.connect(self.open_file)\n",
    "        self.button2.setText(\"Exit\")\n",
    "        self.button2.clicked.connect(self.close)\n",
    "\n",
    "        grid.addWidget(self.label, 0, 0, 0, -1, QtCore.Qt.AlignCenter)\n",
    "        grid.addWidget(self.button1, 1, 0, QtCore.Qt.AlignLeft)\n",
    "        grid.addWidget(self.button2, 1, 1, QtCore.Qt.AlignRight)\n",
    "\n",
    "\n",
    "    def open_file(self):\n",
    "        self.label.setText('Hello World!')\n",
    "\n",
    "\n",
    "app = QApplication(sys.argv)\n",
    "\n",
    "window = MainWindow()\n",
    "window.show()\n",
    "\n",
    "app.exec()\n",
    "del app"
   ]
  },
  {
   "cell_type": "markdown",
   "metadata": {},
   "source": [
    "---\n",
    "<p style='text-align: right; font-size: 70%;'>Grundlagen Python (PYT_G01) / 2024</p>"
   ]
  }
 ],
 "metadata": {
  "kernelspec": {
   "display_name": "Python 3 (ipykernel)",
   "language": "python",
   "name": "python3"
  },
  "language_info": {
   "codemirror_mode": {
    "name": "ipython",
    "version": 3
   },
   "file_extension": ".py",
   "mimetype": "text/x-python",
   "name": "python",
   "nbconvert_exporter": "python",
   "pygments_lexer": "ipython3",
   "version": "3.10.11"
  }
 },
 "nbformat": 4,
 "nbformat_minor": 4
}
