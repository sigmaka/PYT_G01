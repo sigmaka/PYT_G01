{
 "cells": [
  {
   "cell_type": "markdown",
   "metadata": {
    "tags": []
   },
   "source": [
    "# 2.3 Mapping-Datentyp\n",
    "\n",
    "<img src=\"IMG/logo.png\" />\n",
    "<a href=\"0_Einfuehrung.ipynb\">&larr; Einführung/Inhalt</a>"
   ]
  },
  {
   "cell_type": "markdown",
   "metadata": {},
   "source": [
    "## 2.3.1 Dictionary\n",
    "\n",
    "Ein Dictionary besteht aus *Key*/*Value*-Paaren. Jedem *Key* (Schlüssel) ist ein *Value* (Wert) zugeordnet. Daher auch die Bezeichnung *Mapping* für diese Kategorie von Datentypen. Dictionaries gehören zu den wichtigsten Datentypen in Python. Wie Listen können Dictionaries leicht verändert werden, ausserdem können sie zur Laufzeit beliebig wachsen oder schrumpfen."
   ]
  },
  {
   "cell_type": "code",
   "execution_count": 1,
   "metadata": {},
   "outputs": [
    {
     "name": "stdout",
     "output_type": "stream",
     "text": [
      "{'Reglertyp': 'PID', 'Kp': 2.45, 'Ti': 0.34, 'Td': 1.2}\n",
      "<class 'dict'>\n"
     ]
    }
   ],
   "source": [
    "# Die Key-Value-Paare werden mittels , voneinander getrennt\n",
    "d = {'Reglertyp': 'PID', 'Kp': 2.45, 'Ti': 0.34, 'Td': 1.2}\n",
    "print(d)\n",
    "print(type(d))"
   ]
  },
  {
   "cell_type": "markdown",
   "metadata": {},
   "source": [
    "Die *Values* (Werte) können jeden Datentyp (auch verschachtelte Datentypen) annehmen. Die *Keys* (Schlüssel) sind typischerweise Strings, doch auch Integer, Floats oder Tupel sind zulässig."
   ]
  },
  {
   "cell_type": "markdown",
   "metadata": {},
   "source": [
    "### 2.3.1.1 Zugriff auf Dictionaries\n",
    "\n",
    "Der grosse Unterschied bzw. Vorteil gegenüber Listen/Tupeln besteht darin, dass zur Indizierung nun die *Keys* (Schlüssel) benutzt werden. Im Gegensatz zu den sequentiellen Datentypen (Listen/Tupel) sind Dictionaries ungeordnet, d.h. die Reihenfolge ist nicht definiert bzw. irrelevant."
   ]
  },
  {
   "cell_type": "code",
   "execution_count": 22,
   "metadata": {},
   "outputs": [
    {
     "data": {
      "text/plain": [
       "'PID'"
      ]
     },
     "execution_count": 22,
     "metadata": {},
     "output_type": "execute_result"
    }
   ],
   "source": [
    "d['Reglertyp']"
   ]
  },
  {
   "cell_type": "markdown",
   "metadata": {},
   "source": [
    "Alternativ kann mit `.get()` auf einen Schlüssel zugegriffen werden. Diese Variante ist nützlich, wenn nicht klar ist, ob der Schlüssel existiert. Sie erlaubt im Gegensatz zur ersten Variante die Definition eines Default-Wertes, falls der Schlüssel nicht existiert."
   ]
  },
  {
   "cell_type": "code",
   "execution_count": 20,
   "metadata": {},
   "outputs": [
    {
     "data": {
      "text/plain": [
       "'PID'"
      ]
     },
     "execution_count": 20,
     "metadata": {},
     "output_type": "execute_result"
    }
   ],
   "source": [
    "d.get('Reglertyp', 'nicht vorhanden')  # Default-Wert: 'nicht vorhanden'"
   ]
  },
  {
   "cell_type": "markdown",
   "metadata": {},
   "source": [
    "Ebenfalls können`in` bzw. `not in` wiederum nützlich sein, um zu prüfen, ob ein bestimmter *Key* (Schlüssel) im Dictionary vorhanden ist."
   ]
  },
  {
   "cell_type": "code",
   "execution_count": 23,
   "metadata": {},
   "outputs": [
    {
     "name": "stdout",
     "output_type": "stream",
     "text": [
      "True\n",
      "False\n"
     ]
    }
   ],
   "source": [
    "print('Ti' in d)\n",
    "print('Td' not in d)"
   ]
  },
  {
   "cell_type": "markdown",
   "metadata": {},
   "source": [
    "In Kombination mit der `for`-Schleife ergibt sich eine elegante Möglichkeit, um durch die Key-Value-Paare des Dictionary zu iterieren."
   ]
  },
  {
   "cell_type": "code",
   "execution_count": 45,
   "metadata": {},
   "outputs": [
    {
     "name": "stdout",
     "output_type": "stream",
     "text": [
      "Bauteil R mit dem Wert 1000.0\n",
      "Bauteil L mit dem Wert 0.01\n",
      "Bauteil C mit dem Wert 6.8e-06\n"
     ]
    }
   ],
   "source": [
    "netzwerk = {'R': 1e3, 'L': 10e-3, 'C': 6.8e-6 }\n",
    "for key in netzwerk:\n",
    "    value = netzwerk[key]\n",
    "    print('Bauteil {0} mit dem Wert {1}'.format(key, value))"
   ]
  },
  {
   "cell_type": "markdown",
   "metadata": {},
   "source": [
    "## 2.3.2 Methoden\n",
    "\n",
    "Der Begriff Methoden stammt aus der objektorientierten Programmierung (OOP). Dazu folgt später ein eigenes Kapitel. Für das Verständnis von den folgenden Funktionalitäten braucht es dieses Wissen zur OOP noch nicht.\n",
    "\n",
    "- `copy()` Kopie eines Dictionary erzeugen\n",
    "- `clear()` Löscht den Inhalt eines Dictionary\n",
    "- `fromkeys()` Erzeugen eines Dictionary anhand bestimmter Keys (und Defaultwerten)\n",
    "- `items()` Key-Value-Paare zurückgeben (View)\n",
    "- `keys()` Keys (Schlüssel) zurückgeben (View)\n",
    "- `values()` Values (Werte) zurückgeben (View)\n",
    "- `pop()` Schlüssel-Werte-Paar (k) aus dem Dictionary entfernen. Entspricht k keinem Schlüssel,\n",
    "    wird der optionale Parameter zurückgegeben.\n",
    "- `popitem()` zufälliges Schlüssel-Werte-Paar wird zurückgegeben und aus Dictionary entfernt\n",
    "- `setdefault()` fügt ein Schlüssel-Werte-Paar hinzu (mit bestimmtem Wert oder Defaultwert)\n",
    "- `update()` fügt einem Dictionary Schlüssel-Werte-Paare aus einem anderen Dictionary hinzu bzw. aktualisiert bereits vorhandene Schlüssel-Werte-Paare"
   ]
  },
  {
   "cell_type": "code",
   "execution_count": 2,
   "metadata": {},
   "outputs": [
    {
     "name": "stdout",
     "output_type": "stream",
     "text": [
      "Sind die beiden Objekte e und d identisch?  False\n",
      "Sind die beiden Objekte f und d identisch?  True\n"
     ]
    }
   ],
   "source": [
    "# .copy()\n",
    "e = d.copy()  # Kopiert ein Dictionary, es wird ein neues Objekt erzeugt\n",
    "print('Sind die beiden Objekte e und d identisch? ', id(d) == id(e)) \n",
    "\n",
    "# im Unterschied zu einer Zuweisung --> ist keine Kopie!\n",
    "f = d  # f ist dasselbe Objekt wie d\n",
    "print('Sind die beiden Objekte f und d identisch? ', id(d) == id(f))"
   ]
  },
  {
   "cell_type": "code",
   "execution_count": 3,
   "metadata": {},
   "outputs": [
    {
     "name": "stdout",
     "output_type": "stream",
     "text": [
      "{}\n"
     ]
    }
   ],
   "source": [
    "# .clear()\n",
    "e.clear()  # Löscht die Schlüssel-Werte-Paare, das Dictionary aber nicht\n",
    "print(e)"
   ]
  },
  {
   "cell_type": "code",
   "execution_count": 4,
   "metadata": {},
   "outputs": [
    {
     "data": {
      "text/plain": [
       "{'Vorname': '', 'Name': '', 'Alter': ''}"
      ]
     },
     "execution_count": 4,
     "metadata": {},
     "output_type": "execute_result"
    }
   ],
   "source": [
    "# .fromkeys()\n",
    "keys = ('Vorname', 'Name', 'Alter')\n",
    "e = dict.fromkeys(keys, '')\n",
    "e"
   ]
  },
  {
   "cell_type": "code",
   "execution_count": 5,
   "metadata": {},
   "outputs": [
    {
     "data": {
      "text/plain": [
       "dict_items([('Reglertyp', 'PID'), ('Kp', 2.45), ('Ti', 0.34), ('Td', 1.2)])"
      ]
     },
     "execution_count": 5,
     "metadata": {},
     "output_type": "execute_result"
    }
   ],
   "source": [
    "# .items()\n",
    "d.items()"
   ]
  },
  {
   "cell_type": "code",
   "execution_count": 6,
   "metadata": {},
   "outputs": [
    {
     "data": {
      "text/plain": [
       "dict_keys(['Reglertyp', 'Kp', 'Ti', 'Td'])"
      ]
     },
     "execution_count": 6,
     "metadata": {},
     "output_type": "execute_result"
    }
   ],
   "source": [
    "# .keys()\n",
    "d.keys()"
   ]
  },
  {
   "cell_type": "code",
   "execution_count": 7,
   "metadata": {},
   "outputs": [
    {
     "data": {
      "text/plain": [
       "dict_values(['PID', 2.45, 0.34, 1.2])"
      ]
     },
     "execution_count": 7,
     "metadata": {},
     "output_type": "execute_result"
    }
   ],
   "source": [
    "# .values()\n",
    "d.values()"
   ]
  },
  {
   "cell_type": "code",
   "execution_count": 8,
   "metadata": {},
   "outputs": [
    {
     "name": "stdout",
     "output_type": "stream",
     "text": [
      "PID\n"
     ]
    },
    {
     "data": {
      "text/plain": [
       "{'Kp': 2.45, 'Ti': 0.34, 'Td': 1.2}"
      ]
     },
     "execution_count": 8,
     "metadata": {},
     "output_type": "execute_result"
    }
   ],
   "source": [
    "# .pop()\n",
    "print(d.pop('Reglertyp', 'nicht enthalten'))\n",
    "d"
   ]
  },
  {
   "cell_type": "code",
   "execution_count": 9,
   "metadata": {},
   "outputs": [
    {
     "name": "stdout",
     "output_type": "stream",
     "text": [
      "('Td', 1.2)\n"
     ]
    },
    {
     "data": {
      "text/plain": [
       "{'Kp': 2.45, 'Ti': 0.34}"
      ]
     },
     "execution_count": 9,
     "metadata": {},
     "output_type": "execute_result"
    }
   ],
   "source": [
    "# .popitem()\n",
    "print(d.popitem())\n",
    "d"
   ]
  },
  {
   "cell_type": "code",
   "execution_count": 10,
   "metadata": {},
   "outputs": [
    {
     "data": {
      "text/plain": [
       "{'Kp': 2.45, 'Ti': 0.34, 'Bemerkung': None}"
      ]
     },
     "execution_count": 10,
     "metadata": {},
     "output_type": "execute_result"
    }
   ],
   "source": [
    "# .setdefault()\n",
    "d.setdefault('Bemerkung')\n",
    "d"
   ]
  },
  {
   "cell_type": "code",
   "execution_count": 11,
   "metadata": {},
   "outputs": [
    {
     "data": {
      "text/plain": [
       "{'Kp': 2.45, 'Ti': 0.34, 'Bemerkung': None, 'Reglertyp': 'PID', 'Td': 1.2}"
      ]
     },
     "execution_count": 11,
     "metadata": {},
     "output_type": "execute_result"
    }
   ],
   "source": [
    "# .update()\n",
    "d_original = {'Reglertyp': 'PID', 'Kp': 2.45, 'Ti': 0.34, 'Td': 1.2}\n",
    "d.update(d_original)\n",
    "d"
   ]
  },
  {
   "cell_type": "markdown",
   "metadata": {},
   "source": [
    "## 2.3.3 Dictionaries aus Listen erzeugen\n",
    "\n",
    "Die sehr nützliche Funktion `zip()` kann dazu genutzt werden, mehrere Listen zu kombinieren bzw. aus Listen Dictionaries zu erzeugen."
   ]
  },
  {
   "cell_type": "code",
   "execution_count": 44,
   "metadata": {},
   "outputs": [
    {
     "data": {
      "text/plain": [
       "{'Student A': 5.2, 'Student B': 4.3, 'Student C': 3.5, 'Student D': 5.7}"
      ]
     },
     "execution_count": 44,
     "metadata": {},
     "output_type": "execute_result"
    }
   ],
   "source": [
    "studenten = ['Student A', 'Student B', 'Student C', 'Student D']\n",
    "noten = [5.2, 4.3, 3.5, 5.7]\n",
    "dict(zip(studenten, noten))"
   ]
  },
  {
   "cell_type": "markdown",
   "metadata": {},
   "source": [
    "---\n",
    "<p style='text-align: right; font-size: 70%;'>Grundlagen Python (PYT_G01) / 2024</p>"
   ]
  }
 ],
 "metadata": {
  "kernelspec": {
   "display_name": "Python 3 (ipykernel)",
   "language": "python",
   "name": "python3"
  },
  "language_info": {
   "codemirror_mode": {
    "name": "ipython",
    "version": 3
   },
   "file_extension": ".py",
   "mimetype": "text/x-python",
   "name": "python",
   "nbconvert_exporter": "python",
   "pygments_lexer": "ipython3",
   "version": "3.10.11"
  }
 },
 "nbformat": 4,
 "nbformat_minor": 4
}
