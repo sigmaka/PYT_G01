{
 "cells": [
  {
   "cell_type": "markdown",
   "metadata": {
    "tags": []
   },
   "source": [
    "<img src=\"IMG/PYT_G01_logo.svg\" width=\"100%\"/>\n",
    "<a href=\"0_Einfuehrung_Inhalt.ipynb\" target=\"_blank\">&larr; Einführung/Inhalt</a>"
   ]
  },
  {
   "cell_type": "markdown",
   "metadata": {},
   "source": [
    "# 4. Kontrollstrukturen\n",
    "\n",
    "Anhand von Kontrollstrukturen kann man den Programmablauf beeinflussen und gezielt steuern. Grundsätzlich kann jeder Programmablauf mit lediglich drei Kontrollstrukturen realisiert werden (*strukturierte Programmierung*).\n",
    "\n",
    "- **Sequenz** (nacheinander auszuführende Anweisungen)\n",
    "- **Verzweigung** (Auswahl/Selektion)\n",
    "- **Schleife** (Wiederholung/Iteration)\n",
    "\n",
    "Die Sequenz entspricht der natürlichen (zeilenweisen) Abarbeitung von Code, d. h. dafür benötigen wir keine zusätzlichen Strukturen. Für die Verzweigung bzw. die Schleife benötigen wir entsprechende Strukturierungselemente, die wir im folgenden kennenlernen wollen.\n",
    "\n",
    "> Als Visualisierung eines Programmablaufs eignet sich u. a. das Flussdiagramm gut, da darin die obigen Kontrollstrukturen direkt repräsentiert werden können."
   ]
  },
  {
   "cell_type": "markdown",
   "metadata": {},
   "source": [
    "## 4.1 Verzweigungen\n",
    "\n",
    "Eine Verzweigung ermöglicht die Ausführung bestimmter Statements, je nachdem, ob eine bestimmte Bedingung erfüllt ist oder nicht.\n",
    "\n",
    "<center><img src=\"IMG/verzweigung.svg\" width=80% /></center>"
   ]
  },
  {
   "cell_type": "code",
   "execution_count": 12,
   "metadata": {},
   "outputs": [
    {
     "name": "stdin",
     "output_type": "stream",
     "text": [
      "Bitte eine Zahl zwischen 0 und 9 eingeben: 0\n"
     ]
    },
    {
     "name": "stdout",
     "output_type": "stream",
     "text": [
      "-> Zahl kleiner als 5\n"
     ]
    }
   ],
   "source": [
    "zahl = int(input('Bitte eine Zahl zwischen 0 und 9 eingeben:'))\n",
    "\n",
    "if 0 <= zahl <= 4:\n",
    "    print('-> Zahl kleiner als 5')\n",
    "elif 4 < zahl <= 9:\n",
    "    print('-> Zahl grösser als 4')\n",
    "else:\n",
    "    print('-> Zahl nicht im erlaubten Bereich oder falscher Datentyp.')"
   ]
  },
  {
   "cell_type": "markdown",
   "metadata": {},
   "source": [
    "### 4.1.1 Vergleichsoperatoren\n",
    "Es sind die folgenden Vergleichsoperatoren definiert.\n",
    "- `==`  gleich\n",
    "- `!=`  ungleich\n",
    "- `<`   kleiner\n",
    "- `<=`  kleiner gleich\n",
    "- `>`   grösser\n",
    "- `>=`  grösser gleich "
   ]
  },
  {
   "cell_type": "markdown",
   "metadata": {},
   "source": [
    "### 4.1.2 Zusammengesetzte Bedingungen\n",
    "\n",
    "Bedingungen können mittels logischen Operatoren `and`, `or` und `not` zusammengesetzt werden. In Anlehnung an die Mathematik können die obigen Vergleichsoperatoren auch direkt für die Prüfung, ob der Wert in einem bestimmten Bereich liegt, verwendet werden, z. B. `0 <= a < 1000`."
   ]
  },
  {
   "cell_type": "code",
   "execution_count": 12,
   "metadata": {},
   "outputs": [
    {
     "name": "stdout",
     "output_type": "stream",
     "text": [
      "Die Zahl liegt zwischen 0 und 100\n"
     ]
    }
   ],
   "source": [
    "a = 42\n",
    "if 0 <= a and a < 100:\n",
    "    print('Die Zahl liegt zwischen 0 und 100')\n",
    "else:\n",
    "    print('Die Zahl ist negativ oder grösser 100')"
   ]
  },
  {
   "cell_type": "markdown",
   "metadata": {},
   "source": [
    "## 4.2 Schleifen\n",
    "\n",
    "Schleifen werden benötigt um einen bestimmten Codeabschnitt wiederholt auszuführen. Es existieren die beiden Schleifen *while* und *for*.\n",
    "\n",
    "<center><img src=\"IMG/schleife.svg\" width=50% /></center>\n",
    "\n",
    "- **While-Schleife**: Die While-Schleife wird in der Regel verwendet, wenn vorgängig nicht klar ist, wie oft iteriert werden muss (z. B. wenn der Benutzer wiederholt Zahlen eingeben soll bis er eine bestimmte Zahl erraten hat).\n",
    "- **For-Schleife**: Die For-Schleife wird immer dann verwendet, wenn vorgängig klar ist, wie oft iteriert werden muss (z. B. wenn eine bestimmte Operation für jedes Element einer Liste durchgeführt werden soll etc.)"
   ]
  },
  {
   "cell_type": "markdown",
   "metadata": {},
   "source": [
    "### 4.2.1 While-Schleife (while loop)\n",
    "\n",
    "Bei der `while`-Schleife von Python handelt es sich um eine sogenannte kopfgesteuerte Schleife, d. h. bevor der Schleifenrumpf ausgeführt wird, wird die Bedingung im Schleifenkopf geprüft. Solange diese Bedingung erfüllt ist (d. h. *True* zurückliefert), wird die Schleife ausgeführt."
   ]
  },
  {
   "cell_type": "code",
   "execution_count": 1,
   "metadata": {},
   "outputs": [
    {
     "name": "stdout",
     "output_type": "stream",
     "text": [
      "1 -> 1\n",
      "2 -> 4\n",
      "3 -> 9\n",
      "4 -> 16\n",
      "5 -> 25\n",
      "6 -> 36\n",
      "7 -> 49\n",
      "8 -> 64\n",
      "9 -> 81\n",
      "10 -> 100\n"
     ]
    }
   ],
   "source": [
    "i = 1\n",
    "while i <= 10:\n",
    "    print(i, '->', i**2)  # Ausgabe der Quadratzahlen\n",
    "    i += 1"
   ]
  },
  {
   "cell_type": "markdown",
   "metadata": {},
   "source": [
    "### 4.2.2 break und continue\n",
    "Für Schleifen existieren zwei wichtige Anweisungen. `break` für den vorzeitigen Abbruch und `continue`, um einen Durchlauf zu beenden und mit dem nächsten Durchlauf weiterzumachen. \n",
    "\n",
    "Stösst der Programmablauf auf eine `break`-Anweisung, wird die Schleife unmittelbar abgebrochen. Das Programm wird mit der ersten Anweisung nach der Schleife fortgesetzt. Bei geschachtelten Schleifen wird dabei nur die innerste Schleife abgebrochen. \n",
    "\n",
    "Trifft der Programmablauf auf eine `continue`-Anweisung, wird der Schleifendurchlauf abgebrochen und der Programmablauf kehrt zum Schleifenkopf zurück, wo geprüft wird, ob die Bedingung für einen weiteren Durchlauf erfüllt ist."
   ]
  },
  {
   "cell_type": "code",
   "execution_count": 7,
   "metadata": {},
   "outputs": [
    {
     "name": "stdin",
     "output_type": "stream",
     "text": [
      "Liste mit positiven Zahlen eingeben: [1, 2, 4, -1, 5]\n"
     ]
    },
    {
     "name": "stdout",
     "output_type": "stream",
     "text": [
      "Abbruch: Negative Zahl gefunden\n",
      "[1, 2, 4]\n"
     ]
    }
   ],
   "source": [
    "liste = eval(input('Liste mit positiven Zahlen eingeben:'))\n",
    "n = len(liste)\n",
    "i = 0\n",
    "zahlen = []\n",
    "while i < n:\n",
    "    aktuelle_zahl = liste[i]\n",
    "    i += 1\n",
    "    if aktuelle_zahl in zahlen:  # gleiche Zahlen werden ignoriert\n",
    "        continue\n",
    "    if aktuelle_zahl < 0:\n",
    "        print('Abbruch: Negative Zahl gefunden')\n",
    "        break\n",
    "    zahlen.append(aktuelle_zahl)\n",
    "\n",
    "print(zahlen)"
   ]
  },
  {
   "cell_type": "markdown",
   "metadata": {},
   "source": [
    "### 4.2.3 For-Schleife (for loop)\n",
    "\n",
    "Bei der `for`-Schleife von Python handelt es sich um ein Sprachkonstrukt, mit dessen Hilfe nacheinander beispielsweise die Elemente einer Menge oder Liste bearbeitet werden können."
   ]
  },
  {
   "cell_type": "code",
   "execution_count": 26,
   "metadata": {},
   "outputs": [
    {
     "name": "stdout",
     "output_type": "stream",
     "text": [
      "Student A \t 5.2 \t bestanden\n",
      "Student B \t 4.3 \t bestanden\n",
      "Student C \t\t nicht bestanden\n",
      "Student D \t 5.7 \t bestanden\n"
     ]
    }
   ],
   "source": [
    "studenten = ['Student A', 'Student B', 'Student C', 'Student D']\n",
    "noten = [5.2, 4.3, 3.5, 5.7]\n",
    "studenten_noten = dict(zip(studenten, noten))\n",
    "\n",
    "for student in studenten_noten:  # Iteration über die Schlüssel eines Dictionary\n",
    "    if studenten_noten[student] < 4.0:\n",
    "        print(student, '\\t\\t', 'nicht bestanden')\n",
    "        continue\n",
    "    print(student, '\\t', studenten_noten[student], '\\t', 'bestanden')"
   ]
  },
  {
   "cell_type": "markdown",
   "metadata": {},
   "source": [
    "Wie oben erwähnt, wird die for-Schleife häufig verwendet, um durch einen sequentiellen Datentyp zu iterieren. Dafür ist der `in`-Operator sehr nützlich."
   ]
  },
  {
   "cell_type": "code",
   "execution_count": 27,
   "metadata": {},
   "outputs": [
    {
     "name": "stdout",
     "output_type": "stream",
     "text": [
      "F\n",
      "E\n",
      "L\n",
      "I\n",
      "X\n",
      " \n",
      "M\n",
      "Ü\n",
      "L\n",
      "L\n",
      "E\n",
      "R\n"
     ]
    }
   ],
   "source": [
    "name = 'Felix Müller'\n",
    "\n",
    "for zeichen in name:  # Iteration über die Zeichen eines Strings\n",
    "    print(zeichen.upper())"
   ]
  },
  {
   "cell_type": "markdown",
   "metadata": {},
   "source": [
    "Um durch eine Zahlenfolge zu iterieren, steht die `range()`-Funktion zur Verfügung. Diese werden wir noch unzählige Male verwenden. Man muss dabei den Endwert definieren (und kann optional den Startwert (Default: 0) bzw. die Schrittweite (Default: 1) übergeben. Zu beachten ist, dass die Zahlenfolge den Endwert jeweils nicht enthält (Endwert nicht inklusive)."
   ]
  },
  {
   "cell_type": "code",
   "execution_count": 36,
   "metadata": {},
   "outputs": [
    {
     "name": "stdout",
     "output_type": "stream",
     "text": [
      "0\n",
      "1\n",
      "2\n",
      "3\n",
      "4\n"
     ]
    }
   ],
   "source": [
    "for i in range(5):  # nur Endwert übergeben\n",
    "    print(i)"
   ]
  },
  {
   "cell_type": "code",
   "execution_count": 37,
   "metadata": {},
   "outputs": [
    {
     "name": "stdout",
     "output_type": "stream",
     "text": [
      "2\n",
      "5\n",
      "8\n",
      "11\n",
      "14\n",
      "17\n"
     ]
    }
   ],
   "source": [
    "for i in range(2, 20, 3):  # Start- und Endwert bzw. Schrittweite übergeben\n",
    "    print(i)"
   ]
  },
  {
   "cell_type": "markdown",
   "metadata": {},
   "source": [
    "---\n",
    "<p style='text-align: right; font-size: 70%;'>Grundlagen Python (PYT_G01) / 2024</p>"
   ]
  }
 ],
 "metadata": {
  "kernelspec": {
   "display_name": "Python 3 (ipykernel)",
   "language": "python",
   "name": "python3"
  },
  "language_info": {
   "codemirror_mode": {
    "name": "ipython",
    "version": 3
   },
   "file_extension": ".py",
   "mimetype": "text/x-python",
   "name": "python",
   "nbconvert_exporter": "python",
   "pygments_lexer": "ipython3",
   "version": "3.10.11"
  }
 },
 "nbformat": 4,
 "nbformat_minor": 4
}
