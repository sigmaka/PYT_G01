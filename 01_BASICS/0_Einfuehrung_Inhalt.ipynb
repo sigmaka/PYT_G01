{
 "cells": [
  {
   "cell_type": "markdown",
   "metadata": {
    "editable": true,
    "slideshow": {
     "slide_type": ""
    },
    "tags": []
   },
   "source": [
    "# Übersicht\n",
    "\n",
    "<img src=\"IMG/logo.png\" />"
   ]
  },
  {
   "cell_type": "markdown",
   "metadata": {
    "editable": true,
    "slideshow": {
     "slide_type": ""
    },
    "tags": []
   },
   "source": [
    "<center><img src=\"IMG/python_logo.png\" width=50% /></center>\n",
    "\n",
    "In dieser Zusammenfassung werden die Grundlagen der Programmiersprache *Python* behandelt. Wir werden die einzelnen Kapitel relativ rasch durchgehen, da Sie bereits etliches Vorwissen mitbringen. Es ist äusserst wichtig, dass Sie individuelle Lücken selbstständig schliessen und somit im Unterricht immer auf dem entsprechenden Stand sind. Sie können in den vorliegenden Jupyter-Notebooks jederzeit Code-Abschnitte abändern bzw. neue Code-Blöcke hinzufügen, um die Lerninhalte zu vertiefen."
   ]
  },
  {
   "cell_type": "markdown",
   "metadata": {
    "editable": true,
    "slideshow": {
     "slide_type": ""
    },
    "tags": []
   },
   "source": [
    "## Inhalt\n",
    "\n",
    "1. [Variablen](1_Variablen.ipynb)\n",
    "2. [Datentypen](2_0_Datentypen.ipynb)\n",
    "3. [Benutzerinteraktion](3_1_Eingaben.ipynb)\n",
    "4. [Kontrollstrukturen](4_Kontrollstrukturen.ipynb)\n",
    "5. [File I/O](5_Dateien_lesen_schreiben.ipynb)\n",
    "6. [Funktionen](6_Funktionen.ipynb)\n",
    "7. [Exceptions (Error Handling)](7_Exceptions.ipynb)\n",
    "8. [Objektorientierte Programmierung (OOP)](8_1_Objektorientierte_Programmierung.ipynb)\n",
    "9. [Threading (Parallele Ausführung)](9_Threads.ipynb)"
   ]
  },
  {
   "cell_type": "markdown",
   "metadata": {},
   "source": [
    "Der Inhalt orientiert sich grob am folgenden Buch:\n",
    "\n",
    "- Einführung in Python 3, Klein Bernd, Hanser, 3. Auflage (https://www.python-kurs.eu/python3_kurs.php)\n",
    "\n",
    "Sie finden darin auch kapitelbezogene Aufgaben, inkl. Lösungen. Da Python eine riesige Community hat, finden sich online unzählige Ressourcen (Bücher, Tutorials, Videos, etc.). Recherchieren Sie selbstständig Themengebiete, in welchen Sie Nachholbedarf haben."
   ]
  },
  {
   "cell_type": "markdown",
   "metadata": {},
   "source": [
    "## Tools\n",
    "\n",
    "Wir arbeiten anfänglich primär mit **JupyterLab** und später mit **PyCharm**, einer vollständigen/umfangreichen Entwicklungsumgebung (IDE).\n",
    "\n",
    "<center><img src=\"IMG/main-logo.svg\" width=10% />&nbsp;&nbsp;&nbsp;&nbsp;&nbsp;&nbsp;&nbsp;&nbsp;&nbsp;&nbsp;&nbsp;&nbsp;&nbsp;&nbsp;&nbsp;&nbsp;&nbsp;&nbsp;&nbsp;&nbsp;&nbsp;&nbsp;&nbsp;&nbsp;&nbsp;<img src=\"IMG/JetBrains_PyCharm_Product_Logo.svg\" width=40% /></center>\n",
    "\n",
    "### JupyterLab\n",
    "\n",
    "JupyterLab ist sehr nützlich, um Code & Text/Bilder (Markdown) zu kombinieren und daher ideal geeignet für interaktive Berichte / Datenanalyse / Dokumentation etc. Ein Jupyter-Notebook besteht dabei aus Zellen, welche entweder Code oder Text/Bilder (Markdown) enthalten. Der Output einer Code-Zelle erscheint nach der Ausführung direkt darunter, was sehr nützlich ist im Vergleich zu einem Konsolenoutput einer IDE. Eine Text-Zelle kann mittels Markdown (Auszeichnungssprache) formatiert werden, was eine elegante Darstellung ermöglicht (unter *&rarr; Help &rarr; Markdown Reference* findet man dazu ein Cheatsheet).\n",
    "\n",
    "> Eine nützliche Eigenheit von JupyterLab besteht darin, dass der Rückgabewert der letzten Zeile einer Code-Zelle automatisch als Zellenoutput ausgegeben wird, d. h. man kann sich häufig ein print()-Statement ersparen (siehe Beispiel unten)."
   ]
  },
  {
   "cell_type": "code",
   "execution_count": 1,
   "metadata": {},
   "outputs": [
    {
     "data": {
      "text/plain": [
       "5.75"
      ]
     },
     "execution_count": 1,
     "metadata": {},
     "output_type": "execute_result"
    }
   ],
   "source": [
    "zahl = 5.75\n",
    "zahl"
   ]
  },
  {
   "cell_type": "markdown",
   "metadata": {},
   "source": [
    "---\n",
    "<p style='text-align: right; font-size: 70%;'>Grundlagen Python (PYT_G01) / 2024</p>"
   ]
  }
 ],
 "metadata": {
  "kernelspec": {
   "display_name": "Python 3 (ipykernel)",
   "language": "python",
   "name": "python3"
  },
  "language_info": {
   "codemirror_mode": {
    "name": "ipython",
    "version": 3
   },
   "file_extension": ".py",
   "mimetype": "text/x-python",
   "name": "python",
   "nbconvert_exporter": "python",
   "pygments_lexer": "ipython3",
   "version": "3.10.11"
  }
 },
 "nbformat": 4,
 "nbformat_minor": 4
}
