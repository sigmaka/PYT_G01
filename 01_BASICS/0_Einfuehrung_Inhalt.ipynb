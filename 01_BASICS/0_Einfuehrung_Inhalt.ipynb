{
 "cells": [
  {
   "cell_type": "markdown",
   "metadata": {},
   "source": [
    "<img src=\"IMG/PYT_G01_logo.svg\" width=\"100%\"/>"
   ]
  },
  {
   "cell_type": "markdown",
   "metadata": {},
   "source": [
    "<center><img src=\"IMG/python_logo.png\" width=50% /></center>\n",
    "\n",
    "In dieser Zusammenfassung werden die Grundlagen der Programmiersprache *Python* behandelt. Wir werden die Grundlagen relativ rasch durchgehen, da Sie entsprechendes Vorwissen mitbringen. Es ist äussersts wichtig, da Sie individuelle Lücken selbstständig schliessen und im Unterricht immer auf dem geforderten Stand sind. Selbstverständlich darf diese diese persönlich angepasst und erweitert werden. "
   ]
  },
  {
   "cell_type": "markdown",
   "metadata": {},
   "source": [
    "## Inhalt\n",
    "\n",
    "1. <a href=\"1_Variablen.ipynb\" target=\"_blank\">Variablen</a>\n",
    "2. <a href=\"2_0_Datentypen.ipynb\" target=\"_blank\">Datentypen</a>\n",
    "3. <a href=\"3_Eingaben.ipynb\" target=\"_blank\">Benutzereingaben</a>\n",
    "4. <a href=\"4_Kontrollstrukturen.ipynb\" target=\"_blank\">Kontrollstrukturen</a>\n",
    "5. <a href=\"5_Dateien_lesen_schreiben.ipynb\" target=\"_blank\">File I/O</a>\n",
    "6. <a href=\"6_Funktionen.ipynb\" target=\"_blank\">Funktionen</a>"
   ]
  },
  {
   "cell_type": "markdown",
   "metadata": {},
   "source": [
    "Der Inhalt orientiert sich am folgenden Buch:\n",
    "\n",
    "- Einführung in Python 3, Klein Bernd, Hanser, 3. Auflage (https://www.python-kurs.eu/python3_kurs.php)\n",
    "\n",
    "Sie finden darin auch kapitelbezogene Aufgaben, inkl. Lösungen. Da Python eine riesige Community hat, finden sich online unzählige Ressourcen (Bücher, Tutorials, Videos, etc.). Recherchieren Sie selbstständig Themengebiete, wo Sie Ressourcenbedarf haben."
   ]
  },
  {
   "cell_type": "markdown",
   "metadata": {},
   "source": [
    "# Tools\n",
    "\n",
    "Wir arbeiten anfänglich primär mit *JupyterLab* und später mit *PyCharm*, einer vollständigen/umfangreichen Entwicklungsumgebung.\n",
    "\n",
    "<center><img src=\"IMG/main-logo.svg\" width=10% />&nbsp;&nbsp;&nbsp;&nbsp;&nbsp;&nbsp;&nbsp;&nbsp;&nbsp;&nbsp;&nbsp;&nbsp;&nbsp;&nbsp;&nbsp;&nbsp;&nbsp;&nbsp;&nbsp;&nbsp;&nbsp;&nbsp;&nbsp;&nbsp;&nbsp;<img src=\"IMG/JetBrains_PyCharm_Product_Logo.svg\" width=35% /></center>"
   ]
  },
  {
   "cell_type": "markdown",
   "metadata": {},
   "source": [
    "---\n",
    "<p style='text-align: right; font-size: 70%;'>Grundlagen Python (PYT_G01) / 2024</p>"
   ]
  }
 ],
 "metadata": {
  "kernelspec": {
   "display_name": "Python 3 (ipykernel)",
   "language": "python",
   "name": "python3"
  },
  "language_info": {
   "codemirror_mode": {
    "name": "ipython",
    "version": 3
   },
   "file_extension": ".py",
   "mimetype": "text/x-python",
   "name": "python",
   "nbconvert_exporter": "python",
   "pygments_lexer": "ipython3",
   "version": "3.10.11"
  }
 },
 "nbformat": 4,
 "nbformat_minor": 4
}
