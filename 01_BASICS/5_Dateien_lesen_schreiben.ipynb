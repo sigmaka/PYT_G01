{
 "cells": [
  {
   "cell_type": "markdown",
   "metadata": {
    "tags": []
   },
   "source": [
    "<img src=\"IMG/PYT_G01_logo.svg\" width=\"100%\"/>\n",
    "<a href=\"0_Einfuehrung_Inhalt.ipynb\" target=\"_blank\">&larr; Einführung/Inhalt</a>"
   ]
  },
  {
   "cell_type": "markdown",
   "metadata": {},
   "source": [
    "# 5. File I/O\n",
    "\n",
    "Um Daten aus einer Datei zu lesen oder auch zu schreiben, muss die entsprechende Datei zuerst mit der `open()`-Funktion geöffnet werden. Damit wird ein Dateiobjekt erzeugt, das eine Referenz auf die Datei enthält.\n",
    "\n",
    "Wir lernen hier die generische Methode kennen, um den Inhalt einer beliebigen Textdatei zu lesen. Dies ist für einfache/kleine Textdateien geeignet. Arbeitet man mit grossen Datensätzen bzw. strukturierten Daten, so stehen entsprechende Bibliotheken (*NumPy*, *pandas*) zur Verfügung, die das Filehandling erleichtern. Diese Bibliotheken werden Sie in zukünftigen Modulen kennenlernen.\n",
    "\n",
    "Betrachten wir die Textdatei, welche wir einlesen wollen, mit einem Editor, so können wir feststellen, dass neben den eigentlichen Daten auch Steuerzeichen (LF bzw. \\n für den Zeilenumbruch) enthalten sind.\n",
    "\n",
    "<center><img src=\"IMG/textfile.png\" width=\"100%\"/></center>"
   ]
  },
  {
   "cell_type": "markdown",
   "metadata": {},
   "source": [
    "## 5.1 Lesen einer Datei"
   ]
  },
  {
   "cell_type": "code",
   "execution_count": 2,
   "metadata": {},
   "outputs": [
    {
     "name": "stdout",
     "output_type": "stream",
     "text": [
      "0.00042713510204081626,-0.054554329590293701,-0.15027583170588285\n",
      "0.0004271651020408163,-0.051068871794783817,-0.13629134071592999\n",
      "0.00042719510204081629,-0.051068871794783817,-0.15027583170588127\n",
      "0.00042722510204081627,-0.051068871794783817,-0.14677970895839146\n",
      "0.00042725510204081631,-0.047583413999283446,-0.13978746346341822\n",
      "0.00042728510204081624,-0.054554329590284195,-0.14677970895838191\n",
      "0.00042731510204081628,-0.044097956203764048,-0.14328358621090007\n",
      "0.00042734510204081626,-0.033641582817239155,-0.13978746346341026\n",
      "0.00042737510204081625,-0.040612498408247821,-0.13629134071592047\n",
      "0.00042740510204081629,-0.04061249840824941,-0.13978746346340709\n"
     ]
    }
   ],
   "source": [
    "dateiname = 'DATA/messung.txt'\n",
    "\n",
    "f = open(dateiname, mode='r')\n",
    "\n",
    "for linie in f:\n",
    "    print(linie.rstrip())  # rstrip: entfernt allfällige Leerzeichen und Newlines vom rechten Rand\n",
    "\n",
    "f.close()"
   ]
  },
  {
   "cell_type": "markdown",
   "metadata": {},
   "source": [
    "## 5.3 Die Methoden read() und readlines()\n",
    "\n",
    "Im Beispiel oben wurde die Datei Zeile für Zeile gelesen. Häufig möchte man aber den Inhalt einer Datei in eine komplette Datenstruktur einlesen. Auf diese Weise kann die Datei schnell wieder geschlossen und man arbeitet nur noch auf der Datenstruktur und nicht mehr mit der Datei. Dafür stehen die Methoden `.read()` bzw. `.readlines()`.\n",
    "\n",
    "> Zu beachten gilt es, dass der Inhalt einer Textdatei immer als String eingelesen wird (egal, ob Zahlen oder sonstige Zeichen in der Textdatei vorkommen). Mit der `read()`-Funktion erhält man einen String des gesamten Inhaltes zurück und mit der `readlines()`-Funktion eine Liste, in der jedes Element einer Zeile entspricht und ebenfalls ein String ist."
   ]
  },
  {
   "cell_type": "code",
   "execution_count": 53,
   "metadata": {},
   "outputs": [
    {
     "data": {
      "text/plain": [
       "'0.00042713510204081626,-0.054554329590293701,-0.15027583170588285\\n0.0004271651020408163,-0.051068871794783817,-0.13629134071592999\\n0.00042719510204081629,-0.051068871794783817,-0.15027583170588127\\n0.00042722510204081627,-0.051068871794783817,-0.14677970895839146\\n0.00042725510204081631,-0.047583413999283446,-0.13978746346341822\\n0.00042728510204081624,-0.054554329590284195,-0.14677970895838191\\n0.00042731510204081628,-0.044097956203764048,-0.14328358621090007\\n0.00042734510204081626,-0.033641582817239155,-0.13978746346341026\\n0.00042737510204081625,-0.040612498408247821,-0.13629134071592047\\n0.00042740510204081629,-0.04061249840824941,-0.13978746346340709'"
      ]
     },
     "execution_count": 53,
     "metadata": {},
     "output_type": "execute_result"
    }
   ],
   "source": [
    "messdaten = open(dateiname).read()  # komplette Datei in einen String einlesen (Output: String)\n",
    "messdaten"
   ]
  },
  {
   "cell_type": "code",
   "execution_count": 54,
   "metadata": {},
   "outputs": [
    {
     "data": {
      "text/plain": [
       "['0.00042713510204081626,-0.054554329590293701,-0.15027583170588285\\n',\n",
       " '0.0004271651020408163,-0.051068871794783817,-0.13629134071592999\\n',\n",
       " '0.00042719510204081629,-0.051068871794783817,-0.15027583170588127\\n',\n",
       " '0.00042722510204081627,-0.051068871794783817,-0.14677970895839146\\n',\n",
       " '0.00042725510204081631,-0.047583413999283446,-0.13978746346341822\\n',\n",
       " '0.00042728510204081624,-0.054554329590284195,-0.14677970895838191\\n',\n",
       " '0.00042731510204081628,-0.044097956203764048,-0.14328358621090007\\n',\n",
       " '0.00042734510204081626,-0.033641582817239155,-0.13978746346341026\\n',\n",
       " '0.00042737510204081625,-0.040612498408247821,-0.13629134071592047\\n',\n",
       " '0.00042740510204081629,-0.04061249840824941,-0.13978746346340709']"
      ]
     },
     "execution_count": 54,
     "metadata": {},
     "output_type": "execute_result"
    }
   ],
   "source": [
    "messdaten = open(dateiname).readlines()  # Zeilenweises Lesen der Datei (Output: Liste)\n",
    "messdaten"
   ]
  },
  {
   "cell_type": "markdown",
   "metadata": {},
   "source": [
    "## 5.2 Schreiben einer Datei\n",
    "\n",
    "Das Schreiben erfolgt analog zum Lesen. Der Modus `mode='w'` ermöglicht den Schreibzugriff bzw. ein File zu erstellen. Wiederum stehen die Methoden `.write()` bzw. `.writelines()` zur Verfügung."
   ]
  },
  {
   "cell_type": "code",
   "execution_count": 3,
   "metadata": {},
   "outputs": [],
   "source": [
    "dateiname = 'DATA/data.txt'\n",
    "\n",
    "f = open(dateiname, mode='w')\n",
    "\n",
    "text = '''Hallo\n",
    "Ich bin ein mehrzeiliger String und\n",
    "werde in eine Textdatei geschrieben.\n",
    "'''\n",
    "\n",
    "f.write(text)\n",
    "f.close()"
   ]
  },
  {
   "cell_type": "markdown",
   "metadata": {},
   "source": [
    "## 5.4 Context-Manager (with-Block)\n",
    "\n",
    "Die beste Methode im Zusammenhang mit dem Lesen bzw. Schreiben von Files besteht darin, einen sogenannten Context-Manager zu verwenden (*with-Block*). Der Context-Manager stellt sicher, dass die Datei geschlossen wird, wenn das Lesen/Schreiben abgeschlossen ist oder ein Fehler auftritt. Damit ist sichergestellt, dass die Datei immer geschlossen wird, auch ohne ein explizites `close()`. Context-Manager werden in Python typischerweise eingesetzt, wenn eine Verbindung zu einer Datei, Datenbank oder einer Schnittstelle (Interface) etc. aufgebaut und schliesslich wieder geschlossen werden muss."
   ]
  },
  {
   "cell_type": "code",
   "execution_count": 57,
   "metadata": {},
   "outputs": [],
   "source": [
    "with open(dateiname, 'w') as f:\n",
    "    data = f.write(text)"
   ]
  },
  {
   "cell_type": "markdown",
   "metadata": {},
   "source": [
    "---\n",
    "<p style='text-align: right; font-size: 70%;'>Grundlagen Python (PYT_G01) / 2024</p>"
   ]
  }
 ],
 "metadata": {
  "kernelspec": {
   "display_name": "Python 3 (ipykernel)",
   "language": "python",
   "name": "python3"
  },
  "language_info": {
   "codemirror_mode": {
    "name": "ipython",
    "version": 3
   },
   "file_extension": ".py",
   "mimetype": "text/x-python",
   "name": "python",
   "nbconvert_exporter": "python",
   "pygments_lexer": "ipython3",
   "version": "3.10.11"
  }
 },
 "nbformat": 4,
 "nbformat_minor": 4
}
