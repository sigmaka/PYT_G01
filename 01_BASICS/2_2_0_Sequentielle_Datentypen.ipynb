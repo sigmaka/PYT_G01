{
 "cells": [
  {
   "cell_type": "markdown",
   "metadata": {
    "tags": []
   },
   "source": [
    "<img src=\"IMG/PYT_G01_logo.svg\" width=\"100%\"/>\n",
    "<a href=\"0_Einfuehrung_Inhalt.ipynb\" target=\"_blank\">&larr; Einführung/Inhalt</a>"
   ]
  },
  {
   "cell_type": "markdown",
   "metadata": {},
   "source": [
    "## 2.2 Sequentielle Datentypen\n",
    "\n",
    "Sämtliche Datentypen dieses Abschnitts haben die Eigenschaft, dass deren **Elemente fortlaufend,** also **sequentiell**, angeordnet sind. Der Datentyp besteht dabei aus mehreren Elementen, die gelesen und je nach Datentyp manipuliert werden können. Einzelne oder mehrere Elemente eines sequentiellen Datentyps werden mit den eckigen Klammern `[]` angesprochen."
   ]
  },
  {
   "cell_type": "markdown",
   "metadata": {},
   "source": [
    "### 2.2.1 Liste (list) & Tupel (tuple)\n",
    "\n",
    "&rarr; mehr zu [Listen & Tupel](2_2_1_Listen_Tupel.ipynb)\n",
    "\n",
    "#### Liste (list)\n",
    "Listen bestehen aus einer Sequenz von beliebigen und veränderbaren Objekten. Listen können andere Listen enthalten. Dann spricht man von verschachtelten Listen. Auf die einzelnen Objekte kann analog zu den Zeichenketten zugegriffen werden."
   ]
  },
  {
   "cell_type": "code",
   "execution_count": 4,
   "metadata": {},
   "outputs": [
    {
     "name": "stdout",
     "output_type": "stream",
     "text": [
      "[-3, 4.56, [56, (4+6j), True], 'String']\n",
      "<class 'list'>\n"
     ]
    }
   ],
   "source": [
    "liste = [-3, 4.56, [56, 4+6j, True], 'String']\n",
    "print(liste)\n",
    "print(type(liste))"
   ]
  },
  {
   "cell_type": "markdown",
   "metadata": {},
   "source": [
    "#### Tupel (tuple)\n",
    "Tupel unterscheiden sich äusserlich von Listen nur durch die `()` anstelle der `[]`. Die runden Klammern können auch weggelassen werden. Wie Listen können sie ebenfalls verschachtelt werden. Der grosse Unterschied liegt in der Unveränderbarkeit von Tupeln (siehe weiter unten)."
   ]
  },
  {
   "cell_type": "code",
   "execution_count": 5,
   "metadata": {},
   "outputs": [
    {
     "name": "stdout",
     "output_type": "stream",
     "text": [
      "(-3, 4.56, (56, (4+6j), True), 'String') <class 'tuple'>\n"
     ]
    }
   ],
   "source": [
    "tup = (-3, 4.56, (56, 4+6j, True), 'String')\n",
    "print(tup, type(tup))"
   ]
  },
  {
   "cell_type": "markdown",
   "metadata": {},
   "source": [
    "### 2.2.2 Zeichenketten (Strings)\n",
    "\n",
    "&rarr; mehr zu [Strings](2_2_2_Strings.ipynb)\n",
    "\n",
    "Zeichenketten bestehen aus einer unveränderlichen Folge von beliebigen Zeichen. Die Bezeichnung des Datentyps lautet *str*. Speziell in Python ist, dass Strings sowohl mit einfachen `'..'`, doppelten `\"..\"`, als auch mit dreifachen `'''..'''` bzw. `\"\"\"...\"\"\"` Anführungszeichen definiert werden können."
   ]
  },
  {
   "cell_type": "code",
   "execution_count": 2,
   "metadata": {},
   "outputs": [
    {
     "name": "stdout",
     "output_type": "stream",
     "text": [
      "Ich bin ein String.\n",
      "<class 'str'>\n"
     ]
    }
   ],
   "source": [
    "s = 'Ich bin ein String.'\n",
    "print(s)\n",
    "print(type(s))"
   ]
  },
  {
   "cell_type": "code",
   "execution_count": 3,
   "metadata": {},
   "outputs": [
    {
     "name": "stdout",
     "output_type": "stream",
     "text": [
      "Ich bin auch ein String.\n"
     ]
    }
   ],
   "source": [
    "s = \"Ich bin auch ein String.\"\n",
    "print(s)"
   ]
  },
  {
   "cell_type": "code",
   "execution_count": 4,
   "metadata": {},
   "outputs": [
    {
     "name": "stdout",
     "output_type": "stream",
     "text": [
      "Ich bin ein String,\n",
      "der über mehrere Zeilen\n",
      "geht.\n"
     ]
    }
   ],
   "source": [
    "s = '''Ich bin ein String,\n",
    "der über mehrere Zeilen\n",
    "geht.'''\n",
    "print(s)"
   ]
  },
  {
   "cell_type": "markdown",
   "metadata": {},
   "source": [
    "## 2.2.4 Indexierung\n",
    "Die Anordnung von Zeichen/Objekten innerhalb eines sequentiellen Datentypes, sind von links-nach-rechts, startend mit 0 nummeriert. Von rechts (hinten) beginnt die Aufzählung mit einer -1. Für das ansprechen dieser Objekte wird `[]` verwendet."
   ]
  },
  {
   "cell_type": "code",
   "execution_count": 5,
   "metadata": {},
   "outputs": [
    {
     "name": "stdout",
     "output_type": "stream",
     "text": [
      "I g\n"
     ]
    }
   ],
   "source": [
    "s = 'Ich bin ein String'\n",
    "print(s[0], s[-1])"
   ]
  },
  {
   "cell_type": "code",
   "execution_count": 6,
   "metadata": {},
   "outputs": [
    {
     "name": "stdout",
     "output_type": "stream",
     "text": [
      "[3, 4.56, [56, (4+6j), True], 'String']\n",
      "True\n"
     ]
    }
   ],
   "source": [
    "liste = [-3, 4.56, [56, 4+6j, True], 'String']\n",
    "# Veränderbarkeit von Listen\n",
    "liste[0] = abs(liste[0])\n",
    "print(liste)\n",
    "# Zugriff auf verschachtelte Listen\n",
    "print(liste[2][-1])"
   ]
  },
  {
   "cell_type": "code",
   "execution_count": 7,
   "metadata": {},
   "outputs": [
    {
     "name": "stdout",
     "output_type": "stream",
     "text": [
      "True\n"
     ]
    }
   ],
   "source": [
    "tup = (-3, 4.56, (56, 4+6j, True), 'String')\n",
    "# Zugriff auf verschachtelte Tupel\n",
    "print(tup[2][-1])"
   ]
  },
  {
   "cell_type": "markdown",
   "metadata": {},
   "source": [
    "Es ist auch möglich auf Teilbereiche (slicing) eines sequentiellen Datentyps zuzugreifen."
   ]
  },
  {
   "cell_type": "code",
   "execution_count": 8,
   "metadata": {},
   "outputs": [
    {
     "name": "stdout",
     "output_type": "stream",
     "text": [
      "Ich Ich\n",
      "String\n",
      "Ich bin ein String\n",
      "String\n"
     ]
    }
   ],
   "source": [
    "s = 'Ich bin ein String'\n",
    "print(s[0:3], s[:3])  # Ohne Anfangswert wird bei 0 gestartet\n",
    "print(s[-6:])  # Ohne Endwert wird bis zum Ende übernommen\n",
    "print(s[:])  # Ohne Anfangs- und Endwert werden sämtliche Zeichen/Objekte übernommen\n",
    "\n",
    "liste = [-3, 4.56, [56, 4+6j, True], 'Ich bin ein String']\n",
    "print(liste[-1][-6:])"
   ]
  },
  {
   "cell_type": "markdown",
   "metadata": {},
   "source": [
    "Der Slicing-Operator funktioniert auch mit drei Argumenten. Das dritte Argument ist dann die Schrittweite oder auch das wievielte Element jeweils verwendet werden soll."
   ]
  },
  {
   "cell_type": "code",
   "execution_count": 9,
   "metadata": {},
   "outputs": [
    {
     "name": "stdout",
     "output_type": "stream",
     "text": [
      "IhbnenSrn\n",
      "git i i c\n"
     ]
    }
   ],
   "source": [
    "s = 'Ich bin ein String'\n",
    "# s[Anfang:Ende:Schrittweite] bei positiver Schrittweite\n",
    "print(s[::2])\n",
    "# s[Ende:Anfang:Schrittweite] bei negativer Schrittweite\n",
    "print(s[::-2])"
   ]
  },
  {
   "cell_type": "markdown",
   "metadata": {},
   "source": [
    "### 2.2.5 Anzahl Elemente bestimmen\n",
    "Häufig muss die Anzahl Elemente eines sequentiellen Datentyps bestimmt werden. Man könnte auch sagen, es muss die Länge bestimmt werden."
   ]
  },
  {
   "cell_type": "code",
   "execution_count": 6,
   "metadata": {},
   "outputs": [
    {
     "name": "stdout",
     "output_type": "stream",
     "text": [
      "Die Länge des Strings beträgt:  18\n",
      "Die Länge der Liste beträgt:  4\n",
      "Die Länge des Tupels beträgt:  4\n"
     ]
    }
   ],
   "source": [
    "s = 'Ich bin ein String'\n",
    "liste = [-3, 4.56, [56, 4+6j, True], 'Ich bin ein String']\n",
    "tup = (-3, 4.56, (56, 4+6j, True), 'String')\n",
    "laenge_s = len(s)\n",
    "laenge_l = len(liste)\n",
    "laenge_t = len(tup)\n",
    "\n",
    "print('Die Länge des Strings beträgt: ', laenge_s)\n",
    "print('Die Länge der Liste beträgt: ', laenge_l)\n",
    "print('Die Länge des Tupels beträgt: ', laenge_t)"
   ]
  },
  {
   "cell_type": "markdown",
   "metadata": {},
   "source": [
    "### 2.2.5 Veränderbarkeit / Unveränderbarkeit\n",
    "\n",
    "Bei der obigen Einführung der Datentypen wurden jeweils von \"veränderlich\"/\"unveränderlich\" gesprochen, ohne dies im Detail zu erläutern. Die Veränderbarkeit / Unveränderbarkeit ist ein wichtiges Konzept in Python und soll hier besprochen werden. In der nachfolgenden Abbildung ist die Einteilung der Datentypen in Bezug auf die Veränderbarkeit (*Mutability*) bzw. Unveränderbarkeit (*Immutability*).\n",
    "\n",
    "![Datentypen](IMG/PYT_G01_types.svg)\n",
    "\n",
    "Eine Konsequenz dieser Einteilung besteht darin, dass die Elemente von unveränderlichen Datentypen (z. B. Strings) nicht verändert/überschrieben werden können. Dies ist im Gegensatz bei veränderlichen Datentypen (z. B. Listen) problemlos möglich."
   ]
  },
  {
   "cell_type": "code",
   "execution_count": 10,
   "metadata": {},
   "outputs": [
    {
     "ename": "TypeError",
     "evalue": "'str' object does not support item assignment",
     "output_type": "error",
     "traceback": [
      "\u001b[1;31m---------------------------------------------------------------------------\u001b[0m",
      "\u001b[1;31mTypeError\u001b[0m                                 Traceback (most recent call last)",
      "Cell \u001b[1;32mIn[10], line 2\u001b[0m\n\u001b[0;32m      1\u001b[0m string \u001b[38;5;241m=\u001b[39m \u001b[38;5;124m'\u001b[39m\u001b[38;5;124mPython\u001b[39m\u001b[38;5;124m'\u001b[39m\n\u001b[1;32m----> 2\u001b[0m \u001b[43mstring\u001b[49m\u001b[43m[\u001b[49m\u001b[38;5;241;43m0\u001b[39;49m\u001b[43m]\u001b[49m \u001b[38;5;241m=\u001b[39m \u001b[38;5;124m'\u001b[39m\u001b[38;5;124mp\u001b[39m\u001b[38;5;124m'\u001b[39m\n",
      "\u001b[1;31mTypeError\u001b[0m: 'str' object does not support item assignment"
     ]
    }
   ],
   "source": [
    "string = 'Python'\n",
    "string[0] = 'p'"
   ]
  },
  {
   "cell_type": "code",
   "execution_count": 11,
   "metadata": {},
   "outputs": [
    {
     "data": {
      "text/plain": [
       "[0, 2, 3]"
      ]
     },
     "execution_count": 11,
     "metadata": {},
     "output_type": "execute_result"
    }
   ],
   "source": [
    "liste = [1, 2, 3]\n",
    "liste[0] = 0\n",
    "liste"
   ]
  },
  {
   "cell_type": "markdown",
   "metadata": {},
   "source": [
    "Eine weitere Konsequenz kommt zum Tragen, wenn veränderliche Datentypen dupliziert werden bzw. mehrere Variablen auf dieselben Daten referenzieren. Dazu muss man sich nochmals vor Augen halten, wie Python die Variablen im Speicher organisiert. \n",
    "\n",
    "Im Beispiel wird eine Liste `a` erzeugt und anschliessend eine Variable `b` definiert, welche dieselbe Liste referenziert."
   ]
  },
  {
   "cell_type": "code",
   "execution_count": 19,
   "metadata": {},
   "outputs": [],
   "source": [
    "a = [1, 2, 3]\n",
    "b = a"
   ]
  },
  {
   "cell_type": "markdown",
   "metadata": {},
   "source": [
    "Nun wird ein Element von `b` verändert. Dies ist möglich, da Listen veränderliche (*mutable*) Objekte sind. Das Ergebnis ist nicht weiter überraschend."
   ]
  },
  {
   "cell_type": "code",
   "execution_count": 22,
   "metadata": {},
   "outputs": [
    {
     "data": {
      "text/plain": [
       "[1, 99, 3]"
      ]
     },
     "execution_count": 22,
     "metadata": {},
     "output_type": "execute_result"
    }
   ],
   "source": [
    "b[1] = 99\n",
    "b"
   ]
  },
  {
   "cell_type": "markdown",
   "metadata": {},
   "source": [
    "Evtl. etwas überraschend ist, dass sich auch `a` verändert hat. Dies scheint auf den ersten Blick überraschend, doch wenn man die Speicherzuweisung von Python verstanden hat, wird klar, warum dies so ist."
   ]
  },
  {
   "cell_type": "code",
   "execution_count": 23,
   "metadata": {},
   "outputs": [
    {
     "data": {
      "text/plain": [
       "[1, 99, 3]"
      ]
     },
     "execution_count": 23,
     "metadata": {},
     "output_type": "execute_result"
    }
   ],
   "source": [
    "a"
   ]
  },
  {
   "cell_type": "markdown",
   "metadata": {},
   "source": [
    "Die folgende Abbildung soll dies nochmals verdeutlichen. Da beide Variablen `a` und `b` auf denselben Speicherort zeigen, verändert die Zuweisung `b[1] = 99` auch das Element `a[1]`, da beide identisch sind.\n",
    "\n",
    "![Veränderbarkeit](IMG/PYT_G01_listen.svg)"
   ]
  },
  {
   "cell_type": "markdown",
   "metadata": {},
   "source": [
    "---\n",
    "<p style='text-align: right; font-size: 70%;'>Grundlagen Python (PYT_G01) / 2024</p>"
   ]
  }
 ],
 "metadata": {
  "kernelspec": {
   "display_name": "Python 3 (ipykernel)",
   "language": "python",
   "name": "python3"
  },
  "language_info": {
   "codemirror_mode": {
    "name": "ipython",
    "version": 3
   },
   "file_extension": ".py",
   "mimetype": "text/x-python",
   "name": "python",
   "nbconvert_exporter": "python",
   "pygments_lexer": "ipython3",
   "version": "3.10.11"
  }
 },
 "nbformat": 4,
 "nbformat_minor": 4
}
