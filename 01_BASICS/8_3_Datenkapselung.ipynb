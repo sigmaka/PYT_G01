{
 "cells": [
  {
   "cell_type": "markdown",
   "metadata": {},
   "source": [
    "<img src=\"IMG/PYT_G01_logo.svg\" width=\"100%\"/>\n",
    "<a href=\"0_Einfuehrung_Inhalt.ipynb\" target=\"_blank\">&larr; Einführung/Inhalt</a>"
   ]
  },
  {
   "cell_type": "markdown",
   "metadata": {},
   "source": [
    "## 8.3 Datenkapselung, Datenabstraktion und Geheimnisprinzip\n",
    "\n",
    "Unter dem Begriff Datenkapselung versteht man den Schutz von Daten bzw. Attributen vor dem unmittelbaren Zugriff. Dies wird anhand von sogenannten Zugriffsmethoden bewerkstelligt. Anhand dieser Zugriffsmethoden wird definiert, wie auf die Daten eines Objekt zugegriffen werden kann. **Ein direkter Zugriff auf die Attribute sollte vermieden werden!** Es wird im Prinzip ein invariantes Interface geschaffen und damit werden die Implementierungsdetails verborgen. Somit können jederzeit Änderungen an der Implementierung vorgenommen werden, ohne dass sich die Benutzersicht (Interface) ändert. Diese beiden Zugriffsmethoden werden mit Getter (Abfragemethode) und Setter (Änderungsmethode) bezeichnet. <br>\n",
    "Diese Zugriffsmethoden erlauben dem Entwickler einer Klasse den Zugriff auf die Attribute zu steuern und ggf. weitere Restriktionen innerhalb einer Änderungsmethode zu implementieren (z.B. Wertebereiche auszugrenzen).\n",
    "Die bekannte Klasse wird entsprechend mit diesen Zugriffsmethoden für die beiden Attribute port und default_color erweitert."
   ]
  },
  {
   "cell_type": "code",
   "execution_count": 1,
   "metadata": {},
   "outputs": [],
   "source": [
    "class RGB:\n",
    "    def __init__(self, port='COM5', default_color=(0, 0, 0)):\n",
    "        self.port = port\n",
    "        self.default_color = default_color\n",
    "\n",
    "    def get_port(self):  # Abfragemethode (getter)\n",
    "        return self.port\n",
    "\n",
    "    def set_port(self, port):  # Änderungsmethode (setter)\n",
    "        # Hier können weitere Restriktionen, wie z.B. Ausgrenzung Wertebereich durchgeführt werden.\n",
    "        self.port = port"
   ]
  },
  {
   "cell_type": "code",
   "execution_count": 4,
   "metadata": {},
   "outputs": [
    {
     "data": {
      "text/plain": [
       "'COM5'"
      ]
     },
     "execution_count": 4,
     "metadata": {},
     "output_type": "execute_result"
    }
   ],
   "source": [
    "rgb = RGB()\n",
    "rgb.get_port()  # Abfragen des aktuellen Ports"
   ]
  },
  {
   "cell_type": "code",
   "execution_count": 5,
   "metadata": {},
   "outputs": [
    {
     "data": {
      "text/plain": [
       "'COM9'"
      ]
     },
     "execution_count": 5,
     "metadata": {},
     "output_type": "execute_result"
    }
   ],
   "source": [
    "rgb.set_port('COM6')  # Ändern des Ports\n",
    "rgb.get_port()"
   ]
  },
  {
   "cell_type": "markdown",
   "metadata": {},
   "source": [
    "Das obige Beispiel mit Abfragen und Anpassung der Port-Bezeichnung zeigt die Idee, wie nun mit diesen Zugriffsmethoden gearbeitet werden soll. Unschön ist in der aktuellen Umsetzung der Klasse, der Umstand, dass weiterhin ein direkter Zugriff auf das Attribut selbst möglich ist. Dies sollte gemäss obiger Prämisse programmatisch unterbunden werden."
   ]
  },
  {
   "cell_type": "code",
   "execution_count": 7,
   "metadata": {},
   "outputs": [
    {
     "data": {
      "text/plain": [
       "'COM16'"
      ]
     },
     "execution_count": 7,
     "metadata": {},
     "output_type": "execute_result"
    }
   ],
   "source": [
    "rgb.port = 'COM7'  # unschöner, direkter Zugriff auf das Attribut port!\n",
    "rgb.get_port()"
   ]
  },
  {
   "cell_type": "markdown",
   "metadata": {},
   "source": [
    "### 8.3.1 Öffentliche, geschützte und private Attribute/Methoden\n",
    "\n",
    "Obiges Beispiel (direkter Zugriff auf das Attribut *port*) zeigt, dass die, für die Port-Änderung zuständige *set_port*-Methode, umgangen werden kann. Damit dies verhindert wird, existieren Möglichkeiten, um die Zugriffsmöglichkeiten (lesen und/oder schreiben) von Attributen/Methoden zu definieren. Python kennt die folgenden drei Definitionen:\n",
    "- **Public**, z. B. `port` (lesen und schreiben möglich und auch gewollt)\n",
    "- **Protected**: z. B. `_port` (lesen und schreiben möglich, sollten aber nicht gemacht werden, siehe Vererbung)\n",
    "- **Private**: z. B. `__port` (von aussen nicht sichtbar und nicht benutzbar)\n",
    "\n",
    "Wie diese Zugriffsmöglichkeiten verwendet werden, zeigt das nächste Beispiel, die überarbeitete RGB-Klasse."
   ]
  },
  {
   "cell_type": "code",
   "execution_count": 9,
   "metadata": {
    "tags": []
   },
   "outputs": [],
   "source": [
    "class RGB:\n",
    "    def __init__(self, port='COM5', default_color=(0, 0, 0)):\n",
    "        self.set_port(port)\n",
    "        ...\n",
    "\n",
    "    def get_port(self):  # Abfragemethode (getter)\n",
    "        return self.__port\n",
    "\n",
    "    def set_port(self, port):  # Änderungsmethode (setter)\n",
    "        self.__port = port  # Attribut port ist private definiert"
   ]
  },
  {
   "cell_type": "code",
   "execution_count": 13,
   "metadata": {},
   "outputs": [
    {
     "data": {
      "text/plain": [
       "'COM6'"
      ]
     },
     "execution_count": 13,
     "metadata": {},
     "output_type": "execute_result"
    }
   ],
   "source": [
    "rgb = RGB()\n",
    "rgb.get_port()  # nur noch Zugriff via getter-Methode möglich (rgb.__port nicht möglich)"
   ]
  },
  {
   "cell_type": "markdown",
   "metadata": {},
   "source": [
    "Analog zur Datenkapselung auf Ebene Attributen, wird diese auch auf der Ebene Methoden angewendet. D.h. Methoden können auch *public*, *protected* und *private* deklariert werden. Im aktuellen Beispiel sind sämtliche Zugriffsmethoden frei (public) zugänglich. <br>\n",
    "Für eine vollständige Umsetzung des invarianten Interfaces müssen die Methoden zwingend, analog der Attribute, gekapselt werden."
   ]
  },
  {
   "cell_type": "code",
   "execution_count": 28,
   "metadata": {},
   "outputs": [],
   "source": [
    "class RGB:\n",
    "    def __init__(self, port='COM5', default_color=(0, 0, 0)):\n",
    "        self.__set_port(port)\n",
    "        ...\n",
    "\n",
    "    def __get_port(self):  # Abfragemethode (getter)\n",
    "        return self.__port\n",
    "\n",
    "    def __set_port(self, port):  # Änderungsmethode (setter)\n",
    "        self.__port = port  # Attribut port ist private definiert"
   ]
  },
  {
   "cell_type": "markdown",
   "metadata": {},
   "source": [
    "In dieser neuen Klasse RGB sind nun sämtliche Zugriffsmethoden *private* deklariert, d.h. der Benutzer hat somit keine Möglichkeit mehr auf die beiden Attribute *port* und *default_color* zuzugreifen. Dieser Zustand macht aber sicherlich keinen Sinn. <br>\n",
    "\n",
    "### 8.3.2 Property\n",
    "\n",
    "Mittels den sogenannten *Properties* kann der Zugriff für den Benutzer auf eine sehr komfortable Art und Weise gesteuert werden. Die Schnittstelle ist somit komplett entkoppelt und somit braucht der Benutzer auch keinerlei Kenntnisse über die Namen der Zugriffsmethoden. Es genügt den entsprechenden Attribut-Namen zu kennen. Für den Benutzer sieht es denn so aus, als ob er direkt auf das entsprechende Attribut zugreifen würde."
   ]
  },
  {
   "cell_type": "code",
   "execution_count": 25,
   "metadata": {},
   "outputs": [],
   "source": [
    "class RGB:\n",
    "    def __init__(self, port='COM5', default_color=(0, 0, 0)):\n",
    "        self.__set_port(port)\n",
    "        ...\n",
    "\n",
    "    def __get_port(self):  # Abfragemethode (getter)\n",
    "        return self.__port\n",
    "\n",
    "    def __set_port(self, port):  # Änderungsmethode (setter)\n",
    "        self.__port = port  # Attribut port ist private definiert\n",
    "\n",
    "    port = property(__get_port, __set_port)  # Übergabe der Funktion und kein Funktionsaufruf!"
   ]
  },
  {
   "cell_type": "code",
   "execution_count": 26,
   "metadata": {},
   "outputs": [
    {
     "data": {
      "text/plain": [
       "'COM5'"
      ]
     },
     "execution_count": 26,
     "metadata": {},
     "output_type": "execute_result"
    }
   ],
   "source": [
    "rgb = RGB()\n",
    "rgb.port  # Attriburt kann nun wieder \"scheinbar\" direkt abgerufen werden, im Hintergrund wird aber getter-Methode verwendet"
   ]
  },
  {
   "cell_type": "code",
   "execution_count": 27,
   "metadata": {},
   "outputs": [
    {
     "data": {
      "text/plain": [
       "'COM6'"
      ]
     },
     "execution_count": 27,
     "metadata": {},
     "output_type": "execute_result"
    }
   ],
   "source": [
    "rgb.port = 'COM6'  # Attribut zuweisen (\"scheinbar\" direkt, aber im Hintergrund wird setter-Methode verwendet)\n",
    "rgb.port"
   ]
  },
  {
   "cell_type": "markdown",
   "metadata": {},
   "source": [
    "Mit *decorators* kann das obige noch kompakter/eleganter geschrieben werden."
   ]
  },
  {
   "cell_type": "code",
   "execution_count": 47,
   "metadata": {},
   "outputs": [],
   "source": [
    "class RGB:\n",
    "    def __init__(self, port='COM5', default_color=(0, 0, 0)):\n",
    "        self.port = port  # wird so durch setter-Methode gesetzt (darum nicht self.__port = port)\n",
    "        ...\n",
    "\n",
    "    @property\n",
    "    def port(self):\n",
    "        return self.__port\n",
    "\n",
    "    @port.setter\n",
    "    def port(self, port):\n",
    "        self.__port = port"
   ]
  },
  {
   "cell_type": "code",
   "execution_count": 48,
   "metadata": {},
   "outputs": [
    {
     "data": {
      "text/plain": [
       "'COM5'"
      ]
     },
     "execution_count": 48,
     "metadata": {},
     "output_type": "execute_result"
    }
   ],
   "source": [
    "rgb = RGB()\n",
    "rgb.port"
   ]
  },
  {
   "cell_type": "code",
   "execution_count": 49,
   "metadata": {},
   "outputs": [
    {
     "data": {
      "text/plain": [
       "'COM6'"
      ]
     },
     "execution_count": 49,
     "metadata": {},
     "output_type": "execute_result"
    }
   ],
   "source": [
    "rgb.port = 'COM6'\n",
    "rgb.port"
   ]
  },
  {
   "cell_type": "markdown",
   "metadata": {},
   "source": [
    "---\n",
    "<p style='text-align: right; font-size: 70%;'>Grundlagen Python (PYT_G01) / 2024</p>"
   ]
  }
 ],
 "metadata": {
  "kernelspec": {
   "display_name": "Python 3 (ipykernel)",
   "language": "python",
   "name": "python3"
  },
  "language_info": {
   "codemirror_mode": {
    "name": "ipython",
    "version": 3
   },
   "file_extension": ".py",
   "mimetype": "text/x-python",
   "name": "python",
   "nbconvert_exporter": "python",
   "pygments_lexer": "ipython3",
   "version": "3.10.11"
  }
 },
 "nbformat": 4,
 "nbformat_minor": 4
}
