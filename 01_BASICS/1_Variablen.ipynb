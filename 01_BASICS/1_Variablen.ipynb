{
 "cells": [
  {
   "cell_type": "markdown",
   "metadata": {},
   "source": [
    "# 1. Variablen\n",
    "\n",
    "<img src=\"IMG/logo.png\" />\n",
    "<a href=\"0_Einfuehrung.ipynb\">&larr; Einführung/Inhalt</a>"
   ]
  },
  {
   "cell_type": "markdown",
   "metadata": {
    "tags": []
   },
   "source": [
    "## 1.1 Motivation\n",
    "\n",
    "In vielen Programmiersprachen (z. B. C, Java) muss einer Variable ein Datentyp zugeordnet werden (Deklaration). Dieser Datentyp ist für die Laufzeit des Programms fix und kann nicht verändert werden (*statische Typisierung*). In Python ist dies nicht so und der Datentyp einer Variable kann während der Laufzeit verändert werden (*dynamische Typisierung*). Der Datentyp einer Variable kann u. a. mit der Funktion `type()` bestimmt werden."
   ]
  },
  {
   "cell_type": "code",
   "execution_count": 1,
   "metadata": {},
   "outputs": [
    {
     "name": "stdout",
     "output_type": "stream",
     "text": [
      "Wert von a = 1\n",
      "a ist vom Datentyp: <class 'int'>\n"
     ]
    }
   ],
   "source": [
    "a = 1\n",
    "print('Wert von a =', a)\n",
    "print('a ist vom Datentyp:', type(a))"
   ]
  },
  {
   "cell_type": "code",
   "execution_count": 5,
   "metadata": {},
   "outputs": [
    {
     "name": "stdout",
     "output_type": "stream",
     "text": [
      "Wert von a = 3.0\n",
      "a ist vom Datentyp: <class 'float'>\n"
     ]
    }
   ],
   "source": [
    "a = 3.0\n",
    "print('Wert von a =', a)\n",
    "print('a ist vom Datentyp:', type(a))"
   ]
  },
  {
   "cell_type": "code",
   "execution_count": 10,
   "metadata": {},
   "outputs": [
    {
     "name": "stdout",
     "output_type": "stream",
     "text": [
      "Wert von a = Ich bin ein String\n",
      "a ist vom Datentyp: <class 'str'>\n"
     ]
    }
   ],
   "source": [
    "a = 'Ich bin ein String'\n",
    "print('Wert von a =', a)\n",
    "print('a ist vom Datentyp:', type(a))"
   ]
  },
  {
   "cell_type": "markdown",
   "metadata": {},
   "source": [
    "Wie im obigen Beispiel ersichtlich, ändert die Variable `a` nicht nur ihren Wert, sondern ebenfalls ihren Datentyp. Mehr zu den Datentypen folgt im [Abschnitt 2](2_0_Datentypen.ipynb). Zusätzlich zum Datentyp weist die Variable eine Identität `id()` auf. Dies ist eine eindeutige Zuweisung einer Variablen zu einem Objekt im Speicher (Speicherort). Mit dieser Funktion kann geprüft werden, ob zwei Variablen denselben Wert referenzieren.\n",
    "\n",
    "![ID](IMG/PYT_G01_ids.svg)"
   ]
  },
  {
   "cell_type": "code",
   "execution_count": 1,
   "metadata": {},
   "outputs": [
    {
     "name": "stdout",
     "output_type": "stream",
     "text": [
      "Wert von a =  1.25 und Indentität:  1932399160976 auf\n",
      "Wert von b =  1.25 und Indentität:  1932399158544 auf\n",
      "a und b sind vom Wert her gleich?  True\n",
      "a und b weisen dieselbe Indentität auf?  False\n",
      "a und b weisen dieselbe Indentität auf?  True\n"
     ]
    }
   ],
   "source": [
    "a = 1.25\n",
    "b = 1.25\n",
    "print('Wert von a = ', a, 'und Indentität: ', id(a), 'auf')\n",
    "print('Wert von b = ', b, 'und Indentität: ', id(b), 'auf')\n",
    "\n",
    "# a und b weisen denselben Wert auf, referenzieren aber zwei verschiedene Speicherorte\n",
    "print('a und b sind vom Wert her gleich? ', a == b)\n",
    "print('a und b weisen dieselbe Indentität auf? ', id(a) == id(b))\n",
    "\n",
    "b = a\n",
    "# nun referenzieren beide Variablen denselben Wert im Speicher\n",
    "print('a und b weisen dieselbe Indentität auf? ', id(a) == id(b))"
   ]
  },
  {
   "cell_type": "markdown",
   "metadata": {},
   "source": [
    "## 1.2 Konvention für Variablennamen\n",
    "Variablennamen müssen zwingend mit einem Buchstaben oder einem Unterstrich `_` beginnen und sind **case-sensitive** (Unterscheidung Gross-/Kleinschreibung). Weiter gilt in der Python-Community, dass Variablennamen **kleingeschrieben** werden und falls der Name aus mehreren Wörtern besteht, so werden diese mit `_` separiert. Generell sollten möglichst sprechende Variablennamen verwendet werden, wie z.B. `maximale_beschleunigung`."
   ]
  },
  {
   "cell_type": "markdown",
   "metadata": {},
   "source": [
    "### 1.2.1 Python Keywords\n",
    "Es existieren in Python reservierte Schlüsselwörter, welche nicht für die Bezeichnung von Variablen benutzt werden dürfen.\n",
    "\n",
    "`and, as, assert, break, class, continue, def, del, elif, else, except, finally, for, from, global, if, import, in, is, lambda, nonlocal, not, or, pass, raise, return, try, while,  with, yield`\n",
    "\n",
    "Falls eines dieser Schlüsselwörter als Variablenname verwendet wird, wird ein Syntax-Fehler erzeugt."
   ]
  },
  {
   "cell_type": "markdown",
   "metadata": {},
   "source": [
    "---\n",
    "<p style='text-align: right; font-size: 70%;'>Grundlagen Python (PYT_G01) / 2024</p>"
   ]
  }
 ],
 "metadata": {
  "kernelspec": {
   "display_name": "Python 3 (ipykernel)",
   "language": "python",
   "name": "python3"
  },
  "language_info": {
   "codemirror_mode": {
    "name": "ipython",
    "version": 3
   },
   "file_extension": ".py",
   "mimetype": "text/x-python",
   "name": "python",
   "nbconvert_exporter": "python",
   "pygments_lexer": "ipython3",
   "version": "3.10.11"
  }
 },
 "nbformat": 4,
 "nbformat_minor": 4
}
