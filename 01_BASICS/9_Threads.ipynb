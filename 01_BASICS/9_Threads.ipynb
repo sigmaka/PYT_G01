{
 "cells": [
  {
   "cell_type": "markdown",
   "metadata": {},
   "source": [
    "<img src=\"IMG/PYT_G01_logo.svg\" width=\"100%\"/>\n",
    "<a href=\"0_Einfuehrung_Inhalt.ipynb\" target=\"_blank\">&larr; Einführung/Inhalt</a>"
   ]
  },
  {
   "cell_type": "markdown",
   "metadata": {},
   "source": [
    "# 9. Threading\n",
    "\n",
    "Unsere bisherigen Programme liefen immer in einem einzigen Thread (Ausführungsstrang), d.h. alles passierte nacheinander (\"seriell\"). Dies ist in vielen Fällen unproblematisch, doch es gibt Fälle, in denen man durch \"Parallelisierung\" (z.B. gleichzeitige Funktionsaufrufe, Berechnungen im Hintergrund etc.) das Programm massiv optimieren kann in Bezug auf die Laufzeit bzw. Effizienz. Für die \"Parallelisierung\" stehen in Python verschiedene Packages zur Verfügung:\n",
    "\n",
    "- **asyncio**: asynchrone Ausführung von I/O-Operationen in einem Thread (API-Requests, Datenbank-Zugriff, ...)\n",
    "- **threading**: parallele Ausführung von Programmteilen in separaten *Threads*\n",
    "- **multiprocessing**: parallel Ausführung von Programmteilen in separaten *Prozessen*\n",
    "\n",
    "Wir werden von den oben erwähnten Möglichkeiten ausschliesslich das **Threading** anschauen. Allgemein wird durch einen Thread in der Informatik ein Ausführungsstrang oder eine Ausführungsreihenfolge in der Abarbeitung eines Programmes bezeichnet. In gewissem Sinne kann man Threads auch als eine Erweiterung des Funktions-Konzeptes einer Programmiersprache auffassen. Man kann einen Thread somit wie einen Funktionsaufruf oder Prozeduraufruf sehen, der sozusagen \"parallel\" zum Hauptstrang ausgeführt wird.\n",
    "\n",
    "Standardmässig besitzt jeder **Prozess** mindestens einen **Thread**. Ein Prozess kann mehrere Threads starten. Der Vorteil von Threads gegenüber Prozessen besteht darin, dass sich die Threads denselben Speicherbereich für globale Variablen teilen. Verändert ein Thread eine globale Variable, ist der neue Wert auch in dieser Variablen sofort für alle anderen Threads des Prozesses sichtbar. Ein Thread hat aber auch eigene lokale Variablen. Die Verwaltung von Threads ist für das Betriebssystem einfacher, weshalb Threads auch als Leichtgewichtprozesse bezeichnet werden. Der oben beschriebene Vorteil von Threads bringt aber gewisse Risiken mit sich. Vor allem wenn mehrere Threads gleichzeitig auf eine gemeinsame Ressource zugreifen, können schnell mühsam zu debuggende Probleme auftreten. Der Zugriff auf eine solche \"gemeinsame\" Ressource ist entsprechend zu kontrollieren.\n",
    "\n",
    "Mehr zum Thema *Threading* finden Sie hier:\n",
    "\n",
    "- <a href=\"https://www.python-kurs.eu/threads.php\" target=\"_blank\">Threads in Python</a>\n",
    "- <a href=\"https://superfastpython.com/threading-in-python/\" target=\"_blank\">Python Threading: The Complete Guide</a>\n",
    "\n",
    "Damit die Thematik fassbarer wird, folgt hier ein Einführungsbeispiel. Hierbei wird ebenfalls aufgezeigt, was passiert, wenn keine Threads eingesetzt werden. Studieren Sie das nachfolgende Beispiel mit den beiden Umsetzungen ohne und mit der Verwendung von Threads sehr genau. Danach sollte die Funktionalität der Threads und deren Implementation und Verwendung klar sein."
   ]
  },
  {
   "cell_type": "markdown",
   "metadata": {},
   "source": [
    "## 9.1 Beispiel\n",
    "\n",
    "Nachfolgend definieren wir eine Funktion `do_work()`, welche nichts anderes tut als eine bestimmte Zeit zu warten. Diese soll eine aufwändige Tätigkeit (z.B. aufwändige Berechnung oder Herunterladen/Analysieren von Daten etc.) repräsentieren, die relativ viel Zeit benötigt und damit das Programm \"ausbremsen\" kann."
   ]
  },
  {
   "cell_type": "code",
   "execution_count": 7,
   "metadata": {},
   "outputs": [],
   "source": [
    "import time\n",
    "\n",
    "def do_work(n):\n",
    "    print('Aufruf {} gestartet'.format(n))\n",
    "    time.sleep(3)  # hier würde die ressourcenintensive Berechnung erfolgen\n",
    "    print('Aufruf {} beendet'.format(n))"
   ]
  },
  {
   "cell_type": "markdown",
   "metadata": {},
   "source": [
    "### 9.1.1 Umsetzung ohne Threads (\"seriell\")\n",
    "\n",
    "Stellen Sie sich eine Anwendung vor, in der die obige Funktion nun mehrmals ausgeführt werden muss. Dies erfolgt im nachfolgenden Beispiel, in dem die Funktion dreimal aufgerufen wird. In diesem Beispiel wird ohne Parallelisierung (ohne Threads) gearbeitet, d.h. die Aufrufe erfolgen nacheinander (seriell) und damit beträgt die gesamte Laufdauer ca. 3 x 3 s = 9 s. Folgend Abbildung zeigt die Ausführung schematisch.\n",
    "\n",
    "<center>\n",
    "<img src=\"IMG/thread_single.jpg\" width=75%/>\n",
    "</center>"
   ]
  },
  {
   "cell_type": "code",
   "execution_count": 8,
   "metadata": {},
   "outputs": [
    {
     "name": "stdout",
     "output_type": "stream",
     "text": [
      "Aufruf 1 gestartet\n",
      "Aufruf 1 beendet\n",
      "Aufruf 2 gestartet\n",
      "Aufruf 2 beendet\n",
      "Aufruf 3 gestartet\n",
      "Aufruf 3 beendet\n"
     ]
    }
   ],
   "source": [
    "for i in range(3):\n",
    "    do_work(i+1)"
   ]
  },
  {
   "cell_type": "markdown",
   "metadata": {},
   "source": [
    "### 9.1.2 Umsetzung mit Threads (\"parallel\")\n",
    "\n",
    "Eine massive Zeitersparnis kann erreicht werden, wenn die drei Aufrufe der Funktion nicht nacheinander, sondern parallel erfolgen. Dies können wir mit den bisher gelernten Kontrollstrukturen nicht umsetzen, da die bisherigen Programme immer in nur einem Thread (\"seriell\") abliefen. Mit **Threads** können wir die Funktionalität in mehrere Threads \"aufteilen\", welche \"parallel\" ablaufen. Die folgende Abbildung zeigt die Ausführung schematisch, wobei zu sehen ist, wie die Aufrufe nun \"parallel\" ablaufen.\n",
    "\n",
    "<center>\n",
    "<img src=\"IMG/thread_multiple.jpg\" width=50%/>\n",
    "</center>"
   ]
  },
  {
   "cell_type": "code",
   "execution_count": 11,
   "metadata": {},
   "outputs": [
    {
     "name": "stdout",
     "output_type": "stream",
     "text": [
      "Aufruf 1 gestartet\n",
      "Aufruf 2 gestartet\n",
      "Aufruf 3 gestartet\n",
      "Aufruf 1 beendet\n",
      "Aufruf 3 beendet\n",
      "Aufruf 2 beendet\n"
     ]
    }
   ],
   "source": [
    "from threading import Thread\n",
    "\n",
    "for i in range(3):\n",
    "    t = Thread(target=do_work, args=(i+1,))  # Übergabe der Funktion und der Argumente an Thread t\n",
    "    t.start()  # Starten des Threads"
   ]
  },
  {
   "cell_type": "markdown",
   "metadata": {},
   "source": [
    "Wie man erkennt, werden die drei Aufrufe nun parallel gestartet und die Gesamtlaufzeit beträgt damit nur noch ca. 3 s. "
   ]
  },
  {
   "cell_type": "markdown",
   "metadata": {},
   "source": [
    "## 9.2 RGB-Beispiel\n",
    "\n",
    "Das obige Beispiel zeigt die Funktionsweise des Threadings anschaulich, doch nun wollen wir uns noch ein Beispiel anschauen, welches den praktischen Nutzen des Threadings besser illustriert. Dabei geht es darum, einzelne LEDs der RGB-Matrix mit unterschiedlichen Frequenzen blinken zu lassen.\n",
    "\n",
    "- LED mit Zeilenindex 1 und Spaltenindex 2 soll mit 1 Hz rot blinken\n",
    "- LED mit Zeilenindex 3 und Spaltenindex 4 soll mit 0.7 Hz grün blinken\n",
    "- LED mit Zeilenindex 5 und Spaltenindex 6 soll mit 1.3 Hz blau blinken\n",
    "\n",
    "Überlegen Sie sich kurz, wie Sie diese Aufgabe ohne Threading lösen würden. Es ist durchaus möglich, diese Aufgabe ohne Threading zu lösen, doch Sie werden feststellen, dass Sie nicht einfach mit `time.sleep()` die Blinkfrequenzen der drei LEDs unabhängig voneinander steuern können, da Sie sich gegenseitig blockieren. Speziell mühsam wird das Ganze, wenn die Frequenzen nicht Vielfache voneinander sind. Mithilfe des Threadings ist die Aufgabe deutlich einfacher umzusetzen.\n",
    "\n",
    "Als erstes erstellen wir eine Funktion `blinken()` mit den Argumenten *position*, *farbe*, *frequenz*, welche die LED in der gewünschten Frequenz und Farbe ein- und ausschaltet. Um Daten zwischen den parallel laufenden Threads austauschen zu können, verwenden wir hier der Einfachheit halber zwei globale Variablen *running* und *matrix*, um das Blinken zu stoppen bzw. die Daten für die RGB-Matrix zu übergeben."
   ]
  },
  {
   "cell_type": "code",
   "execution_count": 7,
   "metadata": {},
   "outputs": [],
   "source": [
    "import time\n",
    "\n",
    "def blinken(position, farbe, frequenz):\n",
    "    global running, matrix\n",
    "    while running:\n",
    "        matrix[position[0]][position[1]] = farbe\n",
    "        time.sleep((1 / frequenz) / 2)\n",
    "        matrix[position[0]][position[1]] = (0, 0, 0)\n",
    "        time.sleep((1 / frequenz) / 2)"
   ]
  },
  {
   "cell_type": "markdown",
   "metadata": {},
   "source": [
    "Möchte man die Aufgabe ohne Threading umsetzen, kann die obige Funktion nicht einfach gleichzeitig für die drei LEDs aufgerufen werden, da die Aufrufe sich gegenseitig blockieren würden. Mittels Threading können die Aufrufe dagegen in drei separaten Threads ausgeführt werden und somit parallel ablaufen. Mit den nachfolgenden Zeilen werden nun drei Aufrufe der Funktion `blinken()` in separaten Threads gestartet.\n",
    "```python\n",
    "for pos, fa, freq in zip(positionen, farben, frequenzen):\n",
    "    Thread(target=blinken, args=(pos, fa, freq)).start()\n",
    "```\n",
    "Diese Threads laufen nun parallel zum Hauptstrang und blockieren diesen bzw. einander nicht. Mit der globalen Variable *running* werden nach ca. 10 s die Threads gestoppt und das Programm endet.\n",
    "```python\n",
    "running = False\n",
    "```\n",
    "(Nebenbei: Die Aufgabe könnte eleganter mittels OOP realisiert werden, wobei jede blinkende LED ein Objekt einer Blinker-Klasse wäre. Überlegen Sie sich, wie Sie die Aufgabe mittels OOP realisieren würden.)"
   ]
  },
  {
   "cell_type": "code",
   "execution_count": 13,
   "metadata": {},
   "outputs": [],
   "source": [
    "import time\n",
    "from threading import Thread\n",
    "from abbts_blp.rgb import RgbFpga\n",
    "\n",
    "if __name__ == '__main__':\n",
    "    positionen = [[1, 2], [3, 4], [5, 6]]\n",
    "    farben = [(10, 0, 0), (0, 10, 0), (0, 0, 10)]\n",
    "    frequenzen = [1, 0.4, 2.5]\n",
    "\n",
    "    rgb = RgbFpga(port='COM5')\n",
    "    matrix = rgb.rgb_matrix\n",
    "    rgb.open()\n",
    "    running = True\n",
    "\n",
    "    for pos, fa, freq in zip(positionen, farben, frequenzen):\n",
    "        Thread(target=blinken, args=(pos, fa, freq)).start()\n",
    "\n",
    "    t_end = time.time() + 10\n",
    "    while time.time() < t_end:\n",
    "        rgb.rgb_matrix = matrix\n",
    "        rgb.write()\n",
    "    running = False\n",
    "    rgb.close()\n"
   ]
  },
  {
   "cell_type": "markdown",
   "metadata": {},
   "source": [
    "---\n",
    "<p style='text-align: right; font-size: 70%;'>Grundlagen Python (PYT_G01) / 2024</p>"
   ]
  }
 ],
 "metadata": {
  "kernelspec": {
   "display_name": "Python 3 (ipykernel)",
   "language": "python",
   "name": "python3"
  },
  "language_info": {
   "codemirror_mode": {
    "name": "ipython",
    "version": 3
   },
   "file_extension": ".py",
   "mimetype": "text/x-python",
   "name": "python",
   "nbconvert_exporter": "python",
   "pygments_lexer": "ipython3",
   "version": "3.10.11"
  }
 },
 "nbformat": 4,
 "nbformat_minor": 4
}
