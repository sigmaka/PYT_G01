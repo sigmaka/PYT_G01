{
 "cells": [
  {
   "cell_type": "markdown",
   "metadata": {},
   "source": [
    "<img src=\"IMG/PYT_G01_logo.svg\" width=\"100%\"/>\n",
    "<a href=\"0_Einfuehrung_Inhalt.ipynb\" target=\"_blank\">&larr; Einführung/Inhalt</a>"
   ]
  },
  {
   "cell_type": "markdown",
   "metadata": {},
   "source": [
    "# 7. Error Handling\n",
    "\n",
    "- **Syntax-Fehler**, also offensichtliche Fehler beim Programmieren, die dazu führen, dass das Programm nicht läuft, können mit IDEs (z.B. PyCharm) relativ rasch erkannt und behoben werden. Solche Fehler stellen in der Regel keine grösseren Probleme dar.\n",
    "- Fehler, die während der Programmlaufzeit auftreten, z.B. eine Division durch 0 oder ein Zugriff auf eine Datei, die nicht (mehr) existiert, nennt man **Exceptions**. Solche Fehler führen zu einem Programmabruch, wobei eine Fehlermeldung erscheint. Solche Fehler können sehr kritisch sein und müssen deshalb durch Testen des Programms möglichst erkannt und entsprechend behandelt werden.\n",
    "\n",
    "## 7.1 Exceptions (Laufzeitfehler)\n",
    "\n",
    "Die folgenden Beispiel zeigen typische Exceptions (Division durch 0 bzw. Zugriff auf eine nicht vorhandene Datei). In Jupyter scheinen solche Exceptions nicht weiter tragisch zu sein, doch stellen Sie sich vor, diese Block wären Teil eines umfangreichen Programms, welches dadurch unkontrolliert \"abstürzt\"."
   ]
  },
  {
   "cell_type": "code",
   "execution_count": 1,
   "metadata": {},
   "outputs": [
    {
     "ename": "ZeroDivisionError",
     "evalue": "division by zero",
     "output_type": "error",
     "traceback": [
      "\u001b[1;31m---------------------------------------------------------------------------\u001b[0m",
      "\u001b[1;31mZeroDivisionError\u001b[0m                         Traceback (most recent call last)",
      "Cell \u001b[1;32mIn[1], line 2\u001b[0m\n\u001b[0;32m      1\u001b[0m x \u001b[38;5;241m=\u001b[39m \u001b[38;5;241m0\u001b[39m\n\u001b[1;32m----> 2\u001b[0m \u001b[38;5;241;43m5\u001b[39;49m\u001b[43m \u001b[49m\u001b[38;5;241;43m/\u001b[39;49m\u001b[43m \u001b[49m\u001b[43mx\u001b[49m  \u001b[38;5;66;03m# Division durch 0\u001b[39;00m\n",
      "\u001b[1;31mZeroDivisionError\u001b[0m: division by zero"
     ]
    }
   ],
   "source": [
    "x = 0\n",
    "5 / x  # Division durch 0"
   ]
  },
  {
   "cell_type": "code",
   "execution_count": 2,
   "metadata": {},
   "outputs": [
    {
     "ename": "FileNotFoundError",
     "evalue": "[Errno 2] No such file or directory: 'File.txt'",
     "output_type": "error",
     "traceback": [
      "\u001b[1;31m---------------------------------------------------------------------------\u001b[0m",
      "\u001b[1;31mFileNotFoundError\u001b[0m                         Traceback (most recent call last)",
      "Cell \u001b[1;32mIn[2], line 1\u001b[0m\n\u001b[1;32m----> 1\u001b[0m f \u001b[38;5;241m=\u001b[39m \u001b[38;5;28;43mopen\u001b[39;49m\u001b[43m(\u001b[49m\u001b[38;5;124;43m\"\u001b[39;49m\u001b[38;5;124;43mFile.txt\u001b[39;49m\u001b[38;5;124;43m\"\u001b[39;49m\u001b[43m)\u001b[49m  \u001b[38;5;66;03m# Datei existiert nicht\u001b[39;00m\n",
      "File \u001b[1;32m~\\Documents\\PYT_G01\\python_portable_31011_01_01\\venv\\lib\\site-packages\\IPython\\core\\interactiveshell.py:324\u001b[0m, in \u001b[0;36m_modified_open\u001b[1;34m(file, *args, **kwargs)\u001b[0m\n\u001b[0;32m    317\u001b[0m \u001b[38;5;28;01mif\u001b[39;00m file \u001b[38;5;129;01min\u001b[39;00m {\u001b[38;5;241m0\u001b[39m, \u001b[38;5;241m1\u001b[39m, \u001b[38;5;241m2\u001b[39m}:\n\u001b[0;32m    318\u001b[0m     \u001b[38;5;28;01mraise\u001b[39;00m \u001b[38;5;167;01mValueError\u001b[39;00m(\n\u001b[0;32m    319\u001b[0m         \u001b[38;5;124mf\u001b[39m\u001b[38;5;124m\"\u001b[39m\u001b[38;5;124mIPython won\u001b[39m\u001b[38;5;124m'\u001b[39m\u001b[38;5;124mt let you open fd=\u001b[39m\u001b[38;5;132;01m{\u001b[39;00mfile\u001b[38;5;132;01m}\u001b[39;00m\u001b[38;5;124m by default \u001b[39m\u001b[38;5;124m\"\u001b[39m\n\u001b[0;32m    320\u001b[0m         \u001b[38;5;124m\"\u001b[39m\u001b[38;5;124mas it is likely to crash IPython. If you know what you are doing, \u001b[39m\u001b[38;5;124m\"\u001b[39m\n\u001b[0;32m    321\u001b[0m         \u001b[38;5;124m\"\u001b[39m\u001b[38;5;124myou can use builtins\u001b[39m\u001b[38;5;124m'\u001b[39m\u001b[38;5;124m open.\u001b[39m\u001b[38;5;124m\"\u001b[39m\n\u001b[0;32m    322\u001b[0m     )\n\u001b[1;32m--> 324\u001b[0m \u001b[38;5;28;01mreturn\u001b[39;00m io_open(file, \u001b[38;5;241m*\u001b[39margs, \u001b[38;5;241m*\u001b[39m\u001b[38;5;241m*\u001b[39mkwargs)\n",
      "\u001b[1;31mFileNotFoundError\u001b[0m: [Errno 2] No such file or directory: 'File.txt'"
     ]
    }
   ],
   "source": [
    "f = open(\"File.txt\")  # Datei existiert nicht"
   ]
  },
  {
   "cell_type": "markdown",
   "metadata": {},
   "source": [
    "Solche Situationen müssen vermieden werden, indem mögliche Fehler abgefangen werden (*Exception Handling* bzw. *Error Handling*). Bei der Entwicklung eines umfangreichen Programms ist deshalb das ausgiebige Testen des Programms extrem wichtig, um auftretende Fehler (*Bugs*) zu finden und entsprechend zu behandeln."
   ]
  },
  {
   "cell_type": "markdown",
   "metadata": {},
   "source": [
    "## 7.2 try ... except\n",
    "\n",
    "Mit dem `try ... except`-Konstrukt könnnen Exceptions (Fehler) abgefangen und ensprechend darauf reagiert werden. Wenn die Anweisungen im `try`-Teil zu einer Fehlermeldung (Abbruch) führen würden, wird stattdessen der `except`-Teil ausgeführt. "
   ]
  },
  {
   "cell_type": "code",
   "execution_count": 3,
   "metadata": {},
   "outputs": [
    {
     "name": "stdout",
     "output_type": "stream",
     "text": [
      "Division durch null!\n"
     ]
    }
   ],
   "source": [
    "try:\n",
    "    print(5 / x)\n",
    "except:  # wird bei jeder Exception ausgeführt\n",
    "    print(\"Division durch null!\")"
   ]
  },
  {
   "cell_type": "markdown",
   "metadata": {},
   "source": [
    "Nicht ideal ist, dass der `except`-Block im obigen Codeabschnitt auch ausgeführt wird, wenn ein anderer Fehler auftritt (z.B. wenn die Variable `x` nicht existiert). Dies kann verbessert werden, indem mit `ZeroDivisionError` explizit der Fall der Division durch 0 abgefangen wird. Exceptions sollten immer möglichst spezifisch behandelt werden."
   ]
  },
  {
   "cell_type": "code",
   "execution_count": 4,
   "metadata": {},
   "outputs": [
    {
     "name": "stdout",
     "output_type": "stream",
     "text": [
      "Division durch null!\n"
     ]
    }
   ],
   "source": [
    "try:\n",
    "    print(5 / x)\n",
    "except ZeroDivisionError:  # wird nur bei der Divions durch 0 ausgeführt\n",
    "    print(\"Division durch null!\")"
   ]
  },
  {
   "cell_type": "markdown",
   "metadata": {},
   "source": [
    "Die wichtigsten Fehlertypen sind:\n",
    "\n",
    "| Fehlertyp                   | Beschreibung                              |\n",
    "|:----------------------------|:------------------------------------------|\n",
    "| FileExistsError             | Datei vorhanden (beim Erstellen)          |\n",
    "| FileNotFoundErrorKeyError   | Datei nicht vorhanden                     |\n",
    "| IndexError                  | Index ausserhalb des gültigen Bereichs    |\n",
    "| KeyError                    | Key nicht enthalten (Dictionary)          |\n",
    "| MemoryError                 | zuwenig Speicherplatz                     |\n",
    "| NameError                   | Variable existiert nicht                  |\n",
    "| PermissionError             | Zugriff nicht erlaubt                     |\n",
    "| TypeError                   | ungültiger Datentyp                       |\n",
    "| ValueError                  | Wert einer Variable hat ungültigen Wert   |\n",
    "| ZeroDivisionError           | Division durch 0                          |"
   ]
  },
  {
   "cell_type": "markdown",
   "metadata": {},
   "source": [
    "### 7.2.1 Mehrere except - Blöcke\n",
    "\n",
    "Um auf verschiedene Exceptions (Fehler) einzugehen, können beliebig viele `except`-Teile verwendet werden."
   ]
  },
  {
   "cell_type": "code",
   "execution_count": 5,
   "metadata": {},
   "outputs": [
    {
     "name": "stdout",
     "output_type": "stream",
     "text": [
      "Variable nicht definiert!\n"
     ]
    }
   ],
   "source": [
    "try:\n",
    "    print(y / x)\n",
    "except ZeroDivisionError:\n",
    "    print(\"Division durch null!\")\n",
    "except NameError:\n",
    "    print(\"Variable nicht definiert!\")"
   ]
  },
  {
   "cell_type": "markdown",
   "metadata": {},
   "source": [
    "### 7.2.2 finally\n",
    "\n",
    "Code, der in jedem Fall ausgeführt werden soll (unabhängig davon, ob im `try`-Teil ein Fehler aufgetreten ist oder nicht), kommt in den `finally`-Teil. Dies wird häufig dafür verwendet, um abschliessend z.B. Netzwerkverbindungen, Dateien etc. zu schliessen, die evtl. noch offen sind und allg. um Ressourcen \"aufzuräumen\"."
   ]
  },
  {
   "cell_type": "code",
   "execution_count": 6,
   "metadata": {},
   "outputs": [
    {
     "name": "stdout",
     "output_type": "stream",
     "text": [
      "Division durch null!\n",
      "Ablauf abgeschlossen\n"
     ]
    }
   ],
   "source": [
    "y = 2\n",
    "try:\n",
    "    print(y / x)\n",
    "except ZeroDivisionError:\n",
    "    print(\"Division durch null!\")\n",
    "except NameError:\n",
    "    print(\"Variable nicht definiert!\")\n",
    "finally:\n",
    "    print(\"Ablauf abgeschlossen\")"
   ]
  },
  {
   "cell_type": "markdown",
   "metadata": {},
   "source": [
    "## 7.3 Benutzerdefinierte Exceptions\n",
    "\n",
    "Bisher haben wir über die Stanard-Exceptions von Python gesprochen, die automatisch ausgelöst werden. Häufig ist es allerdings sehr nützlich, wenn man auch \"eigene\" Exceptions definieren und auslösen kann. Dies ermöglicht die `raise`-Anweisung."
   ]
  },
  {
   "cell_type": "code",
   "execution_count": 7,
   "metadata": {},
   "outputs": [
    {
     "name": "stdin",
     "output_type": "stream",
     "text": [
      "Bitte geben Sie Ihre E-Mail-Adresse ein. test.abbts-doz.ch\n"
     ]
    },
    {
     "name": "stdout",
     "output_type": "stream",
     "text": [
      "Ungültige E-Mail-Adresse\n"
     ]
    }
   ],
   "source": [
    "class InvalidEmailError(Exception):\n",
    "    pass\n",
    "\n",
    "def check_email(email):\n",
    "    if not \"@\" in email:\n",
    "        raise InvalidEmailError()\n",
    "\n",
    "email = input(\"Bitte geben Sie Ihre E-Mail-Adresse ein.\")\n",
    "\n",
    "try:\n",
    "    check_email(email)\n",
    "except InvalidEmailError:\n",
    "    print(\"Ungültige E-Mail-Adresse\")"
   ]
  },
  {
   "cell_type": "markdown",
   "metadata": {},
   "source": [
    "Benutzerdefinierte Exceptions müssen von der Basisklasse `Exception` abgeleitet werden (siehe erste Zeile im obigen Code-Block). Dies werden wir im Zuge der objektorietierten Programmierung genauer anschauen und muss Sie im Moment nicht weiter kümmern."
   ]
  },
  {
   "cell_type": "markdown",
   "metadata": {},
   "source": [
    "---\n",
    "<p style='text-align: right; font-size: 70%;'>Grundlagen Python (PYT_G01) / 2024</p>"
   ]
  }
 ],
 "metadata": {
  "kernelspec": {
   "display_name": "Python 3 (ipykernel)",
   "language": "python",
   "name": "python3"
  },
  "language_info": {
   "codemirror_mode": {
    "name": "ipython",
    "version": 3
   },
   "file_extension": ".py",
   "mimetype": "text/x-python",
   "name": "python",
   "nbconvert_exporter": "python",
   "pygments_lexer": "ipython3",
   "version": "3.10.11"
  }
 },
 "nbformat": 4,
 "nbformat_minor": 4
}
