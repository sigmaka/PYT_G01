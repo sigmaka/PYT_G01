{
 "cells": [
  {
   "cell_type": "markdown",
   "metadata": {
    "tags": []
   },
   "source": [
    "<img src=\"IMG/PYT_G01_logo.svg\" width=\"100%\"/>\n",
    "<a href=\"0_Einfuehrung_Inhalt.ipynb\" target=\"_blank\">&larr; Einführung/Inhalt</a>"
   ]
  },
  {
   "cell_type": "markdown",
   "metadata": {},
   "source": [
    "### 2.2.2 Strings (Zeichenketten) im Detail"
   ]
  },
  {
   "cell_type": "markdown",
   "metadata": {},
   "source": [
    "#### Indexieren & Slicing\n",
    "\n",
    "Strings gehören zu den sequentiellen Datentypen und somit kann das Indexieren resp. Slicing angewendet werden."
   ]
  },
  {
   "cell_type": "code",
   "execution_count": 55,
   "metadata": {},
   "outputs": [
    {
     "name": "stdout",
     "output_type": "stream",
     "text": [
      " Hello world! \n"
     ]
    }
   ],
   "source": [
    "s = ' Hello world! '\n",
    "print(s)"
   ]
  },
  {
   "cell_type": "code",
   "execution_count": 56,
   "metadata": {},
   "outputs": [
    {
     "name": "stdout",
     "output_type": "stream",
     "text": [
      "14\n",
      "o\n",
      "llo wo\n"
     ]
    }
   ],
   "source": [
    "print(len(s))  # String-Länge  \n",
    "print(s[5])  # Indexieren\n",
    "print(s[3:9])  # Slicing"
   ]
  },
  {
   "cell_type": "markdown",
   "metadata": {},
   "source": [
    "#### String-Methoden\n",
    "\n",
    "String-Objekte enthalten eine Reihe von nützlichen Methoden zur String-Manipulation."
   ]
  },
  {
   "cell_type": "code",
   "execution_count": 57,
   "metadata": {},
   "outputs": [
    {
     "data": {
      "text/plain": [
       "' HELLO WORLD! '"
      ]
     },
     "execution_count": 57,
     "metadata": {},
     "output_type": "execute_result"
    }
   ],
   "source": [
    "s.upper()"
   ]
  },
  {
   "cell_type": "code",
   "execution_count": 58,
   "metadata": {},
   "outputs": [
    {
     "data": {
      "text/plain": [
       "' hello world! '"
      ]
     },
     "execution_count": 58,
     "metadata": {},
     "output_type": "execute_result"
    }
   ],
   "source": [
    "s.lower()"
   ]
  },
  {
   "cell_type": "code",
   "execution_count": 59,
   "metadata": {},
   "outputs": [
    {
     "data": {
      "text/plain": [
       "' Hello World! '"
      ]
     },
     "execution_count": 59,
     "metadata": {},
     "output_type": "execute_result"
    }
   ],
   "source": [
    "s.title()"
   ]
  },
  {
   "cell_type": "code",
   "execution_count": 60,
   "metadata": {},
   "outputs": [
    {
     "data": {
      "text/plain": [
       "'Hello world!'"
      ]
     },
     "execution_count": 60,
     "metadata": {},
     "output_type": "execute_result"
    }
   ],
   "source": [
    "s.strip()"
   ]
  },
  {
   "cell_type": "code",
   "execution_count": 61,
   "metadata": {},
   "outputs": [
    {
     "data": {
      "text/plain": [
       "['Hello', 'world!']"
      ]
     },
     "execution_count": 61,
     "metadata": {},
     "output_type": "execute_result"
    }
   ],
   "source": [
    "s.split()"
   ]
  },
  {
   "cell_type": "code",
   "execution_count": 62,
   "metadata": {},
   "outputs": [
    {
     "data": {
      "text/plain": [
       "'_Hello_world!_'"
      ]
     },
     "execution_count": 62,
     "metadata": {},
     "output_type": "execute_result"
    }
   ],
   "source": [
    "s.replace(' ', '_')"
   ]
  },
  {
   "cell_type": "code",
   "execution_count": 63,
   "metadata": {},
   "outputs": [
    {
     "data": {
      "text/plain": [
       "5"
      ]
     },
     "execution_count": 63,
     "metadata": {},
     "output_type": "execute_result"
    }
   ],
   "source": [
    "s.find('o')  # durchsuchen von links her beginnend"
   ]
  },
  {
   "cell_type": "code",
   "execution_count": 64,
   "metadata": {},
   "outputs": [
    {
     "data": {
      "text/plain": [
       "8"
      ]
     },
     "execution_count": 64,
     "metadata": {},
     "output_type": "execute_result"
    }
   ],
   "source": [
    "s.rfind('o')  # durchsuchen von rechts her beginnend"
   ]
  },
  {
   "cell_type": "markdown",
   "metadata": {},
   "source": [
    "#### Verketten (Konkatenieren)\n",
    "\n",
    "Das Verketten von Strings erfolgt mit dem `+`-Operator."
   ]
  },
  {
   "cell_type": "code",
   "execution_count": 65,
   "metadata": {},
   "outputs": [],
   "source": [
    "s1 = 'Hello'\n",
    "s2 = 'World'"
   ]
  },
  {
   "cell_type": "code",
   "execution_count": 66,
   "metadata": {},
   "outputs": [
    {
     "data": {
      "text/plain": [
       "'Hello World'"
      ]
     },
     "execution_count": 66,
     "metadata": {},
     "output_type": "execute_result"
    }
   ],
   "source": [
    "s1 + ' ' + s2"
   ]
  },
  {
   "cell_type": "markdown",
   "metadata": {},
   "source": [
    "#### String formatieren\n",
    "\n",
    "Häufig möchte man einen String in ein bestimmtes Format bringen (z.B. für Ausgaben/Anzeigen etc.). Dafür ist die `.format`-Methode sehr nützlich. Damit können auch andere Datentypen (z.B. numerische) in einen String gepackt (umgewandelt) werden."
   ]
  },
  {
   "cell_type": "code",
   "execution_count": 67,
   "metadata": {},
   "outputs": [
    {
     "name": "stdout",
     "output_type": "stream",
     "text": [
      "1, 2 und 3\n"
     ]
    }
   ],
   "source": [
    "my_string = '{}, {} und {}'\n",
    "print(my_string.format('1', '2', '3'))"
   ]
  },
  {
   "cell_type": "code",
   "execution_count": 68,
   "metadata": {},
   "outputs": [
    {
     "name": "stdout",
     "output_type": "stream",
     "text": [
      "Die Temperatur beträgt innen 23.32 °C und aussen 34.46 °C.\n"
     ]
    }
   ],
   "source": [
    "print('Die Temperatur beträgt innen {0:.2f} °C und aussen {1:.2f} °C.'\n",
    "    .format(23.321, 34.456))"
   ]
  },
  {
   "cell_type": "markdown",
   "metadata": {},
   "source": [
    "#### Steuerzeichen/Sonderzeichen\n",
    "\n",
    "Das `\\`-Zeichen hat eine besondere Rolle innerhalb eines Strings. Es wird vervendet, um Steuerzeichen bzw. Sonderzeichen einzuleiten und wird *Escape Character* genannt. Damit kann z.B. ein Zeilenumbruch (`\\n`) in einen String eingefügt werden."
   ]
  },
  {
   "cell_type": "code",
   "execution_count": 69,
   "metadata": {},
   "outputs": [
    {
     "name": "stdout",
     "output_type": "stream",
     "text": [
      "Ich bin ein \n",
      "mehrzeiliger \n",
      "Text.\n"
     ]
    }
   ],
   "source": [
    "s = 'Ich bin ein \\nmehrzeiliger \\nText.'\n",
    "print(s)"
   ]
  },
  {
   "cell_type": "markdown",
   "metadata": {},
   "source": [
    "Neben dem Zeilenumbruch `\\n` existieren noch weitere, sogenannte **Steuerzeichen**. Die wichtigsten sind in nachfolgender Tabelle enthalten.\n",
    "\n",
    "| Steuerzeichen | Beschreibung |\n",
    "| ----------- | ----------- |\n",
    "| `\\'` | single quote (einfaches Anführungszeichen) |\n",
    "| `\\\"` | double quote (doppeltes Anführungszeichen)|\n",
    "| `\\\\` | backslash |\n",
    "| `\\n` | new line, line feed (Zeilenvorschub)|\n",
    "| `\\r` | carriage return (Wagenrücklauf) |\n",
    "| `\\t` | tab (Tabulator) |"
   ]
  },
  {
   "cell_type": "markdown",
   "metadata": {},
   "source": [
    "Möchte man nicht, dass Python die Steuerzeichen/Sonderzeichen auswertet (z.B. einen Zeilenumbruch), verwendet man den *Raw-String* in Python. Dabei wird dem String ein `r` vorangestellt."
   ]
  },
  {
   "cell_type": "code",
   "execution_count": 70,
   "metadata": {},
   "outputs": [
    {
     "name": "stdout",
     "output_type": "stream",
     "text": [
      "Ich bin ein\\nmehrzeiliger String.\n"
     ]
    }
   ],
   "source": [
    "s = r'Ich bin ein\\nmehrzeiliger String.'\n",
    "print(s)"
   ]
  },
  {
   "cell_type": "markdown",
   "metadata": {},
   "source": [
    "---\n",
    "<p style='text-align: right; font-size: 70%;'>Grundlagen Python (PYT_G01) / 2024</p>"
   ]
  }
 ],
 "metadata": {
  "kernelspec": {
   "display_name": "Python 3 (ipykernel)",
   "language": "python",
   "name": "python3"
  },
  "language_info": {
   "codemirror_mode": {
    "name": "ipython",
    "version": 3
   },
   "file_extension": ".py",
   "mimetype": "text/x-python",
   "name": "python",
   "nbconvert_exporter": "python",
   "pygments_lexer": "ipython3",
   "version": "3.10.11"
  }
 },
 "nbformat": 4,
 "nbformat_minor": 4
}
