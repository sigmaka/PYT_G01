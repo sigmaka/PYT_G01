{
 "cells": [
  {
   "cell_type": "markdown",
   "metadata": {
    "extensions": {
     "jupyter_dashboards": {
      "activeView": "grid_default",
      "views": {
       "grid_default": {
        "col": null,
        "height": 2,
        "hidden": true,
        "row": null,
        "width": 2
       }
      }
     }
    },
    "tags": []
   },
   "source": [
    "# 6. Funktionen\n",
    "\n",
    "<img src=\"IMG/logo.png\" />\n",
    "<a href=\"0_Einfuehrung.ipynb\">&larr; Einführung/Inhalt</a>"
   ]
  },
  {
   "cell_type": "markdown",
   "metadata": {
    "extensions": {
     "jupyter_dashboards": {
      "activeView": "grid_default",
      "views": {
       "grid_default": {
        "col": null,
        "height": 2,
        "hidden": true,
        "row": null,
        "width": 2
       }
      }
     }
    }
   },
   "source": [
    "Ganz allgemein gesehen, stellt eine Funktion ein Strukturierungselement in einer Programmiersprache dar. Damit kann eine Menge von Anweisungen gruppiert bzw. zusammengefasst werden. Ebenso wird es dadurch möglich Codeinhalt mehrfach an verschiedenen Orten zu nutzen. Die Benutzung von Funktionen erhöht ausserdem die Verständlichkeit und Qualität eines Programms. Weiter wird die Wartbarkeit einfacher.\n",
    "\n",
    "Eine Funktion wird in Python mit dem Keyword `def` definiert und hat folgende Form:\n",
    "\n",
    "```python\n",
    "def Funktionsname(Übergabeparameter1, Übergabeparameter2, ...)\n",
    "    \"\"\"\n",
    "    Beschreibung/Dokumentation (docstring)\n",
    "    \"\"\"\n",
    "    ...\n",
    "    Anweisung1\n",
    "    Anweisung2\n",
    "    Anweisung3\n",
    "    ...\n",
    "    return Rückgabeparameter\n",
    "```\n",
    "\n",
    "Das nachfolgende Beispiel zeigt eine Funktion, die eine Zahlenfolge (Startwert-Endwert) aufsummiert."
   ]
  },
  {
   "cell_type": "code",
   "execution_count": 1,
   "metadata": {
    "extensions": {
     "jupyter_dashboards": {
      "activeView": "grid_default",
      "views": {
       "grid_default": {
        "col": null,
        "height": 2,
        "hidden": true,
        "row": null,
        "width": 2
       }
      }
     }
    }
   },
   "outputs": [],
   "source": [
    "def summiere(start, ende=10):\n",
    "    \"\"\"\n",
    "    Berechnen der Summe einer Zahlenfolge.\n",
    "    \n",
    "    @param start: Startwert [int]\n",
    "    @param ende: Endwert (inklusive) [int]\n",
    "    @return summe: Summe der Zahlenfolge [int]\n",
    "    \"\"\"\n",
    "    zahlen = range(start, ende+1)\n",
    "    summe = sum(zahlen)\n",
    "\n",
    "    return summe  # Rückgabewert"
   ]
  },
  {
   "cell_type": "markdown",
   "metadata": {},
   "source": [
    "Die obige Funktion kann auf verschiedene Arten aufgerufen werden. Grundsätzlich können die Funktionsargument mit oder ohne Namen übergeben werden. Werden Sie mit Namen übergeben, können sie in beliebiger Reihenfolge übergeben werden (*keyword arguments*). Wenn die Argumente ohne Namen übergen werden, ist auf die korrekte Reihenfolge zu achten (*positional arguments*). Die folgenden Aufrufe sind also alle gleichwertig."
   ]
  },
  {
   "cell_type": "code",
   "execution_count": 2,
   "metadata": {
    "extensions": {
     "jupyter_dashboards": {
      "activeView": "grid_default",
      "views": {
       "grid_default": {
        "col": null,
        "height": 2,
        "hidden": true,
        "row": null,
        "width": 2
       }
      }
     }
    }
   },
   "outputs": [
    {
     "data": {
      "text/plain": [
       "45"
      ]
     },
     "execution_count": 2,
     "metadata": {},
     "output_type": "execute_result"
    }
   ],
   "source": [
    "summiere(5, 10)\n",
    "summiere(start=5, ende=10)\n",
    "summiere(ende=10, start=5)"
   ]
  },
  {
   "cell_type": "markdown",
   "metadata": {},
   "source": [
    "Da in der Funktionsdefinition für den Endwert ein Defaultwert (10) definiert wurde, wird automatisch dieser Wert verwendet, wenn kein Wert für diesen Parameter übergeben wird. Die Funktion kann also auch nur mit einem Argument aufgerufen werden."
   ]
  },
  {
   "cell_type": "code",
   "execution_count": 3,
   "metadata": {},
   "outputs": [
    {
     "data": {
      "text/plain": [
       "45"
      ]
     },
     "execution_count": 3,
     "metadata": {},
     "output_type": "execute_result"
    }
   ],
   "source": [
    "summiere(5)\n",
    "summiere(start=5)"
   ]
  },
  {
   "cell_type": "markdown",
   "metadata": {},
   "source": [
    "Da für den Startwert kein Defaultwert definiert wurde, muss dieser immer übergeben werden, sonst erscheint eine Fehlermeldung."
   ]
  },
  {
   "cell_type": "code",
   "execution_count": 4,
   "metadata": {},
   "outputs": [
    {
     "ename": "TypeError",
     "evalue": "summiere() missing 1 required positional argument: 'start'",
     "output_type": "error",
     "traceback": [
      "\u001b[1;31m---------------------------------------------------------------------------\u001b[0m",
      "\u001b[1;31mTypeError\u001b[0m                                 Traceback (most recent call last)",
      "Cell \u001b[1;32mIn[4], line 1\u001b[0m\n\u001b[1;32m----> 1\u001b[0m \u001b[43msummiere\u001b[49m\u001b[43m(\u001b[49m\u001b[43m)\u001b[49m  \u001b[38;5;66;03m# Fehlermeldung, da kein Startwert übergeben wird\u001b[39;00m\n",
      "\u001b[1;31mTypeError\u001b[0m: summiere() missing 1 required positional argument: 'start'"
     ]
    }
   ],
   "source": [
    "summiere()  # Fehlermeldung, da kein Startwert übergeben wird"
   ]
  },
  {
   "cell_type": "markdown",
   "metadata": {},
   "source": [
    "Zur Dokumentation der Funktion wird in der Funktionsdefinition üblicherweise ein sogenannter *docstring* (Dokumentationsstring) eingefügt, der Informationen über die Funktion enthält:\n",
    "\n",
    "- Was macht die Funktion? (Beschreibung)\n",
    "- Parameternamen & Beschreibung der Parameter / Datentypen\n",
    "- Rückgabeparameter / Datentyp\n",
    "\n",
    "Dieser String wird angezeigt, wenn die `help()`-Funktion aufgerufen wird."
   ]
  },
  {
   "cell_type": "code",
   "execution_count": 5,
   "metadata": {
    "extensions": {
     "jupyter_dashboards": {
      "activeView": "grid_default",
      "views": {
       "grid_default": {
        "col": null,
        "height": 2,
        "hidden": true,
        "row": null,
        "width": 2
       }
      }
     }
    }
   },
   "outputs": [
    {
     "name": "stdout",
     "output_type": "stream",
     "text": [
      "Help on function summiere in module __main__:\n",
      "\n",
      "summiere(start, ende=10)\n",
      "    Berechnen der Summe einer Zahlenfolge.\n",
      "    \n",
      "    @param start: Startwert [int]\n",
      "    @param ende: Endwert (inklusive) [int]\n",
      "    @return summe: Summe der Zahlenfolge [int]\n",
      "\n"
     ]
    }
   ],
   "source": [
    "help(summiere)"
   ]
  },
  {
   "cell_type": "markdown",
   "metadata": {},
   "source": [
    "> Eine Funktion muss nicht im Python-File definiert werden, in dem sie verwendet wird. Die Funktion kann z. B. mittels des `import`-Statements von einem anderen Python-File oder Modul importiert werden."
   ]
  },
  {
   "cell_type": "markdown",
   "metadata": {
    "extensions": {
     "jupyter_dashboards": {
      "activeView": "grid_default",
      "views": {
       "grid_default": {
        "col": null,
        "height": 2,
        "hidden": true,
        "row": null,
        "width": 2
       }
      }
     }
    }
   },
   "source": [
    "## 6.1 Lokale und globale Variablen\n",
    "\n",
    "Variablen sind standardmässig lokal, d. h. Variablen sind nur innerhalb der Funktion sichtbar, in welcher sie definiert worden sind. "
   ]
  },
  {
   "cell_type": "code",
   "execution_count": 11,
   "metadata": {
    "extensions": {
     "jupyter_dashboards": {
      "activeView": "grid_default",
      "views": {
       "grid_default": {
        "col": null,
        "height": 2,
        "hidden": true,
        "row": null,
        "width": 2
       }
      }
     }
    }
   },
   "outputs": [],
   "source": [
    "def funktion():\n",
    "    a = 5  # a existiert nur innerhalb der Funktion"
   ]
  },
  {
   "cell_type": "code",
   "execution_count": 8,
   "metadata": {},
   "outputs": [
    {
     "ename": "NameError",
     "evalue": "name 'a' is not defined",
     "output_type": "error",
     "traceback": [
      "\u001b[1;31m---------------------------------------------------------------------------\u001b[0m",
      "\u001b[1;31mNameError\u001b[0m                                 Traceback (most recent call last)",
      "Cell \u001b[1;32mIn[8], line 2\u001b[0m\n\u001b[0;32m      1\u001b[0m funktion()\n\u001b[1;32m----> 2\u001b[0m \u001b[38;5;28mprint\u001b[39m(\u001b[43ma\u001b[49m)  \u001b[38;5;66;03m# a ist ausserhalb der Funktion nicht definiert (sichtbar)\u001b[39;00m\n",
      "\u001b[1;31mNameError\u001b[0m: name 'a' is not defined"
     ]
    }
   ],
   "source": [
    "funktion()\n",
    "print(a)  # a ist ausserhalb der Funktion nicht definiert (sichtbar)"
   ]
  },
  {
   "cell_type": "markdown",
   "metadata": {},
   "source": [
    "Möchte man in einer Funktion eine (globale) Variable verändern, ist dies mittels Keyword `global` möglich. Dies ist i. Allg. keine gute Programmierpraxis und die gewünschte Funktionalität kann fast immer mit anderen Mitteln erreicht werden. \n",
    "\n",
    "> Grundsätzlich sollten Daten via Übergabeparameter (Argumente) bzw. Rückgabewerte an Funktionen über- bzw. zurückgegeben werden."
   ]
  },
  {
   "cell_type": "code",
   "execution_count": 9,
   "metadata": {
    "extensions": {
     "jupyter_dashboards": {
      "activeView": "grid_default",
      "views": {
       "grid_default": {
        "col": null,
        "height": 2,
        "hidden": true,
        "row": null,
        "width": 2
       }
      }
     }
    }
   },
   "outputs": [],
   "source": [
    "def funktion():\n",
    "    global a  # Zugriff auf Variable a (global) möglich\n",
    "    a = a + 1"
   ]
  },
  {
   "cell_type": "code",
   "execution_count": 10,
   "metadata": {},
   "outputs": [
    {
     "name": "stdout",
     "output_type": "stream",
     "text": [
      "6\n"
     ]
    }
   ],
   "source": [
    "a = 5\n",
    "funktion()\n",
    "print(a)"
   ]
  },
  {
   "cell_type": "markdown",
   "metadata": {
    "extensions": {
     "jupyter_dashboards": {
      "activeView": "grid_default",
      "views": {
       "grid_default": {
        "col": null,
        "height": 2,
        "hidden": true,
        "row": null,
        "width": 2
       }
      }
     }
    }
   },
   "source": [
    "## 6.2 Variable Anzahl Parameter\n",
    "\n",
    "In gewissen Fällen möchte man eine Funktion so definieren, dass sie eine beliebige/variable Anzahl an Übergabeparametern verarbeiten kann. Dies wird durch den *unpacking*-Operator (`*`) ermöglicht."
   ]
  },
  {
   "cell_type": "code",
   "execution_count": 95,
   "metadata": {
    "extensions": {
     "jupyter_dashboards": {
      "activeView": "grid_default",
      "views": {
       "grid_default": {
        "col": null,
        "height": 2,
        "hidden": true,
        "row": null,
        "width": 2
       }
      }
     }
    }
   },
   "outputs": [],
   "source": [
    "def summiere(*werte):  # beliebige Anzahl Argumente möglich\n",
    "    summe = sum(werte)\n",
    "\n",
    "    return summe"
   ]
  },
  {
   "cell_type": "code",
   "execution_count": 102,
   "metadata": {
    "extensions": {
     "jupyter_dashboards": {
      "activeView": "grid_default",
      "views": {
       "grid_default": {
        "col": null,
        "height": 2,
        "hidden": true,
        "row": null,
        "width": 2
       }
      }
     }
    }
   },
   "outputs": [
    {
     "data": {
      "text/plain": [
       "6"
      ]
     },
     "execution_count": 102,
     "metadata": {},
     "output_type": "execute_result"
    }
   ],
   "source": [
    "summiere(1,2,3)"
   ]
  },
  {
   "cell_type": "code",
   "execution_count": 103,
   "metadata": {
    "extensions": {
     "jupyter_dashboards": {
      "activeView": "grid_default",
      "views": {
       "grid_default": {
        "col": null,
        "height": 2,
        "hidden": true,
        "row": null,
        "width": 2
       }
      }
     }
    }
   },
   "outputs": [
    {
     "data": {
      "text/plain": [
       "10.7"
      ]
     },
     "execution_count": 103,
     "metadata": {},
     "output_type": "execute_result"
    }
   ],
   "source": [
    "liste = [1, 2, 3.5, 4.2]\n",
    "summiere(*liste)"
   ]
  },
  {
   "cell_type": "markdown",
   "metadata": {
    "extensions": {
     "jupyter_dashboards": {
      "activeView": "grid_default",
      "views": {
       "grid_default": {
        "col": null,
        "height": 2,
        "hidden": true,
        "row": null,
        "width": 2
       }
      }
     }
    }
   },
   "source": [
    "## 6.3 Beliebige Anzahl Schlüsselwortparameter\n",
    "\n",
    "Es ist auch möglich eine beliebige Anzahl Schlüsselwortparameter zu übergeben. Diese werden in einen Dictionary gepackt. In diesem Zusammenhang ist der *unpacking*-Operator (`**`) nützlich."
   ]
  },
  {
   "cell_type": "code",
   "execution_count": 1,
   "metadata": {
    "extensions": {
     "jupyter_dashboards": {
      "activeView": "grid_default",
      "views": {
       "grid_default": {
        "col": null,
        "height": 2,
        "hidden": true,
        "row": null,
        "width": 2
       }
      }
     }
    }
   },
   "outputs": [],
   "source": [
    "def summiere(**werte):\n",
    "    return sum(werte.values())"
   ]
  },
  {
   "cell_type": "code",
   "execution_count": 112,
   "metadata": {
    "extensions": {
     "jupyter_dashboards": {
      "activeView": "grid_default",
      "views": {
       "grid_default": {
        "col": null,
        "height": 2,
        "hidden": true,
        "row": null,
        "width": 2
       }
      }
     }
    }
   },
   "outputs": [
    {
     "data": {
      "text/plain": [
       "89"
      ]
     },
     "execution_count": 112,
     "metadata": {},
     "output_type": "execute_result"
    }
   ],
   "source": [
    "summiere(erste=34, zweite=43, dritte=12)"
   ]
  },
  {
   "cell_type": "markdown",
   "metadata": {
    "extensions": {
     "jupyter_dashboards": {
      "activeView": "grid_default",
      "views": {
       "grid_default": {
        "col": null,
        "height": 2,
        "hidden": true,
        "row": null,
        "width": 2
       }
      }
     }
    }
   },
   "source": [
    "## 6.4 Rekursive Funktionen\n",
    "Funktionen, die sich selber aufrufen werden rekursive Funktionen genannt. Dieser Typ von Funktionen wird in der technischen Softwareentwicklung sehr selten eingesetzt. Nützliche Beispiele für solche Funktionen stammen aus der Mathematik, z. B. die Operation *Fakultät*."
   ]
  },
  {
   "cell_type": "code",
   "execution_count": 12,
   "metadata": {},
   "outputs": [],
   "source": [
    "def factorial(x):\n",
    "    if x == 1:\n",
    "        return 1\n",
    "    else:\n",
    "        return (x * factorial(x-1))"
   ]
  },
  {
   "cell_type": "code",
   "execution_count": 13,
   "metadata": {},
   "outputs": [
    {
     "data": {
      "text/plain": [
       "120"
      ]
     },
     "execution_count": 13,
     "metadata": {},
     "output_type": "execute_result"
    }
   ],
   "source": [
    "factorial(5)"
   ]
  },
  {
   "cell_type": "markdown",
   "metadata": {
    "extensions": {
     "jupyter_dashboards": {
      "activeView": "grid_default",
      "views": {
       "grid_default": {
        "col": null,
        "height": 2,
        "hidden": true,
        "row": null,
        "width": 2
       }
      }
     }
    }
   },
   "source": [
    "## 6.5 Anonyme Funktionen (**Lambda**-Funktionen)\n",
    "\n",
    "Eine anonyme Funktion oder Lambda-Funktion ist eine Funktion, die über **keinen Namen** verfügt. Eine solche Funktion kann folglich nur über Verweise angesprochen werden. Sie können eine beliebige Anzahl Parameter haben, führen einen Ausdruck aus und liefern das Ergebnis als Rückgabewert zurück.\n",
    "\n",
    "Ein einfaches Beispiel:\n",
    "```python\n",
    "lambda x: x + 42\n",
    "```\n",
    "Beim obigen Beispiel handelt es sich um eine Funktion mit einem Argument `x`, die die Summe von `x + 42` zurückgibt. Der allgemeine Syntax einer Lambda-Funktion sieht folgendermassen aus:\n",
    "```python\n",
    "lambda Argumentenliste : Ausdruck\n",
    "```\n",
    "Die Argumentenliste besteht aus einer durch Komma getrennten Liste von Argumenten, und der nach dem Doppelpunkt stehende Ausdruck ist ein beliebiger Ausdruck, der diese Argumente benutzt. Was macht man nun damit?"
   ]
  },
  {
   "cell_type": "code",
   "execution_count": 4,
   "metadata": {
    "extensions": {
     "jupyter_dashboards": {
      "activeView": "grid_default",
      "views": {
       "grid_default": {
        "col": null,
        "height": 2,
        "hidden": true,
        "row": null,
        "width": 2
       }
      }
     }
    }
   },
   "outputs": [
    {
     "data": {
      "text/plain": [
       "50"
      ]
     },
     "execution_count": 4,
     "metadata": {},
     "output_type": "execute_result"
    }
   ],
   "source": [
    "f42 = lambda x: x + 42  # eine lambda-Funktion einer Variablen zuordnen\n",
    "f42(8)"
   ]
  },
  {
   "cell_type": "markdown",
   "metadata": {
    "extensions": {
     "jupyter_dashboards": {
      "activeView": "grid_default",
      "views": {
       "grid_default": {
        "col": null,
        "height": 2,
        "hidden": true,
        "row": null,
        "width": 2
       }
      }
     }
    },
    "tags": []
   },
   "source": [
    "Nun noch eine sinnvollere Anwendung solcher Funktionen. Es soll eine Funktion mit dem Namen `anwenden()` implementiert werden, die als erstes Argument eine Funktion und als zweites Argument eine Liste erwartet. Die Funktion `anwenden()` wendet auf jedes Element dieser Liste die übergebene Funktion an."
   ]
  },
  {
   "cell_type": "code",
   "execution_count": 5,
   "metadata": {
    "extensions": {
     "jupyter_dashboards": {
      "activeView": "grid_default",
      "views": {
       "grid_default": {
        "col": null,
        "height": 2,
        "hidden": true,
        "row": null,
        "width": 2
       }
      }
     }
    }
   },
   "outputs": [],
   "source": [
    "def anwenden(f, liste):\n",
    "    ergebnis = []\n",
    "    for element in liste:\n",
    "        ergebnis.append(f(element))\n",
    "    return ergebnis"
   ]
  },
  {
   "cell_type": "code",
   "execution_count": 6,
   "metadata": {
    "extensions": {
     "jupyter_dashboards": {
      "activeView": "grid_default",
      "views": {
       "grid_default": {
        "col": null,
        "height": 2,
        "hidden": true,
        "row": null,
        "width": 2
       }
      }
     }
    }
   },
   "outputs": [
    {
     "data": {
      "text/plain": [
       "[42, 43, 44, 45, 46, 47, 48, 49, 50, 51]"
      ]
     },
     "execution_count": 6,
     "metadata": {},
     "output_type": "execute_result"
    }
   ],
   "source": [
    "anwenden(f42, range(10))"
   ]
  },
  {
   "cell_type": "markdown",
   "metadata": {
    "extensions": {
     "jupyter_dashboards": {
      "activeView": "grid_default",
      "views": {
       "grid_default": {
        "col": null,
        "height": 2,
        "hidden": true,
        "row": null,
        "width": 2
       }
      }
     }
    }
   },
   "source": [
    "Diese Art der Implementation erzeugt eine sogenannte Wegwerffunktion `f42`, da diese nur einmal beim Funktionsaufruf von `anwenden()` benötigt wird. Aus diesem Grund wäre es viel eleganter wenn diese Funktion direkt an die Funktion `anwenden()` übergeben werden kann, also ohne den Umweg mit der Namensgebung `f42`. Dies ist mit der Lambda-Notation möglich:"
   ]
  },
  {
   "cell_type": "code",
   "execution_count": 7,
   "metadata": {
    "extensions": {
     "jupyter_dashboards": {
      "activeView": "grid_default",
      "views": {
       "grid_default": {
        "col": null,
        "height": 2,
        "hidden": true,
        "row": null,
        "width": 2
       }
      }
     }
    }
   },
   "outputs": [
    {
     "data": {
      "text/plain": [
       "[42, 43, 44, 45, 46, 47, 48, 49, 50, 51]"
      ]
     },
     "execution_count": 7,
     "metadata": {},
     "output_type": "execute_result"
    }
   ],
   "source": [
    "anwenden(lambda x: x+42, range(10))"
   ]
  },
  {
   "cell_type": "markdown",
   "metadata": {},
   "source": [
    "---\n",
    "<p style='text-align: right; font-size: 70%;'>Grundlagen Python (PYT_G01) / 2024</p>"
   ]
  }
 ],
 "metadata": {
  "extensions": {
   "jupyter_dashboards": {
    "activeView": "grid_default",
    "version": 1,
    "views": {
     "grid_default": {
      "cellMargin": 2,
      "defaultCellHeight": 60,
      "maxColumns": 12,
      "name": "grid",
      "type": "grid"
     }
    }
   }
  },
  "kernelspec": {
   "display_name": "Python 3 (ipykernel)",
   "language": "python",
   "name": "python3"
  },
  "language_info": {
   "codemirror_mode": {
    "name": "ipython",
    "version": 3
   },
   "file_extension": ".py",
   "mimetype": "text/x-python",
   "name": "python",
   "nbconvert_exporter": "python",
   "pygments_lexer": "ipython3",
   "version": "3.10.11"
  }
 },
 "nbformat": 4,
 "nbformat_minor": 4
}
