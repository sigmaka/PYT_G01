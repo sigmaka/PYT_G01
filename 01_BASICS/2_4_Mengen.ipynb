{
 "cells": [
  {
   "cell_type": "markdown",
   "metadata": {
    "tags": []
   },
   "source": [
    "# 2.4 Collection-Datentyp\n",
    "\n",
    "<img src=\"IMG/logo.png\" />\n",
    "<a href=\"0_Einfuehrung.ipynb\">&larr; Einführung/Inhalt</a>"
   ]
  },
  {
   "cell_type": "markdown",
   "metadata": {},
   "source": [
    "## 2.4.1 Menge (set)\n",
    "\n",
    "Eine Menge (wie aus der Mathematik bekannt) ist eine *ungeordnete* Sammlung von *einzigartigen* und *unveränderlichen* Elementen. \n",
    "\n",
    "- *ungeordnet*: Die Reihenfolge der Elemente ist nicht festgelegt/relevant.\n",
    "- *einzigartig*: Ein Element kann nicht mehrmals enthalten sein.\n",
    "- *unveränderlich*: Ein bestimmtes Element kann nicht verändert/überschrieben werden (es kann aber aus der Menge entfernt bzw. zur Menge hinzugefügt werden)\n",
    "\n",
    "Anfänglich scheint dieser Datentyp etwas überflüssig zu sein, doch mit der Zeit erkennt man die Vorteile und Anwendungsfälle. Wir werden diesen Datentyp aber im Unterricht selten verwenden.\n"
   ]
  },
  {
   "cell_type": "code",
   "execution_count": 45,
   "metadata": {},
   "outputs": [
    {
     "name": "stdout",
     "output_type": "stream",
     "text": [
      "{'Student C', 'Student D', 'Student B', 'Student A'}\n",
      "<class 'set'>\n"
     ]
    }
   ],
   "source": [
    "studenten = {'Student A', 'Student B', 'Student C', 'Student D'}\n",
    "print(studenten)\n",
    "print(type(studenten))"
   ]
  },
  {
   "cell_type": "code",
   "execution_count": 16,
   "metadata": {},
   "outputs": [
    {
     "data": {
      "text/plain": [
       "False"
      ]
     },
     "execution_count": 16,
     "metadata": {},
     "output_type": "execute_result"
    }
   ],
   "source": [
    "'Student X' in studenten"
   ]
  },
  {
   "cell_type": "markdown",
   "metadata": {},
   "source": [
    "## 2.4.2 Operationen auf Mengen\n",
    "\n",
    "- `add()` Element zu Menge hinzufügen (falls noch nicht enthalten)\n",
    "- `copy()` Kopie einer Menge erzeugen\n",
    "- `clear()` Löscht die Elemente einer Menge\n",
    "- `difference()` zwei Mengen vergleichen und Differenz zurückgeben\n",
    "- `difference_update()` wie oben, aber übrige Elemente löschen\n",
    "- `discard()` Element aus Menge löschen (falls enthalten)\n",
    "- `remove()` wie oben, aber erzeugt Fehler, falls nicht enthalten\n",
    "- `intersection()` Schnittmenge (Elemente, die in beiden Mengen enthalten sind)\n",
    "- `union()` Vereinigungsmenge (Elemente, die entweder in der einen oder andern Menge enthalten sind)\n",
    "- `isdisjoint()` Prüfung, ob Mengen ungleich sind (alle Elemente verschieden)\n",
    "- `issubset()` Prüfung, ob Menge eine Teilmenge einer anderen Menge ist\n",
    "- `issuperset()` Prüfung, ob Menge eine Obermenge einer anderen Menge ist\n",
    "- `pop()` Entnimmt ein zufälliges Element und entfernt es aus der Menge"
   ]
  },
  {
   "cell_type": "code",
   "execution_count": 36,
   "metadata": {},
   "outputs": [
    {
     "name": "stdout",
     "output_type": "stream",
     "text": [
      "{'Student A', 'Student C', 'Student E', 'Student D'}\n"
     ]
    }
   ],
   "source": [
    "# .add()\n",
    "studenten.add('Student E')\n",
    "print(studenten)"
   ]
  },
  {
   "cell_type": "code",
   "execution_count": 37,
   "metadata": {},
   "outputs": [
    {
     "name": "stdout",
     "output_type": "stream",
     "text": [
      "{'Student E', 'Student A'}\n"
     ]
    }
   ],
   "source": [
    "# .difference()\n",
    "diplomanden = {'Student B', 'Student C', 'Student D'}\n",
    "print(studenten.difference(diplomanden))\n",
    "# alternativ: studenten - diplomanden"
   ]
  },
  {
   "cell_type": "code",
   "execution_count": 38,
   "metadata": {},
   "outputs": [
    {
     "name": "stdout",
     "output_type": "stream",
     "text": [
      "{'Student A', 'Student C', 'Student D'}\n"
     ]
    }
   ],
   "source": [
    "# .discard()\n",
    "studenten.discard('Student E')\n",
    "print(studenten)"
   ]
  },
  {
   "cell_type": "code",
   "execution_count": 39,
   "metadata": {},
   "outputs": [
    {
     "name": "stdout",
     "output_type": "stream",
     "text": [
      "{'Student C', 'Student D'}\n"
     ]
    }
   ],
   "source": [
    "# .intersection()\n",
    "print(diplomanden.intersection(studenten))\n",
    "# alternativ: studenten & diplomanden"
   ]
  },
  {
   "cell_type": "code",
   "execution_count": 40,
   "metadata": {},
   "outputs": [
    {
     "name": "stdout",
     "output_type": "stream",
     "text": [
      "{'Student C', 'Student D', 'Student B', 'Student A'}\n"
     ]
    }
   ],
   "source": [
    "# .union()\n",
    "print(diplomanden.union(studenten))\n",
    "# alternativ: studenten | diplomanden"
   ]
  },
  {
   "cell_type": "code",
   "execution_count": 41,
   "metadata": {},
   "outputs": [
    {
     "data": {
      "text/plain": [
       "False"
      ]
     },
     "execution_count": 41,
     "metadata": {},
     "output_type": "execute_result"
    }
   ],
   "source": [
    "# .issubset()\n",
    "diplomanden.issubset(studenten)"
   ]
  },
  {
   "cell_type": "code",
   "execution_count": 42,
   "metadata": {},
   "outputs": [
    {
     "name": "stdout",
     "output_type": "stream",
     "text": [
      "Student A\n",
      "{'Student C', 'Student D'}\n"
     ]
    }
   ],
   "source": [
    "# pop()\n",
    "print(studenten.pop())\n",
    "print(studenten)"
   ]
  },
  {
   "cell_type": "markdown",
   "metadata": {},
   "source": [
    "## 2.4.3 Frozen Set\n",
    "\n",
    "Falls keine Veränderungen an einer Menge erlaubt sind, können sogenannte *frozensets* verwendet werden."
   ]
  },
  {
   "cell_type": "code",
   "execution_count": 43,
   "metadata": {},
   "outputs": [
    {
     "data": {
      "text/plain": [
       "frozenset({1, 2, 3, 4, 5, 6})"
      ]
     },
     "execution_count": 43,
     "metadata": {},
     "output_type": "execute_result"
    }
   ],
   "source": [
    "augen = frozenset((1, 2, 3, 4, 5, 6))  # unveränderliche Menge\n",
    "augen"
   ]
  },
  {
   "cell_type": "code",
   "execution_count": 44,
   "metadata": {},
   "outputs": [
    {
     "ename": "AttributeError",
     "evalue": "'frozenset' object has no attribute 'add'",
     "output_type": "error",
     "traceback": [
      "\u001b[1;31m---------------------------------------------------------------------------\u001b[0m",
      "\u001b[1;31mAttributeError\u001b[0m                            Traceback (most recent call last)",
      "Cell \u001b[1;32mIn[44], line 2\u001b[0m\n\u001b[0;32m      1\u001b[0m \u001b[38;5;66;03m# frozensets sind unveränderlich, betreffend Inhalt der Menge\u001b[39;00m\n\u001b[1;32m----> 2\u001b[0m \u001b[43maugen\u001b[49m\u001b[38;5;241;43m.\u001b[39;49m\u001b[43madd\u001b[49m(\u001b[38;5;241m7\u001b[39m)\n",
      "\u001b[1;31mAttributeError\u001b[0m: 'frozenset' object has no attribute 'add'"
     ]
    }
   ],
   "source": [
    "# frozensets sind unveränderlich, betreffend Inhalt der Menge\n",
    "augen.add(7)"
   ]
  },
  {
   "cell_type": "markdown",
   "metadata": {},
   "source": [
    "---\n",
    "<p style='text-align: right; font-size: 70%;'>Grundlagen Python (PYT_G01) / 2024</p>"
   ]
  }
 ],
 "metadata": {
  "kernelspec": {
   "display_name": "Python 3 (ipykernel)",
   "language": "python",
   "name": "python3"
  },
  "language_info": {
   "codemirror_mode": {
    "name": "ipython",
    "version": 3
   },
   "file_extension": ".py",
   "mimetype": "text/x-python",
   "name": "python",
   "nbconvert_exporter": "python",
   "pygments_lexer": "ipython3",
   "version": "3.10.11"
  }
 },
 "nbformat": 4,
 "nbformat_minor": 4
}
