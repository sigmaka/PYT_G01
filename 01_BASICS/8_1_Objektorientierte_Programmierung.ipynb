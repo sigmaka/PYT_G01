{
 "cells": [
  {
   "cell_type": "markdown",
   "metadata": {
    "nteract": {
     "transient": {
      "deleting": false
     }
    }
   },
   "source": [
    "<img src=\"IMG/PYT_G01_logo.svg\" width=\"100%\"/>\n",
    "<a href=\"0_Einfuehrung_Inhalt.ipynb\" target=\"_blank\">&larr; Einführung/Inhalt</a>"
   ]
  },
  {
   "cell_type": "markdown",
   "metadata": {},
   "source": [
    "# 8. Objektorientierte Programmierung (OOP)\n",
    "\n",
    "Historisch haben sich verschiedene Programmierparadigma\n",
    "In den vorhergegangenen Grundlagen (prozedural) wurden bereits mehrfach Objekte und Methoden von Klassen benutzt. Eines der Ziele der objektorientierten Programmierung besteht darin, Software weniger pflegeintensiv zu machen - damit das Programm auch dann funktioniert, wenn sich andere Teile des Systems ändern, und Sie das Programm an neue Anforderungen anpassen können. <br>\n",
    "\n",
    "Ein Designprinzip, das dabei hilft, dieses Ziel zu erreichen, sieht vor, die Schnittstelle von der Implementierung zu trennen. Im Fall von Objekten bedeutet das, dass die Methoden einer Klasse nicht davon abhängig sein sollen, wie die Attribute abgebildet werden. Manchmal finden man eine bessere Implementierung, nachdem man eine Klasse bereitgestellt hat. Wenn andere Teile eines Programms diese Klasse verwenden, kann es zeitaufwendig und fehleranfällig sein, die Schnittstelle anzupassen. Wenn die Schnittstelle aber sorgfältig durchdacht ist, kann die Implementierung ändern, ohne die Schnittstelle anzupassen. Andere Teile des Programms müssen in diesem Fall nicht geändert werden. <br>\n",
    "Damit dies gelingt müssen die Attribute verborgen werden. Code in anderen Teilen des Programms (ausserhalb der Klassendefinition) muss entsprechende Methoden verwenden, um den Zustand des Objektes abzurufen und zu verändern. Der direkte Zugriff auf die Attribute darf dabei nicht möglich sein. Diese Verfahren nennt man Information Hiding bzw. Datenkapselung.\n",
    "\n",
    "- <a href=\"8_2_Methoden_Attribute.ipynb\" target=\"_blank\">Methoden/Attribute (8.2)</a>\n",
    "- <a href=\"8_3_Datenkapselung.ipynb\" target=\"_blank\">Datenkapselung (8.3)</a>\n",
    "- <a href=\"8_4_Vererbung.ipynb\" target=\"_blank\">Vererbung (8.4)</a>"
   ]
  },
  {
   "cell_type": "markdown",
   "metadata": {},
   "source": [
    "## 8.1 Einführung\n",
    "\n",
    "Anhand des folgenden Bildes soll das Grundprinzip der OOP anschaulich erläutert werden. Darin sind die folgenden Begriffe illustriert.\n",
    "\n",
    "- **Klasse**: Eine **Klasse** kann als Container/Vorlage (*Blueprint*) für einen benutzerdefinierten Datentyp angesehen werden. Die Klasse der *Pferde* kann man sich als einen \"Pferde-Datentyp\" vorstellen, der sämtliche relevanten Daten/Eigenschaften bzw. Verhalten/Fähigkeiten in Bezug auf Pferde darstellt.\n",
    "\n",
    "- **Objekt**: Ein **Objekt** ist eine konkrete Instanz der Klasse, d.h. ein individuelles Pferd (z.B. *Beauty*) mit den jeweiligen individuellen Eigenschaften/Fähigkeiten. Ein Objekt kann als Variable angesehen werden, wobei der \"Datentyp\" in diesem Fall der Klasse *Pferde* entspricht.\n",
    "  \n",
    "- **Attribut** (Eigenschaft): Die oben erwähnten Eigenschaften/Daten nennt man im Rahmen der objektorientierten Programmierung **Attribute**. Am Beispiel der *Pferde*-Klasse wären das z.B. *Farbe*, *Grösse*, *Gewicht*, *Rasse*, etc. Ein wesentlicher Vorteil der OOP besteht darin, dass in einer Klasse viele verschiedene Attribute (unterschiedlicher Datentypen) kompakt/übersichtlich zusammengefasst werden können. (Vereinfacht kann man sich Attribute als normale Variablen vorstellen, welche in einer Klasse zusammengefasst sind.)\n",
    "\n",
    "- **Methode** (Funktion): Neben den Attributen (Eigenschaften) möchte man natürlich auch Funktionen/Fähigkeiten (Verhalten) in die Klasse integrieren. Solche Funktionen innherhalb einer Klasse nennt man dann *Methoden*. Im Zusammenhang mit dem Pferde-Beispiel wären z.B. *traben()*, *galoppieren()* relevante Methoden. (Vereinfacht kann man sich eine Methode als normale Funktion vorstellen, welche in einer Klasse definiert ist.)\n",
    "  \n",
    "<center>\n",
    "<img src=\"IMG/objektorientierte-programmierung_anhand_pferd.jpg\"/>\n",
    "</center>"
   ]
  },
  {
   "cell_type": "markdown",
   "metadata": {},
   "source": [
    "### 8.1.1 Erste Erfahrungen mit OOP\n",
    "\n",
    "Da Python selbst komplett objektorientiert ist, hatten wir bereits mit der Objektorientierung zu tun. Jede Variable in Python ist ein Objekt und weist Attribute und Methoden auf, was man am Beispiel einer komplexen Zahl sehr schön sieht. Eine komplexe Zahl ist ein Objekt der Klasse *complex* und hat entsprechende Attribute (z.B. Real- bzw. Imaginärteil) und Methoden (z.B. Konjugierte)."
   ]
  },
  {
   "cell_type": "code",
   "execution_count": 36,
   "metadata": {},
   "outputs": [
    {
     "name": "stdout",
     "output_type": "stream",
     "text": [
      "<class 'complex'>\n"
     ]
    }
   ],
   "source": [
    "zahl = 2 + 3j\n",
    "print(type(number))"
   ]
  },
  {
   "cell_type": "code",
   "execution_count": 37,
   "metadata": {},
   "outputs": [
    {
     "data": {
      "text/plain": [
       "3.0"
      ]
     },
     "execution_count": 37,
     "metadata": {},
     "output_type": "execute_result"
    }
   ],
   "source": [
    "zahl.imag  # Attribut imag (Imaginärteil) des Objektes zahl"
   ]
  },
  {
   "cell_type": "code",
   "execution_count": 38,
   "metadata": {},
   "outputs": [
    {
     "data": {
      "text/plain": [
       "(2-3j)"
      ]
     },
     "execution_count": 38,
     "metadata": {},
     "output_type": "execute_result"
    }
   ],
   "source": [
    "zahl.conjugate()  # Methode conjugate (Konjugation) des Objektes zahl"
   ]
  },
  {
   "cell_type": "markdown",
   "metadata": {},
   "source": [
    "### 8.1.2 Ein erstes einfaches Beispiel einer Klasse\n",
    "\n",
    "Eine Klasse wird ähnlich wie eine Funktion definiert. Als Schlüsselwort wird im Gegensatz zu den Funktionen, welche mit *def* bezeichnet werden, nun *class* verwendet.\n",
    "\n",
    "Nachfolgend wird eine erste (leere) Klasse mit dem Namen *RGB* erstellt. Im Unterschied zu Funktionsnamen, welche generell kleingeschrieben werden sollten, beginnen Klassennamen mit einem Grossbuchstaben. Dies ermöglicht eine einfache Unterscheidung."
   ]
  },
  {
   "cell_type": "code",
   "execution_count": 34,
   "metadata": {
    "tags": []
   },
   "outputs": [],
   "source": [
    "class RGB:\n",
    "    pass  # leere Klasse (wird später implementiert)"
   ]
  },
  {
   "cell_type": "code",
   "execution_count": 35,
   "metadata": {
    "tags": []
   },
   "outputs": [
    {
     "name": "stdout",
     "output_type": "stream",
     "text": [
      "<class '__main__.RGB'>\n"
     ]
    }
   ],
   "source": [
    "# Instanzen / Objekte einer Klasse erzeugen\n",
    "rgb = RGB()  # rgb ist ein Objekt der Klasse RGB\n",
    "print(type(rgb))"
   ]
  },
  {
   "cell_type": "markdown",
   "metadata": {
    "execution": {
     "iopub.execute_input": "2021-08-05T10:32:55.150Z",
     "iopub.status.busy": "2021-08-05T10:32:55.143Z",
     "iopub.status.idle": "2021-08-05T10:32:55.159Z",
     "shell.execute_reply": "2021-08-05T10:32:55.165Z"
    }
   },
   "source": [
    "---\n",
    "<p style='text-align: right; font-size: 70%;'>Grundlagen Python (PYT_G01) / 2024</p>"
   ]
  }
 ],
 "metadata": {
  "kernelspec": {
   "display_name": "Python 3 (ipykernel)",
   "language": "python",
   "name": "python3"
  },
  "language_info": {
   "codemirror_mode": {
    "name": "ipython",
    "version": 3
   },
   "file_extension": ".py",
   "mimetype": "text/x-python",
   "name": "python",
   "nbconvert_exporter": "python",
   "pygments_lexer": "ipython3",
   "version": "3.10.11"
  },
  "nteract": {
   "version": "0.28.0"
  }
 },
 "nbformat": 4,
 "nbformat_minor": 4
}
