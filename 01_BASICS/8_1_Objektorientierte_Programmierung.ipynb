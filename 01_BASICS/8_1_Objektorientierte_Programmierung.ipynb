{
 "cells": [
  {
   "cell_type": "markdown",
   "metadata": {
    "nteract": {
     "transient": {
      "deleting": false
     }
    }
   },
   "source": [
    "<img src=\"IMG/PYT_G01_logo.svg\" width=\"100%\"/>\n",
    "<a href=\"0_Einfuehrung_Inhalt.ipynb\" target=\"_blank\">&larr; Einführung/Inhalt</a>"
   ]
  },
  {
   "cell_type": "markdown",
   "metadata": {},
   "source": [
    "# 8. Objektorientierte Programmierung (OOP)\n",
    "\n",
    "Man unterscheidet verschiedene Programmierparadigma (Programmierstile), die sich für verschiedene Anwendungen unterschiedlich gut eignen. Bisher haben wir vorwiegend prozedural programmiert, doch bereits auch mehrfach Objekte und Methoden von Klassen benutzt. Eines der Ziele der objektorientierten Programmierung besteht darin, Software weniger pflegeintensiv zu machen - damit das Programm auch dann funktioniert, wenn sich bestimmte Teile des Systems ändern, und Sie das Programm ohne grossen Aufwand an neue Anforderungen anpassen können. Dies ist vor allem für umfangreichere Programme wichtig.\n",
    "\n",
    "Die vier Grundprinzipien der objektorientierten Programmierung sind:\n",
    "\n",
    "- *Abstraktion* (*Abstraction*): Es soll mit einem System interagiert werden können, ohne dass die Implementierungsdetails bekannt sein müssen (Trennung von Interface und Implementierung). Dies ermöglicht es, Teile des Programms zu ändern, ohne dass das Interface geändert werden muss.\n",
    "  \n",
    "- *Datenkapselung* (*Encapsulation*): Gruppierung von Daten/Informationen und Funktionalität zu einer Einheit, wobei spezifisch gesteuert werden kann, wie von aussen auf welche Daten zugegriffen werden kann (*Information Hiding*). Der Benutzer soll nur auf die für ihn relevanten Daten zugreifen.\n",
    "  \n",
    "- *Vererbung* (*Inheritance*): Um bestehenden Code wiederverwenden zu können, soll die Funktionalität von einer bestimmten Klasse in eine andere Klasse übernommen und erweitert/überschrieben werden können. Dies wird mittels der Vererbung möglich.\n",
    "  \n",
    "- *Polymorphismus* (*Polymorphism*): Gleichnamige Funktionen (Methoden) können unterschiedliches Verhalten aufweisen, je nach dem, auf welches Objekt sie angewendet werden.\n",
    "\n",
    "In den nachfolgend aufgeführten Notebooks werden wir die oben erwähnten vier Grundprinzipien kennenlernen und verstehen. Zuerst müssen wir uns aber mit den OOP-Begrifflichkeiten auseinandersetzen.\n",
    "\n",
    "- <a href=\"8_2_Methoden_Attribute.ipynb\" target=\"_blank\">Methoden/Attribute (8.2)</a>\n",
    "- <a href=\"8_3_Datenkapselung.ipynb\" target=\"_blank\">Datenkapselung (8.3)</a>\n",
    "- <a href=\"8_4_Vererbung.ipynb\" target=\"_blank\">Vererbung (8.4)</a>"
   ]
  },
  {
   "cell_type": "markdown",
   "metadata": {},
   "source": [
    "## 8.1 Einführung\n",
    "\n",
    "Anhand des folgenden Bildes sollen die grundlegenden Begriffe der OOP anschaulich erläutert werden.\n",
    "\n",
    "- **Klasse**: Eine **Klasse** kann als Container/Vorlage (*Blueprint*) für einen benutzerdefinierten Datentyp angesehen werden. Die Klasse der *Pferde* kann man sich als einen \"Pferde-Datentyp\" vorstellen, der sämtliche relevanten Daten/Eigenschaften bzw. Verhalten/Fähigkeiten in Bezug auf Pferde darstellt.\n",
    "\n",
    "- **Objekt**: Ein **Objekt** ist eine konkrete Instanz der Klasse, d.h. ein individuelles Pferd (z.B. *Beauty*) mit den jeweiligen individuellen Eigenschaften/Fähigkeiten. Ein Objekt kann als Variable angesehen werden, wobei der \"Datentyp\" in diesem Fall der Klasse *Pferde* entspricht.\n",
    "  \n",
    "- **Attribut** (Eigenschaft): Die oben erwähnten Eigenschaften/Daten nennt man im Rahmen der objektorientierten Programmierung **Attribute**. Am Beispiel der *Pferde*-Klasse wären das z.B. *Farbe*, *Grösse*, *Gewicht*, *Rasse*, etc. Ein wesentlicher Vorteil der OOP besteht darin, dass in einer Klasse viele verschiedene Attribute (unterschiedlicher Datentypen) kompakt/übersichtlich zusammengefasst werden können. (Vereinfacht kann man sich Attribute als normale Variablen vorstellen, welche in einer Klasse zusammengefasst sind.)\n",
    "\n",
    "- **Methode** (Funktion): Neben den Attributen (Eigenschaften) möchte man natürlich auch Funktionen/Fähigkeiten (Verhalten) in die Klasse integrieren. Solche Funktionen innherhalb einer Klasse nennt man dann *Methoden*. Im Zusammenhang mit dem Pferde-Beispiel wären z.B. *traben()*, *galoppieren()* relevante Methoden. (Vereinfacht kann man sich eine Methode als normale Funktion vorstellen, welche in einer Klasse definiert ist.)\n",
    "  \n",
    "<center>\n",
    "<img src=\"IMG/objektorientierte-programmierung_anhand_pferd.jpg\"/>\n",
    "</center>"
   ]
  },
  {
   "cell_type": "markdown",
   "metadata": {},
   "source": [
    "### 8.1.1 Erste Erfahrungen mit OOP\n",
    "\n",
    "Da Python selbst komplett objektorientiert ist, hatten wir bereits mit der Objektorientierung zu tun. Jede Variable in Python ist ein Objekt und weist mehr oder weniger Attribute und Methoden auf, was am Beispiel einer komplexen Zahl ersichtlich ist. Eine komplexe Zahl ist ein Objekt der Klasse *complex* und hat entsprechende Attribute (z.B. Real- bzw. Imaginärteil) und Methoden (z.B. Konjugation)."
   ]
  },
  {
   "cell_type": "code",
   "execution_count": 13,
   "metadata": {},
   "outputs": [
    {
     "name": "stdout",
     "output_type": "stream",
     "text": [
      "<class 'complex'>\n"
     ]
    }
   ],
   "source": [
    "zahl = 2.5 + 3.1j\n",
    "print(type(zahl))"
   ]
  },
  {
   "cell_type": "code",
   "execution_count": 14,
   "metadata": {},
   "outputs": [
    {
     "data": {
      "text/plain": [
       "3.1"
      ]
     },
     "execution_count": 14,
     "metadata": {},
     "output_type": "execute_result"
    }
   ],
   "source": [
    "zahl.imag  # Attribut imag (Imaginärteil) des Objektes zahl"
   ]
  },
  {
   "cell_type": "code",
   "execution_count": 15,
   "metadata": {},
   "outputs": [
    {
     "data": {
      "text/plain": [
       "(2.5-3.1j)"
      ]
     },
     "execution_count": 15,
     "metadata": {},
     "output_type": "execute_result"
    }
   ],
   "source": [
    "zahl.conjugate()  # Methode conjugate (Konjugation) des Objektes zahl"
   ]
  },
  {
   "cell_type": "markdown",
   "metadata": {},
   "source": [
    "### 8.1.2 Ein erstes einfaches Beispiel einer Klasse\n",
    "\n",
    "Eine Klasse wird ähnlich wie eine Funktion definiert. Als Schlüsselwort wird im Gegensatz zu den Funktionen, welche mit *def* bezeichnet werden, nun *class* verwendet.\n",
    "\n",
    "Nachfolgend wird eine erste (leere) Klasse mit dem Namen *RGB* erstellt. Im Unterschied zu Funktionsnamen, welche generell kleingeschrieben werden sollten, beginnen Klassennamen mit einem Grossbuchstaben. Dies ermöglicht eine einfache Unterscheidung."
   ]
  },
  {
   "cell_type": "code",
   "execution_count": 16,
   "metadata": {
    "tags": []
   },
   "outputs": [],
   "source": [
    "class RGB:\n",
    "    pass  # leere Klasse (wird später implementiert)"
   ]
  },
  {
   "cell_type": "code",
   "execution_count": 17,
   "metadata": {
    "tags": []
   },
   "outputs": [
    {
     "name": "stdout",
     "output_type": "stream",
     "text": [
      "<class '__main__.RGB'>\n"
     ]
    }
   ],
   "source": [
    "# Instanzen / Objekte einer Klasse erzeugen\n",
    "rgb = RGB()  # rgb ist ein Objekt der Klasse RGB\n",
    "print(type(rgb))"
   ]
  },
  {
   "cell_type": "markdown",
   "metadata": {
    "execution": {
     "iopub.execute_input": "2021-08-05T10:32:55.150Z",
     "iopub.status.busy": "2021-08-05T10:32:55.143Z",
     "iopub.status.idle": "2021-08-05T10:32:55.159Z",
     "shell.execute_reply": "2021-08-05T10:32:55.165Z"
    }
   },
   "source": [
    "---\n",
    "<p style='text-align: right; font-size: 70%;'>Grundlagen Python (PYT_G01) / 2024</p>"
   ]
  }
 ],
 "metadata": {
  "kernelspec": {
   "display_name": "Python 3 (ipykernel)",
   "language": "python",
   "name": "python3"
  },
  "language_info": {
   "codemirror_mode": {
    "name": "ipython",
    "version": 3
   },
   "file_extension": ".py",
   "mimetype": "text/x-python",
   "name": "python",
   "nbconvert_exporter": "python",
   "pygments_lexer": "ipython3",
   "version": "3.10.11"
  },
  "nteract": {
   "version": "0.28.0"
  }
 },
 "nbformat": 4,
 "nbformat_minor": 4
}
