{
 "cells": [
  {
   "cell_type": "markdown",
   "metadata": {},
   "source": [
    "# 8.4 Vererbung (Inheritance)\n",
    "\n",
    "<img src=\"IMG/logo.png\" />\n",
    "<a href=\"0_Einfuehrung.ipynb\">&larr; Einführung/Inhalt</a>"
   ]
  },
  {
   "cell_type": "markdown",
   "metadata": {},
   "source": [
    "Ganz allgemein kann man sagen, dass die Vererbung eine Beziehung zwischen einer allgemeinen Klasse (Oberklasse oder Basisklasse) und einer spezialisierten Klasse (Unterklasse oder Subklasse) definiert. Nachfolgend sind zwei Klassen definiert. Eine Klasse *Person* (Basisklasse) und eine davon vererbte oder abgeleitete Klasse *Angestellter* (Unterklasse). Die Vererbung wird in der abgeleiteten Klasse nach der Klassenbezeichnung in () geschrieben. Die abgeleitete Klasse erbt die komplette Funktionalität (Attribute und Methoden) der Basisklasse und kann diese somit verwenden und erweitern bzw. überschreiben. \n",
    "\n",
    "Nachfolgend sind zwei Klassen definiert, welche diese beschriebene Verbindung (Vererbung) aufzeigen. Die Vererbung ist intuitiv gut verständlich: Ein *Angestellter* ist immer auch eine *Person*, d.h. die Funktionalität der (allgemeinen) Klasse *Person* sollte grundsätzlich auch in der (spezifischen) Klasse *Angestellter* vorhanden sein. Die Vererbung ist daher sehr hilfreich, um bestehenden Code weiterzuverwenden (*Reusability*)."
   ]
  },
  {
   "cell_type": "code",
   "execution_count": 4,
   "metadata": {},
   "outputs": [],
   "source": [
    "class Person:\n",
    "    \"\"\"\n",
    "    Basisklasse enthält Basisfunktionalität, die allen abgeleiteten Klassen gemein ist.\n",
    "    \"\"\"\n",
    "    def __init__(self, vorname, nachname, geburtstag):\n",
    "        self.vorname = vorname\n",
    "        self.nachname = nachname\n",
    "        self.geburtstag = geburtstag\n",
    "\n",
    "    def __str__(self):\n",
    "        return self.vorname + ' ' + self.nachname + ', ' + self.geburtstag\n",
    "\n",
    "\n",
    "class Angestellter(Person):  # Oberklasse wird in () definiert\n",
    "    \"\"\"\n",
    "    Abgeleitete Klasse der Basisklasse Person.\n",
    "    \"\"\"\n",
    "    def __init__(self, vorname='', nachname='', geburtstag='', personalnummer=''):\n",
    "        # super().__init__(vorname, nachname, geburtstag)\n",
    "        Person.__init__(self, vorname, nachname, geburtstag)  # __init__-Methode der Basisklasse aufrufen\n",
    "        self.personalnummer = personalnummer\n",
    "\n",
    "    def __str__(self):\n",
    "        # return super().__str__() + ' (' + self.personalnummer + ')'\n",
    "        return Person.__str__(self) + ' (' + self.personalnummer + ')'"
   ]
  },
  {
   "cell_type": "markdown",
   "metadata": {},
   "source": [
    "Zur Illustrierung dient wiederum das Klassendiagramm, welches die beiden Klassen zeigt und die Vererbung durch einen Pfeil (in Richtung der Basisklasse) visualisiert.\n",
    "\n",
    "<center>\n",
    "<img src=\"IMG/klassendiagramm_inheritance.png\" width=50%/>\n",
    "</center>\n"
   ]
  },
  {
   "cell_type": "code",
   "execution_count": 5,
   "metadata": {},
   "outputs": [
    {
     "name": "stdout",
     "output_type": "stream",
     "text": [
      "Homer Simpson, 09.08.1969 (007)\n"
     ]
    }
   ],
   "source": [
    "angestellter_1 = Angestellter(vorname='Homer', nachname='Simpson', geburtstag='09.08.1969', personalnummer='007')\n",
    "print(angestellter_1)"
   ]
  },
  {
   "cell_type": "markdown",
   "metadata": {},
   "source": [
    "## 8.4.1 Mehrfachvererbung (Multiple Inheritance)\n",
    "\n",
    "Eine abgeleitete Klasse kann in Python von verschiedenen Basisklassen erben. Syntaktisch realisiert Python die Mehrfachvererbung wie folgt: Soll eine Klasse von mehreren Basisklassen erben, gibt man die Basisklassen, durch Komma getrennt, zwischen dem Klammernpaar hinter dem Klassennamen an. Diese Reihenfolge entspricht auch der Suchreihenfolge von Python, d.h. eine Methode wird v.l.n.r. durch die Basisklassen gesucht.\n",
    "\n",
    "```python\n",
    "class Unterklasse(Basisklasse1, Basisklasse2, Basisklasse3, ...):\n",
    "```\n",
    "\n",
    "Mehrfachvererbungen werden allerdings rasch unübersichtlich und sollten daher möglichst vermieden werden."
   ]
  },
  {
   "cell_type": "markdown",
   "metadata": {},
   "source": [
    "---\n",
    "<p style='text-align: right; font-size: 70%;'>Grundlagen Python (PYT_G01) / 2024</p>"
   ]
  }
 ],
 "metadata": {
  "kernelspec": {
   "display_name": "Python 3 (ipykernel)",
   "language": "python",
   "name": "python3"
  },
  "language_info": {
   "codemirror_mode": {
    "name": "ipython",
    "version": 3
   },
   "file_extension": ".py",
   "mimetype": "text/x-python",
   "name": "python",
   "nbconvert_exporter": "python",
   "pygments_lexer": "ipython3",
   "version": "3.10.11"
  }
 },
 "nbformat": 4,
 "nbformat_minor": 4
}
