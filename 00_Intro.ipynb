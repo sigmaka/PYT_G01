{
 "cells": [
  {
   "cell_type": "markdown",
   "metadata": {
    "editable": true,
    "slideshow": {
     "slide_type": ""
    },
    "tags": []
   },
   "source": [
    "# Übersicht\n",
    "\n",
    "<img src=\"01_BASICS/IMG/logo.png\" />"
   ]
  },
  {
   "cell_type": "markdown",
   "metadata": {
    "editable": true,
    "slideshow": {
     "slide_type": ""
    },
    "tags": []
   },
   "source": [
    "<center><img src=\"01_BASICS/IMG/python_logo.png\" width=50% /></center>\n",
    "\n",
    "Die Unterlagen zum Modul sind zweiteilig aufgebaut. Im ersten Teil (*Basics*) geht es um die allgemeinen Grundlagen der Programmiersprache *Python* und im zweiten Teil (*Application*) um die praxisnahe Anwendung am Beispiel der RGB-Matrix der Basislernplattform (BLP)."
   ]
  },
  {
   "cell_type": "markdown",
   "metadata": {
    "editable": true,
    "slideshow": {
     "slide_type": ""
    },
    "tags": []
   },
   "source": [
    "## Gliederung\n",
    "\n",
    "- Teil I [*Grundlagen*](01_BASICS/0_Einfuehrung_Inhalt.ipynb)\n",
    "- Teil II [*Anwendung*](02_RGB_MATRIX/0_ABLAUF.ipynb)"
   ]
  },
  {
   "cell_type": "markdown",
   "metadata": {},
   "source": [
    "---\n",
    "<p style='text-align: right; font-size: 70%;'>Grundlagen Python (PYT_G01) / 2024</p>"
   ]
  }
 ],
 "metadata": {
  "kernelspec": {
   "display_name": "Python 3 (ipykernel)",
   "language": "python",
   "name": "python3"
  },
  "language_info": {
   "codemirror_mode": {
    "name": "ipython",
    "version": 3
   },
   "file_extension": ".py",
   "mimetype": "text/x-python",
   "name": "python",
   "nbconvert_exporter": "python",
   "pygments_lexer": "ipython3",
   "version": "3.10.11"
  }
 },
 "nbformat": 4,
 "nbformat_minor": 4
}
