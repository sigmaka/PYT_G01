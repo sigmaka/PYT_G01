{
 "cells": [
  {
   "cell_type": "markdown",
   "metadata": {},
   "source": [
    "<img src=\"IMG/PYT_G01_logo.svg\" width=\"100%\"/>\n",
    "<a href=\"0_ABLAUF.ipynb\" target=\"_blank\">&larr; Ablauf</a>"
   ]
  },
  {
   "cell_type": "markdown",
   "metadata": {
    "editable": true,
    "slideshow": {
     "slide_type": ""
    },
    "tags": []
   },
   "source": [
    "# 1. Einführung RGB-Matrix\n",
    "\n",
    "Für den praktischen Teil des Moduls werden wir mit der RGB-Matrix arbeiten. Dieser Aufbau wird für die Aufgaben, wie auch die Modulabschlussprüfung verwendet. Anhand verschiedener Aufgabenstellungen soll der Einstieg in Python und die entsprechenden Entwicklungsumgebungen geübt und gefestigt werden."
   ]
  },
  {
   "cell_type": "markdown",
   "metadata": {},
   "source": [
    "## 1.1 RGB-Farbraum\n",
    "\n",
    "Eine bestimmte Farbe kann grundsätzlich auf verschiedene Arten repräsentiert werden. Eine bei Programmiersprachen (und auch in vielen anderen Bereichen) sehr verbreitete Variante ist die RGB-Repräsentation ([RGB-Farbraum](https://de.wikipedia.org/wiki/RGB-Farbraum)). Die Grundidee dahinter besteht darin, dass eine Farbe als eine Überlagerung von den drei Grundfarben (ROT, GRÜN, BLAU) verstanden werden kann. Eine beliebige Farbe kann dabei mit drei Komponenten `[ROT, GRÜN, BLAU]` beschrieben werden, wobei für die einzelnen Anteile vielfach 8-Bit Werte (0-255) verwendet werden.\n",
    "\n",
    "<center>\n",
    "<img src=\"IMG/RGB.png\" width=\"30%\"/>\n",
    "</center>\n",
    "\n",
    "Nachfolgend werden einige \"Standardfarben\" definiert."
   ]
  },
  {
   "cell_type": "code",
   "execution_count": 1,
   "metadata": {},
   "outputs": [],
   "source": [
    "red = [255, 0, 0]\n",
    "green = [0, 255, 0]\n",
    "blue = [0, 0, 255]\n",
    "\n",
    "yellow = [255, 255, 0]\n",
    "magenta = [255, 0, 255]\n",
    "cyan = [0, 255, 255]\n",
    "\n",
    "black = [0, 0, 0]\n",
    "white = [255, 255, 255]"
   ]
  },
  {
   "cell_type": "markdown",
   "metadata": {},
   "source": [
    "Natürlich können so auch beliebige Zwischenfarben und Intensitäten dargestellt werden. Wir werden feststellen, dass obige Farbdefinitionen für die RGB-Matrix nicht ideal sind, da die LEDs damit viel zu hell leuchten.\n",
    "\n",
    "Anmerkung: In anderen Sprachen/Tools wird das RGB-Triplet häufig auch mit Gleitkommazahlen, d.h. `[0-100%, 0-100%, 0-100%]` bzw. `[0-1, 0-1, 0-1]` angegeben bzw. im Internet (HTML/CSS) werden Strings mit Hexadezimalwerten verwendet, z.B. `#FF0000` (ROT) etc. "
   ]
  },
  {
   "cell_type": "markdown",
   "metadata": {},
   "source": [
    "## 1.2 Einführungsbeispiel RGB-Matrix\n",
    "\n",
    "Dieses Einführungsbeispiel zeigt den korrekten Umgang mit dem RGB-Modul der ABBTS. Damit die RGB-Matrix korrekt funkioniert muss der entsprechende COM-Port korrekt eingestellt werden. Hierfür muss die RGB-Matrix an einem USB-Port eingesteckt werden und im Geräte-Manager kann danach der entsprechende COM-Port ausgelesen werden.\n",
    "\n",
    "<center>\n",
    "<img src=\"IMG/GeraeteManager_COM-Port.png\" width=\"50%\"/>\n",
    "</center>\n",
    "\n",
    "In diesem Fall ist dies COM7. Der COM-Port muss bei der Initialisierung des RGB-Objektes in Python angegeben werden, wie wir weiter unten sehen werden. Für ein bestimmtes Gerät wird vom Betriebssystem in der Regel immer derselbe COM-Port verwendet, d.h. Sie müssen diesen nicht bei jedem Einstecken nachschauen."
   ]
  },
  {
   "cell_type": "markdown",
   "metadata": {},
   "source": [
    "### 1.2.1 Imports\n",
    "\n",
    "Wir werden an anderer Stelle noch im Detail auf das Importieren von externen Paketen bzw. Funktionalität aus anderen Python-Files etc. eingehen. Im Moment genügt es zu wissen, dass wir zur Ansteuerung der RGB-Matrix die Klasse `RgbFpga` verwenden, die wir aus dem Paket **abbts_blp** importieren."
   ]
  },
  {
   "cell_type": "code",
   "execution_count": 1,
   "metadata": {},
   "outputs": [],
   "source": [
    "from abbts_blp.rgb import RgbFpga"
   ]
  },
  {
   "cell_type": "markdown",
   "metadata": {},
   "source": [
    "Wir werden uns später mit der ojektorientierten Programmierung beschäftigen und dann die nachfolgenden Codeteile komplett verstehen. Um etwas auf die RGB-Matrix schreiben zu können, durchlaufen wir im Wesentliches folgende Schritte. Zuerst muss ein Objekt der Klasse `RgbFpga` erzeugt werden, wir nennen dieses z.B. `rgb`. Dieses Obejkt hat ein Attribut `rgb_matrix`, welches die LED-Matrix repräsentiert (verschachtelte Liste). Dies können wir manipulieren, um ein bestimmtes Muster zu entwickeln.\n",
    "\n",
    "- Objekt erzeugen (`rgb`)\n",
    "- Matrix manipulieren (Attribut `.rgb_matrix`)\n",
    "\n",
    "Mit den obigen beiden Schritten wird aber noch nichts an die RGB-Matrix gesendet, d.h. es findet noch keine Kommunikation mit der RGB-Matrix statt. Mit den drei folgenden Methoden wird die Schnittstelle zur RGB-Matrix geöffnet, dann die oben erwähnten Daten übermittelt und schliesslich die Schnittstelle wieder geschlossen.\n",
    "\n",
    "- Schnittstelle öffnen - Methode `.open()`\n",
    "- Schnittstelle beschreiben - Methode `.write()`\n",
    "- Schnittstelle schliessen - Methode `.close()`\n"
   ]
  },
  {
   "cell_type": "code",
   "execution_count": 6,
   "metadata": {},
   "outputs": [],
   "source": [
    "zeile = 1  # Zeilenindexierung 0..7 (horizontal)\n",
    "spalte = 1  # Spaltenindexierung 0..7 (vertikal)\n",
    "\n",
    "rot = 0  # Rotanteil 0..255\n",
    "gruen = 1  # Grünanteil 0..255\n",
    "blau = 0  # Blauanteil 0..255\n",
    "\n",
    "rgb = RgbFpga(port='COM15')  # Erzeugung des rgb-Objektes\n",
    "rgb.rgb_matrix[zeile][spalte] = [rot, gruen, blau]  # Farbzuweisung\n",
    "\n",
    "rgb.open()  # Schnittstelle öffnen\n",
    "rgb.write()  # Schnittstelle schreiben\n",
    "rgb.close()  # Schnittstelle schliessen"
   ]
  },
  {
   "cell_type": "markdown",
   "metadata": {},
   "source": [
    "Mit diesem Beispiel sollte jetzt jede/jeder Studierende fähig sein, die Anbindung der RGB-Matrix zu testen und eine erste einfache Aufgabenstellung selbstständig zu bearbeiten."
   ]
  },
  {
   "cell_type": "markdown",
   "metadata": {},
   "source": [
    "## Aufgabe 1\n",
    "\n",
    "Ziel dieser Aufgabe soll es sein die korrekte Anwendnung der Klasse zur Ansteuerung der RGB-Matrix sicherzustellen. Hierfür können die Studierenden individuell unterschiedliche Muster mit der Matrix darstellen.\n",
    "\n",
    "Beispiele:\n",
    "- Einzelne LED's mit bestimmter Farbe einschalten\n",
    "- Schachbrettmuster\n",
    "- Linien horizontal, vertikal, diagonal\n",
    "- ..."
   ]
  },
  {
   "cell_type": "markdown",
   "metadata": {},
   "source": [
    "---\n",
    "<p style='text-align: right; font-size: 70%;'>Grundlagen Python (PYT_G01) / 2024</p>"
   ]
  }
 ],
 "metadata": {
  "kernelspec": {
   "display_name": "Python 3 (ipykernel)",
   "language": "python",
   "name": "python3"
  },
  "language_info": {
   "codemirror_mode": {
    "name": "ipython",
    "version": 3
   },
   "file_extension": ".py",
   "mimetype": "text/x-python",
   "name": "python",
   "nbconvert_exporter": "python",
   "pygments_lexer": "ipython3",
   "version": "3.10.11"
  }
 },
 "nbformat": 4,
 "nbformat_minor": 4
}
