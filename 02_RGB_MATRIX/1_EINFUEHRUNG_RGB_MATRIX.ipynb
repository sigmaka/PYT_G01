{
 "cells": [
  {
   "cell_type": "markdown",
   "metadata": {},
   "source": [
    "<img src=\"IMG/PYT_G01_logo.svg\" width=\"100%\"/>\n",
    "<a href=\"0_ABLAUF.ipynb\" target=\"_blank\">&larr; Ablauf</a>"
   ]
  },
  {
   "cell_type": "markdown",
   "metadata": {
    "editable": true,
    "slideshow": {
     "slide_type": ""
    },
    "tags": []
   },
   "source": [
    "# 1. Einführung RGB-Matrix\n",
    "Der erste Teil des Moduls \"Python Grundlagen (PYT_G01)\" wird anhand der RGB-Matrix umgesetzt. Dieser Aufbau wird für die Aufgaben, wie auch die Modulabschlussprüfung verwendet. <br>\n",
    "Anhand verschiedener Aufgabenstellungen soll der Einstieg in Python und die entsprechenden Entwicklungsumgebungen durchgeführt werden.\n",
    "\n",
    "- UART-Schnittstelle -> COM-Port\n",
    "- Einführungsbeispiel"
   ]
  },
  {
   "cell_type": "markdown",
   "metadata": {},
   "source": [
    "## Einführungsbeispiel RGB-Matrix\n",
    "Dieses Einführungsbeispiel zeigt den korrekten Umgang mit dem RGB-Modul der ABBTS. Damit die RGB-Matrix korrekt funkioniert muss der entsprechende COM-Port korrekt eingestellt werden. Hierfür muss die RGB-Matrix (via FPGA) an einem USB-Port eingesteckt werden und im Geräte-Manager kann danach der entsprechende COM-Port ausgelesen werden.\n",
    "<center>\n",
    "<img src=\"IMG/GeraeteManager_COM-Port.png\" width=\"25%\"/>\n",
    "</center>\n",
    "\n",
    "In diesem Fall ist dies COM7. Diese Portnummer muss danach, wie unten ersichtlich, in Zeile <br>\n",
    "\n",
    "````python\n",
    "rgb = RGBBasis(port='COM7')\n",
    "````\n",
    "korrekt eingesetzt werden."
   ]
  },
  {
   "cell_type": "code",
   "execution_count": 1,
   "metadata": {},
   "outputs": [],
   "source": [
    "from abbts_blp.rgb import RgbFpga"
   ]
  },
  {
   "cell_type": "code",
   "execution_count": 6,
   "metadata": {},
   "outputs": [],
   "source": [
    "# Farbdefinition\n",
    "red = [1, 0, 0]\n",
    "green = [0, 1, 0]\n",
    "blue = [0, 0, 1]\n",
    "white = [1, 1, 1]\n",
    "colors = [red, green, blue, white]"
   ]
  },
  {
   "cell_type": "code",
   "execution_count": 8,
   "metadata": {},
   "outputs": [],
   "source": [
    "# Musterausgabe\n",
    "rgb = RgbFpga(port='COM4')  # muss u.U. angepasst werden\n",
    "# Schnittstelle öffnen (1)\n",
    "rgb.open()\n",
    "\n",
    "# Koordinatensystem\n",
    "zeile = 1  # Zeilenindexierung 0..7 (horizontal)\n",
    "spalte = 1  # Spaltenindexierung 0..7 (vertikal)\n",
    "\n",
    "# Farbdefinition, RGB-Farbraum [R, G, B] verwendet\n",
    "rot = 0  # Rotanteil 0..255\n",
    "gruen = 1  # Grünanteil 0..255\n",
    "blau = 0  # Blauanteil 0..255\n",
    "\n",
    "# Beispiel der Farbzuweisung\n",
    "rgb.rgb_matrix[zeile][spalte] = [rot, gruen, blau]\n",
    "# Schnittstelle schreiben (2)\n",
    "rgb.write()\n",
    "# Schnittstelle schliessen (3)\n",
    "rgb.close()"
   ]
  },
  {
   "cell_type": "markdown",
   "metadata": {},
   "source": [
    "Mit diesem Beispiel sollte jetzt jeder Studierende fähig sein, die nächste Aufgabenstellung selbstständig zu bearbeiten."
   ]
  },
  {
   "cell_type": "markdown",
   "metadata": {},
   "source": [
    "### Aufgabe 1\n",
    "Ziel dieser Aufgabe soll es sein die korrekte Anwendnung der Klasse zur Ansteuerung der RGB-Matrix sicherzustellen. Hierfür können die Studierenden individuell unterschiedliche Muster mit der Matrix darstellen.\n",
    "Beispiele:\n",
    "- Schachbrettmuster\n",
    "- Linien horizontal, vertikal, diagonal\n",
    "- ..."
   ]
  },
  {
   "cell_type": "markdown",
   "metadata": {
    "tags": []
   },
   "source": [
    "## Alternative Ansteuerung der Matrix\n",
    "Die Matrix kann auch via das Aufrufen von definierten Funktionen (siehe Start-Aufgabe) angesteuert werden. <br>\n",
    "Hierbei kann auch sehr anschaulich der Mechanismus: if \\_\\_name\\_\\_ == '\\_\\_main\\_\\_' gezeigt werden. Weiterführende Erklärungen finden Sie unter dem folgenden <a href=\"https://www.data-science-architect.de/__name____main__/\" target=\"_blank\">Link</a>. Anhand diesem Mechanismus können einzelne Programmteile separat getestet werden."
   ]
  },
  {
   "cell_type": "code",
   "execution_count": 1,
   "metadata": {},
   "outputs": [],
   "source": [
    "from SOURCE import grundstruktur_programm"
   ]
  },
  {
   "cell_type": "code",
   "execution_count": 2,
   "metadata": {},
   "outputs": [],
   "source": [
    "grundstruktur_programm.main(com='COM4')"
   ]
  },
  {
   "cell_type": "markdown",
   "metadata": {},
   "source": [
    "---\n",
    "<p style='text-align: right; font-size: 70%;'>Grundlagen Python (PYT_G01) / 2024</p>"
   ]
  }
 ],
 "metadata": {
  "kernelspec": {
   "display_name": "Python 3 (ipykernel)",
   "language": "python",
   "name": "python3"
  },
  "language_info": {
   "codemirror_mode": {
    "name": "ipython",
    "version": 3
   },
   "file_extension": ".py",
   "mimetype": "text/x-python",
   "name": "python",
   "nbconvert_exporter": "python",
   "pygments_lexer": "ipython3",
   "version": "3.10.11"
  }
 },
 "nbformat": 4,
 "nbformat_minor": 4
}
