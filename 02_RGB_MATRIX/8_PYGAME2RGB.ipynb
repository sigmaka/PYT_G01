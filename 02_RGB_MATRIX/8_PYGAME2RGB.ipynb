{
 "cells": [
  {
   "cell_type": "markdown",
   "metadata": {},
   "source": [
    "<img src=\"IMG/PYT_G01_logo.svg\" width=\"100%\"/>\n",
    "<a href=\"0_ABLAUF.ipynb\" target=\"_blank\">&larr; Ablauf</a>"
   ]
  },
  {
   "cell_type": "markdown",
   "metadata": {},
   "source": [
    "# 8. *Pygame* nach RGB Matrix\n",
    "\n",
    "Die nachfolgende Übung benötigt die *Gaming Library* <a href=\"https://www.pygame.org\" target=\"_blank\">*Pygame*</a>. Die Idee besteht darin, die RGB-Matrix anhand von Mausbewegungen (in einem Python-GUI) anzusteuern.\n",
    "\n",
    "Für die Einarbeitung eignet sich folgende Literatur:\n",
    "\n",
    "- <a href=\"https://www.python-lernen.de/pygame-tutorial.htm\" target=\"_blank\">https://www.python-lernen.de/pygame-tutorial.htm</a>\n",
    "- <a href=\"https://www.youtube.com/watch?v=hxYT5fwEK1A&ab_channel=ProgrammierenStarten\" target=\"_blank\">https://www.youtube.com/watch?v=hxYT5fwEK1A&ab_channel=ProgrammierenStarten</a>\n",
    "- <a href=\"https://inventwithpython.com/pygame/\" target=\"_blank\">https://inventwithpython.com/pygame/</a>\n",
    "- <a href=\"https://inventwithpython.com/makinggames.pdf\" target=\"_blank\">https://inventwithpython.com/makinggames.pdf</a>\n"
   ]
  },
  {
   "cell_type": "markdown",
   "metadata": {},
   "source": [
    "## Aufgabe 8.1 - Pfeiltasten\n",
    "\n",
    "Bei der ersten Aufgabe mit *Pygame* soll die RGB-Matrix mit den Pfeiltasten (&larr; &rarr; &uarr; &darr;) gesteuert werden (vgl. Video unten), wobei die Farbe durch Tastendruck umgestellt werden kann (Taste `r` (Rot), `g` (Grün), `b` (Blau) und weitere nach Bedarf). Da wir an dieser Stelle nicht alle Details der GUI-Programmierung mit PyGame anschauen können, steht als Ausgangspunkt das Pythonskript `AUFGABE_8_1_START.py` verwenden."
   ]
  },
  {
   "cell_type": "code",
   "execution_count": 4,
   "metadata": {},
   "outputs": [
    {
     "data": {
      "text/html": [
       "<div align=\"middle\">\n",
       "<video width=\"60%\" controls>\n",
       "      <source src=\"VIDEOS/Aufgabe_8_1_PyGame2RGB.mp4\" type=\"video/mp4\">\n",
       "</video></div>\n"
      ],
      "text/plain": [
       "<IPython.core.display.HTML object>"
      ]
     },
     "metadata": {},
     "output_type": "display_data"
    }
   ],
   "source": [
    "%%HTML\n",
    "<div align=\"middle\">\n",
    "<video width=\"60%\" controls>\n",
    "      <source src=\"VIDEOS/Aufgabe_8_1_PyGame2RGB.mp4\" type=\"video/mp4\">\n",
    "</video></div>"
   ]
  },
  {
   "cell_type": "markdown",
   "metadata": {},
   "source": [
    "## Aufgabe 8.2 - Mousetracker\n",
    "\n",
    "Bei dieser Aufgabe erfolgt die Steuerung nun anhand der Mausbewegung. Gleich wie oben soll die Farbe via Tastendruck umgeschaltet werden können. Mit einem Linksklick soll eine LED eingeschaltet (weiss) werden können, die dann auch weiter leuchtet, wenn sich die Maus weiter bewegt."
   ]
  },
  {
   "cell_type": "code",
   "execution_count": 5,
   "metadata": {},
   "outputs": [
    {
     "data": {
      "text/html": [
       "<div align=\"middle\">\n",
       "<video width=\"60%\" controls>\n",
       "      <source src=\"VIDEOS/Aufgabe_8_2_PyGame2RGB.mp4\" type=\"video/mp4\">\n",
       "</video></div>\n"
      ],
      "text/plain": [
       "<IPython.core.display.HTML object>"
      ]
     },
     "metadata": {},
     "output_type": "display_data"
    }
   ],
   "source": [
    "%%HTML\n",
    "<div align=\"middle\">\n",
    "<video width=\"60%\" controls>\n",
    "      <source src=\"VIDEOS/Aufgabe_8_2_PyGame2RGB.mp4\" type=\"video/mp4\">\n",
    "</video></div>"
   ]
  },
  {
   "cell_type": "markdown",
   "metadata": {},
   "source": [
    "## Aufgabe 8.3 - Navigation mit Pfeilen\n",
    "\n",
    "In Anlehnung an Aufgabe 6.2 soll hier wiederum ein Ausschnitt aus dem Bild `IMG/aufgabe_6_2.png` dargestellt werden, wobei gleichzeitig eine GUI-Visualisierung erstellt werden soll (vgl. Video unten). Der Ausschnitt soll mit den Pfeiltasten (&uarr; &darr;) verschoben werden können."
   ]
  },
  {
   "cell_type": "code",
   "execution_count": 6,
   "metadata": {},
   "outputs": [
    {
     "data": {
      "text/html": [
       "<div align=\"middle\">\n",
       "<video width=\"50%\" controls>\n",
       "      <source src=\"VIDEOS/Aufgabe_8_3_PyGame2RGB.mp4\" type=\"video/mp4\">\n",
       "</video></div>\n"
      ],
      "text/plain": [
       "<IPython.core.display.HTML object>"
      ]
     },
     "metadata": {},
     "output_type": "display_data"
    }
   ],
   "source": [
    "%%HTML\n",
    "<div align=\"middle\">\n",
    "<video width=\"50%\" controls>\n",
    "      <source src=\"VIDEOS/Aufgabe_8_3_PyGame2RGB.mp4\" type=\"video/mp4\">\n",
    "</video></div>"
   ]
  },
  {
   "cell_type": "markdown",
   "metadata": {},
   "source": [
    "---\n",
    "<p style='text-align: right; font-size: 70%;'>Grundlagen Python (PYT_G01) / 2024</p>"
   ]
  }
 ],
 "metadata": {
  "kernelspec": {
   "display_name": "Python 3 (ipykernel)",
   "language": "python",
   "name": "python3"
  },
  "language_info": {
   "codemirror_mode": {
    "name": "ipython",
    "version": 3
   },
   "file_extension": ".py",
   "mimetype": "text/x-python",
   "name": "python",
   "nbconvert_exporter": "python",
   "pygments_lexer": "ipython3",
   "version": "3.10.11"
  }
 },
 "nbformat": 4,
 "nbformat_minor": 4
}
