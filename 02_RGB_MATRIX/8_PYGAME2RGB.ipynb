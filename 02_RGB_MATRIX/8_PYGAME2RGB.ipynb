{
 "cells": [
  {
   "cell_type": "markdown",
   "metadata": {},
   "source": [
    "<img src=\"IMG/PYT_G01_logo.svg\" width=\"100%\"/>\n",
    "<a href=\"0_ABLAUF.ipynb\" target=\"_blank\">&larr; Ablauf</a>"
   ]
  },
  {
   "cell_type": "markdown",
   "metadata": {},
   "source": [
    "# 8. RGB Matrix anhand eines GUIs steuern (*Pygame*)\n",
    "\n",
    "## 8.1 GUI-Programmierung\n",
    "\n",
    "Bei den bisherigen Aufgaben fand im Allgemeinen keine Interaktion zwischen User und Programm statt. Im weiteren wollen wir die RGB-Matrix durch Userinteraktionen (Keyboard, Maus) steuern, was uns zur Thematik der UI- bzw. GUI-Programmierung führt. UI steht für *User Interface* bzw. GUI für *Graphical User Interface* also Bedieninterface bzw. grafische Benutzeroberfläche. Die Programmierung der Benutzeroberfläche ist ein wesentlicher Teil der Programmentwicklung und bringt einige Herausforderung mit sich. Im Gegensatz zu den bisherigen Programmen muss ein Programm, welches mit dem Benutzer interagiert, andauernd auf Eingaben bzw. Mausbewegungen reagieren können, d. h. eine einmalige, rein prozedurale (serielle) Abarbeitung von Programmzeilen kann nicht mehr funktionieren. Stattdessen enthalten solche Programme einen *Event-Loop*, d. h. eine Schleife, die konstant \"läuft\" und Benutzerinteraktionen detektiert und korrekt verarbeitet.\n",
    "\n",
    "In Python gibt es verschiedene Pakete für die Erstellung einer allgemeinen Benutzeroberfläche. Zwei sehr verbreitete Pakete sind [tkinter](https://docs.python.org/3/library/tkinter.html) und [PyQt](https://wiki.python.org/moin/PyQt). Wir werden an anderer Stelle kurz auf *tkinter* eingehen und ein kleines GUI damit erstellen. \n",
    "\n",
    "## 8.2 *Pygame*\n",
    "\n",
    "Speziell für einfache 2D-Games (z. B. Arcade-Spiele) eignet sich die *Gaming Library* [Pygame](https://www.pygame.org\"), welche wir für die folgenden Übungen verwenden werden. Die Idee besteht jeweils darin, die RGB-Matrix anhand von Tastatureingaben bzw. Mausbewegungen in einem GUI anzusteuern.\n",
    "\n",
    "Für die Einarbeitung eignet sich folgende Literatur:\n",
    "\n",
    "- <a href=\"https://www.python-lernen.de/pygame-tutorial.htm\" target=\"_blank\">https://www.python-lernen.de/pygame-tutorial.htm</a>\n",
    "- <a href=\"https://www.youtube.com/watch?v=hxYT5fwEK1A&ab_channel=ProgrammierenStarten\" target=\"_blank\">https://www.youtube.com/watch?v=hxYT5fwEK1A&ab_channel=ProgrammierenStarten</a>\n",
    "- <a href=\"https://inventwithpython.com/pygame/\" target=\"_blank\">https://inventwithpython.com/pygame/</a>\n",
    "- <a href=\"https://inventwithpython.com/makinggames.pdf\" target=\"_blank\">https://inventwithpython.com/makinggames.pdf</a>\n",
    "\n",
    "## 8.2.1 *Pygame*-Elemente\n",
    "\n",
    "Wir wollen nachfolgend die wichtigsten Elemente eines *Pygame*-Programms durchgehen.\n",
    "\n",
    "- Wie üblich muss das Modul zu Beginn importiert werden. Obwohl mit der ersten Zeile alles von pygame installiert wird (pygame-Namespace), ist es hilfreich, das Untermodul locals zusätzlich in den globalen Namespace zu importieren. Damit können dann z. B. die Tastencodes `K_ESCAPE`, `K_UP`, `K_DOWN` etc. ohne den Präfix `pygame.` verwendet werden, was Schreibarbeit spart.\n",
    "```python\n",
    "import pygame\n",
    "from pygame.locals import *\n",
    "```\n",
    "- Für die Initialisierung von Pygame wird das *canvas*-Objekt (Zeichenfläche) initialsiert und das *clock*-Objekt erzeugt.\n",
    "```python\n",
    "pygame.init()\n",
    "canvas = pygame.display.set_mode((480, 480))  # Fenstergrösse\n",
    "clock = pygame.time.Clock()\n",
    "```\n",
    "- In das *canvas*-Objekt kann nun beliebig gezeichnet werden, wofür verschiedene Methoden zur Verfügung stehen (`.draw.line()`, `.draw.rect()`, `.draw.circle()` etc.\n",
    "```python\n",
    "canvas.fill([0, 0, 0])  # canvas-Fläche schwarz färben\n",
    "pygame.draw.circle(canvas, (255, 0, 0), (100, 100), 25)  # Kreis (rot ausgefüllt) mit Radius 25 und Mittelpunkt (100, 100)\n",
    "...\n",
    "pygame.display.update()  # Display aktualisieren\n",
    "clock.tick(FPS)  # Zykluszeit (FPS: Frames per Second)\n",
    "```\n",
    "- Die obigen Zeilen laufen in einer Schleife, da bei einem Spiel das Display sich dauernd (dynamisch) verändert. Damit nun Benutzerinteraktionen (Tastendruck, Mausbewegung) detektiert und verarbeit werden können, benötigt man einen *Event-Loop* bzw. einen *Event-Handler*, der ebenfalls in der Schleife ist und auftretende Ereignisse (Events) detektiert. Die wichtigsten Events sind:\n",
    "  - Fenster wird geschlossen (`event.type == QUIT`)\n",
    "  - Taste wird gedrückt (`event.type == KEYDOWN`), wobei mit `event.key` die jeweilige Taste bestimmt werden kann\n",
    "  - Mausbewegung (`event.type == MOUSEMOTION`), wobei `event.pos` die aktuelle Mausposition enthält\n",
    "  - Maustaste wird gedrückt (`event.type == MOUSEBUTTONDOWN`)\n",
    "```python\n",
    "for event in pygame.event.get():\n",
    "    if event.type == QUIT or (event.type == KEYDOWN and event.key == K_ESCAPE):\n",
    "        ...\n",
    "    elif ...\n",
    "        ...\n",
    "    else:\n",
    "        ...\n",
    "```\n",
    "- Am Ende des Spiel (meistens ist dies gleichzeitig das Programmende) wird die `.quit()`-Methode aufgerufen.\n",
    "```python\n",
    "pygame.quit()\n",
    "```"
   ]
  },
  {
   "cell_type": "markdown",
   "metadata": {},
   "source": [
    "## Aufgabe 8.1 - Pfeiltasten\n",
    "\n",
    "Bei der ersten Aufgabe mit *Pygame* soll die RGB-Matrix mit den Pfeiltasten (&larr; &rarr; &uarr; &darr;) gesteuert werden (vgl. Video unten), wobei die Farbe durch Tastendruck umgestellt werden kann (Taste `r` (Rot), `g` (Grün), `b` (Blau) und weitere nach Bedarf). Da wir an dieser Stelle nicht alle Details der GUI-Programmierung mit PyGame anschauen können, werden wir die Grundstruktur im Unterricht zusammen erstellen."
   ]
  },
  {
   "cell_type": "code",
   "execution_count": 4,
   "metadata": {
    "jupyter": {
     "source_hidden": true
    }
   },
   "outputs": [
    {
     "data": {
      "text/html": [
       "<div align=\"middle\">\n",
       "<video width=\"60%\" controls>\n",
       "      <source src=\"VIDEOS/Aufgabe_8_1_PyGame2RGB.mp4\" type=\"video/mp4\">\n",
       "</video></div>\n"
      ],
      "text/plain": [
       "<IPython.core.display.HTML object>"
      ]
     },
     "metadata": {},
     "output_type": "display_data"
    }
   ],
   "source": [
    "%%HTML\n",
    "<div align=\"middle\">\n",
    "<video width=\"60%\" controls>\n",
    "      <source src=\"VIDEOS/Aufgabe_8_1_PyGame2RGB.mp4\" type=\"video/mp4\">\n",
    "</video></div>"
   ]
  },
  {
   "cell_type": "markdown",
   "metadata": {},
   "source": [
    "## Aufgabe 8.2 - Mousetracker\n",
    "\n",
    "Bei dieser Aufgabe erfolgt die Steuerung nun anhand der Mausbewegung. Gleich wie oben soll die Farbe via Tastendruck umgeschaltet werden können. Mit einem Linksklick soll eine LED eingeschaltet (weiss) werden können, die dann auch weiter leuchtet, wenn sich die Maus weiter bewegt."
   ]
  },
  {
   "cell_type": "code",
   "execution_count": 5,
   "metadata": {
    "jupyter": {
     "source_hidden": true
    }
   },
   "outputs": [
    {
     "data": {
      "text/html": [
       "<div align=\"middle\">\n",
       "<video width=\"60%\" controls>\n",
       "      <source src=\"VIDEOS/Aufgabe_8_2_PyGame2RGB.mp4\" type=\"video/mp4\">\n",
       "</video></div>\n"
      ],
      "text/plain": [
       "<IPython.core.display.HTML object>"
      ]
     },
     "metadata": {},
     "output_type": "display_data"
    }
   ],
   "source": [
    "%%HTML\n",
    "<div align=\"middle\">\n",
    "<video width=\"60%\" controls>\n",
    "      <source src=\"VIDEOS/Aufgabe_8_2_PyGame2RGB.mp4\" type=\"video/mp4\">\n",
    "</video></div>"
   ]
  },
  {
   "cell_type": "markdown",
   "metadata": {},
   "source": [
    "## Aufgabe 8.3 - Navigation mit Pfeilen\n",
    "\n",
    "In Anlehnung an Aufgabe 6.2 soll hier wiederum ein Ausschnitt aus dem Bild `IMG/aufgabe_6_2.png` dargestellt werden, wobei gleichzeitig eine GUI-Visualisierung erstellt werden soll (vgl. Video unten). Der Ausschnitt soll mit den Pfeiltasten (&uarr; &darr;) verschoben werden können."
   ]
  },
  {
   "cell_type": "code",
   "execution_count": 6,
   "metadata": {
    "jupyter": {
     "source_hidden": true
    }
   },
   "outputs": [
    {
     "data": {
      "text/html": [
       "<div align=\"middle\">\n",
       "<video width=\"50%\" controls>\n",
       "      <source src=\"VIDEOS/Aufgabe_8_3_PyGame2RGB.mp4\" type=\"video/mp4\">\n",
       "</video></div>\n"
      ],
      "text/plain": [
       "<IPython.core.display.HTML object>"
      ]
     },
     "metadata": {},
     "output_type": "display_data"
    }
   ],
   "source": [
    "%%HTML\n",
    "<div align=\"middle\">\n",
    "<video width=\"50%\" controls>\n",
    "      <source src=\"VIDEOS/Aufgabe_8_3_PyGame2RGB.mp4\" type=\"video/mp4\">\n",
    "</video></div>"
   ]
  },
  {
   "cell_type": "markdown",
   "metadata": {},
   "source": [
    "---\n",
    "<p style='text-align: right; font-size: 70%;'>Grundlagen Python (PYT_G01) / 2024</p>"
   ]
  }
 ],
 "metadata": {
  "kernelspec": {
   "display_name": "Python 3 (ipykernel)",
   "language": "python",
   "name": "python3"
  },
  "language_info": {
   "codemirror_mode": {
    "name": "ipython",
    "version": 3
   },
   "file_extension": ".py",
   "mimetype": "text/x-python",
   "name": "python",
   "nbconvert_exporter": "python",
   "pygments_lexer": "ipython3",
   "version": "3.10.11"
  }
 },
 "nbformat": 4,
 "nbformat_minor": 4
}
