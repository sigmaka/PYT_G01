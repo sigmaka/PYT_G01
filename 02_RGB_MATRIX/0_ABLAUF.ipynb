{
 "cells": [
  {
   "cell_type": "markdown",
   "metadata": {},
   "source": [
    "# Übersicht\n",
    "\n",
    "<img src=\"IMG/logo.png\" />"
   ]
  },
  {
   "cell_type": "markdown",
   "metadata": {},
   "source": [
    "Nachdem wir die relevanten Grundlagen erarbeitet haben, wollen wir Python nun an praxisorientierten Beispielen einsetzen, um die RGB-Matrix der BLP anzusteuern. Zuerst werden wir uns ein wenig mit der Schnittstelle (Interface) beschäftigen und dann den Fokus relativ rasch auf statische/dynamische LED-Muster legen.\n",
    "\n",
    "> Zwischen den Aufgaben werden wir immer wieder kleine Theorie-Inputs haben, wo wir das vorhandene Grundlagenwissen stetig erweitern. Individuelle Lücken sind individuell zu schliessen.\n",
    "\n",
    "Dieser Teil des Kurses ist wiederum in verschiedene Teile gegliedert, zu welchen jeweils ein Jupyter-Notebook existiert.\n",
    "\n",
    "1. [Einführung RGB-Matrix](1_EINFUEHRUNG.ipynb)\n",
    "2. [Ansteuerung](2_ANSTEUERUNG.ipynb)\n",
    "3. [Matrix als verschachtelte Liste](3_MATRIX.ipynb)\n",
    "4. [Statische Muster](4_STATISCHE_MUSTER.ipynb)\n",
    "5. [Dynamische Muster](5_DYNAMISCHE_MUSTER.ipynb)\n",
    "6. [Muster anhand von Bildinformationen (PNG)](6_PNG2RGB.ipynb)\n",
    "7. [Muster anhand von Textinformationen (TXT)](7_TXT2RGB.ipynb)\n",
    "8. [Muster anhand GUI (*PyGame*)](8_PYGAME2RGB.ipynb)\n",
    "9. [Zusatzaufgaben](9_ZUSATZAUFGABEN.ipynb)\n",
    "\n"
   ]
  },
  {
   "cell_type": "markdown",
   "metadata": {},
   "source": [
    "---\n",
    "<p style='text-align: right; font-size: 70%;'>Grundlagen Python (PYT_G01) / 2024</p>"
   ]
  }
 ],
 "metadata": {
  "kernelspec": {
   "display_name": "Python 3 (ipykernel)",
   "language": "python",
   "name": "python3"
  },
  "language_info": {
   "codemirror_mode": {
    "name": "ipython",
    "version": 3
   },
   "file_extension": ".py",
   "mimetype": "text/x-python",
   "name": "python",
   "nbconvert_exporter": "python",
   "pygments_lexer": "ipython3",
   "version": "3.10.11"
  }
 },
 "nbformat": 4,
 "nbformat_minor": 4
}
