{
 "cells": [
  {
   "cell_type": "markdown",
   "metadata": {},
   "source": [
    "<img src=\"IMG/PYT_G01_logo.svg\" width=\"100%\"/>"
   ]
  },
  {
   "cell_type": "markdown",
   "metadata": {},
   "source": [
    "# Applikation RGB-Matrix\n",
    "\n",
    "Nachdem wir die relevanten Grundlagen erarbeitet haben, wollen wir Python nun einsetzen, um die RGB-Matrix anzusteuern. Zuerst werden wir uns ein wenig mit der Schnittstelle (Interface) beschäftigen und dann den Fokus relativ rasch auf statische/dynamische Muster legen.\n",
    "\n",
    "> Zwischen den Aufgaben werden wir immer wieder kleine Theorie-Inputs haben, wo wir das vorhandene Grundlagenwissen stetig erweitern. Individuelle Lücken sind individuell zu schliessen.\n",
    "\n",
    "Dieser Teil des Kurses ist wiederum gegliedert in verschiedene Teile, zu welchen jeweils ein Jupyter-Notebook existiert.\n",
    "\n",
    "1. <a href=\"1_EINFUEHRUNG_RGB_MATRIX.ipynb\" target=\"_blank\">Einführung RGB-Matrix</a>\n",
    "2. <a href=\"2_ANSTEUERUNG_RGB_MATRIX.ipynb\" target=\"_blank\">Ansteuerung</a>\n",
    "3. <a href=\"3_MATRIX.ipynb\" target=\"_blank\">Matrix als verschachtelte Liste</a>\n",
    "4. <a href=\"4_STATISCHE_MUSTER.ipynb\" target=\"_blank\">Statische Muster</a>\n",
    "5. <a href=\"5_DYNAMISCHE_MUSTER.ipynb\" target=\"_blank\">Dynamische Muster</a>\n",
    "6. <a href=\"6_PNG2RGB.ipynb\" target=\"_blank\">Muster anhand Bild (PNG)</a>\n",
    "7. <a href=\"7_TXT2RGB.ipynb\" target=\"_blank\">Muster anhand Text (TXT)</a>\n",
    "8. <a href=\"8_PYGAME2RGB.ipynb\" target=\"_blank\">Muster anhand GUI (pygame)</a>\n",
    "9. <a href=\"9_ZUSATZAUFGABEN.ipynb\" target=\"_blank\">Zusatzaufgaben</a>\n",
    "\n"
   ]
  },
  {
   "cell_type": "markdown",
   "metadata": {},
   "source": [
    "---\n",
    "<p style='text-align: right; font-size: 70%;'>Grundlagen Python (PYT_G01) / 2024</p>"
   ]
  }
 ],
 "metadata": {
  "kernelspec": {
   "display_name": "Python 3 (ipykernel)",
   "language": "python",
   "name": "python3"
  },
  "language_info": {
   "codemirror_mode": {
    "name": "ipython",
    "version": 3
   },
   "file_extension": ".py",
   "mimetype": "text/x-python",
   "name": "python",
   "nbconvert_exporter": "python",
   "pygments_lexer": "ipython3",
   "version": "3.10.11"
  }
 },
 "nbformat": 4,
 "nbformat_minor": 4
}
