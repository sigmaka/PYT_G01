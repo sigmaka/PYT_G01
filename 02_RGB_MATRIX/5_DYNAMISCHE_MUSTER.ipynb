{
 "cells": [
  {
   "cell_type": "markdown",
   "metadata": {},
   "source": [
    "# 5. Dynamische Muster\n",
    "\n",
    "<img src=\"IMG/logo.png\" /><br>\n",
    "[&larr; Übersicht](0_ABLAUF.ipynb)"
   ]
  },
  {
   "cell_type": "markdown",
   "metadata": {},
   "source": [
    "Bei den statischen Mustern konnten wir die Manipulation der `rgb_matrix`-Liste völlig entkoppelt von der Kommunikation mit der RGB-Matrix realisieren, da sich das Muster nie zeitlich änderte. Nun wollen wir dynamische Mustern erzeugen, d. h. Muster, die sich mit der Zeit ändern. Dabei müssen wir uns mit der Frage auseinandersetzen, zu welchen exakten Zeitpunkten wir nun jeweils auf die RGB-Matrix zugreifen, um die korrekte Bewegung des Musters zu garantieren.\n",
    "\n",
    "## 5.1 Zeitfunktionen\n",
    "\n",
    "Für Funktionen im Zusammenhang mit der Zeit, z. B. die aktuelle Zeit abfragen etc., ist das `time`-Modul nützlich. Eine für die dynamischen Muster nützliche Funktion aus diesem Modul ist `sleep()`, welche den Ablauf pausiert und damit für das zeitliche Takten des Programms verwendet werden kann."
   ]
  },
  {
   "cell_type": "code",
   "execution_count": 12,
   "metadata": {},
   "outputs": [
    {
     "name": "stdout",
     "output_type": "stream",
     "text": [
      "before\n",
      "after\n"
     ]
    }
   ],
   "source": [
    "import time\n",
    "\n",
    "print('before')\n",
    "time.sleep(2)  # Pausiert die Ausführung für 1 Sekunde\n",
    "print('after')"
   ]
  },
  {
   "cell_type": "markdown",
   "metadata": {},
   "source": [
    "## Aufgabe 5.1 - Rahmen mit Kreuz\n",
    "\n",
    "Ziel dieser Aufgabe ist das dynamisch visualisieren des statischen Musters aus Aufgabe 4.1. Erweitern Sie dafür ihren erstellten Code. <br>"
   ]
  },
  {
   "cell_type": "code",
   "execution_count": 3,
   "metadata": {
    "jupyter": {
     "source_hidden": true
    }
   },
   "outputs": [
    {
     "data": {
      "text/html": [
       "<div align=\"middle\">\n",
       "<video width=\"50%\" controls>\n",
       "      <source src=\"VIDEOS/Aufgabe_5_1_Rahmen_mit_Kreuz.mp4\" type=\"video/mp4\">\n",
       "</video></div>\n"
      ],
      "text/plain": [
       "<IPython.core.display.HTML object>"
      ]
     },
     "metadata": {},
     "output_type": "display_data"
    }
   ],
   "source": [
    "%%HTML\n",
    "<div align=\"middle\">\n",
    "<video width=\"50%\" controls>\n",
    "      <source src=\"VIDEOS/Aufgabe_5_1_Rahmen_mit_Kreuz.mp4\" type=\"video/mp4\">\n",
    "</video></div>"
   ]
  },
  {
   "cell_type": "markdown",
   "metadata": {},
   "source": [
    "## Aufgabe 5.2 - Erleuchtung über Diagonale"
   ]
  },
  {
   "cell_type": "code",
   "execution_count": 2,
   "metadata": {
    "jupyter": {
     "source_hidden": true
    }
   },
   "outputs": [
    {
     "data": {
      "text/html": [
       "<div align=\"middle\">\n",
       "<video width=\"50%\" controls>\n",
       "      <source src=\"VIDEOS/Aufgabe_5_2_Erleuchtung_uber_Diagonale.mp4\" type=\"video/mp4\">\n",
       "</video></div>\n"
      ],
      "text/plain": [
       "<IPython.core.display.HTML object>"
      ]
     },
     "metadata": {},
     "output_type": "display_data"
    }
   ],
   "source": [
    "%%HTML\n",
    "<div align=\"middle\">\n",
    "<video width=\"50%\" controls>\n",
    "      <source src=\"VIDEOS/Aufgabe_5_2_Erleuchtung_uber_Diagonale.mp4\" type=\"video/mp4\">\n",
    "</video></div>"
   ]
  },
  {
   "cell_type": "markdown",
   "metadata": {},
   "source": [
    "## Aufgabe 5.3 - Nachleuchten"
   ]
  },
  {
   "cell_type": "code",
   "execution_count": 5,
   "metadata": {
    "jupyter": {
     "source_hidden": true
    }
   },
   "outputs": [
    {
     "data": {
      "text/html": [
       "<div align=\"middle\">\n",
       "<video width=\"50%\" controls>\n",
       "      <source src=\"VIDEOS/Aufgabe_5_3_Nachleuchten.mp4\" type=\"video/mp4\">\n",
       "</video></div>\n"
      ],
      "text/plain": [
       "<IPython.core.display.HTML object>"
      ]
     },
     "metadata": {},
     "output_type": "display_data"
    }
   ],
   "source": [
    "%%HTML\n",
    "<div align=\"middle\">\n",
    "<video width=\"50%\" controls>\n",
    "      <source src=\"VIDEOS/Aufgabe_5_3_Nachleuchten.mp4\" type=\"video/mp4\">\n",
    "</video></div>"
   ]
  },
  {
   "cell_type": "markdown",
   "metadata": {},
   "source": [
    "## Aufgabe 5.4 - Schlangenlinie"
   ]
  },
  {
   "cell_type": "code",
   "execution_count": 8,
   "metadata": {
    "jupyter": {
     "source_hidden": true
    }
   },
   "outputs": [
    {
     "data": {
      "text/html": [
       "<div align=\"middle\">\n",
       "<video width=\"50%\" controls>\n",
       "      <source src=\"VIDEOS/Aufgabe_5_4_Schlangenlinie.mp4\" type=\"video/mp4\">\n",
       "</video></div>\n"
      ],
      "text/plain": [
       "<IPython.core.display.HTML object>"
      ]
     },
     "metadata": {},
     "output_type": "display_data"
    }
   ],
   "source": [
    "%%HTML\n",
    "<div align=\"middle\">\n",
    "<video width=\"50%\" controls>\n",
    "      <source src=\"VIDEOS/Aufgabe_5_4_Schlangenlinie.mp4\" type=\"video/mp4\">\n",
    "</video></div>"
   ]
  },
  {
   "cell_type": "markdown",
   "metadata": {},
   "source": [
    "## Aufgabe 5.5 - Linie ohne Kollision\n",
    "\n",
    "Die Linie soll bei jedem erkannten Hindernis nach rechts (oder links) abbiegen. Hindernisse sind die physikalische Begrenzung der 8x8-Matrix oder bereits durchlaufene RGB's sein. <br>\n",
    "Parameter: Startpunkt, Start- und Kurvenrichtung frei wählbar. <br>"
   ]
  },
  {
   "cell_type": "code",
   "execution_count": 10,
   "metadata": {
    "jupyter": {
     "source_hidden": true
    }
   },
   "outputs": [
    {
     "data": {
      "text/html": [
       "<div align=\"middle\">\n",
       "<video width=\"50%\" controls>\n",
       "      <source src=\"VIDEOS/Aufgabe_5_5_Linie_ohne_Kollision.mp4\" type=\"video/mp4\">\n",
       "</video></div>\n"
      ],
      "text/plain": [
       "<IPython.core.display.HTML object>"
      ]
     },
     "metadata": {},
     "output_type": "display_data"
    }
   ],
   "source": [
    "%%HTML\n",
    "<div align=\"middle\">\n",
    "<video width=\"50%\" controls>\n",
    "      <source src=\"VIDEOS/Aufgabe_5_5_Linie_ohne_Kollision.mp4\" type=\"video/mp4\">\n",
    "</video></div>"
   ]
  },
  {
   "cell_type": "markdown",
   "metadata": {},
   "source": [
    "## Aufgabe 5.6 (optional) - Farbverlauf\n",
    "\n",
    "In diesem Beispiel geht es um den Übergang von einer Farbe zu einer anderen, also z.B. den Wechsel von Rot über Orange, Gelb, Grün, Blau zu Violett (Regenbogenfarben) oder andere Farbübergänge. Wenn man sich einige Gedanken dazu macht, stellt man fest, dass solche Übergänge nicht eindeutig sind und diese mit dem bisher verwendeten Farbraum (RGB) nicht so einfach umzusetzen sind. Betrachten Sie den RGB-Farbwürfel in nachfolgender Abbildung (links) und überlegen Sie sich, wie Sie den obigen Regenbogenfarben-Verlauf \"abfahren\" können.\n",
    "\n",
    "<center><img src=\"IMG/RGB_3D.png\" width=\"30%\"/>&nbsp;&nbsp;&nbsp;&nbsp;&nbsp;&nbsp;&nbsp;&nbsp;&nbsp;&nbsp;&nbsp;&nbsp;&nbsp;&nbsp;&nbsp;&nbsp;&nbsp;&nbsp;&nbsp;&nbsp;&nbsp;&nbsp;&nbsp;&nbsp;&nbsp;<img src=\"IMG/HSV.png\" width=\"30%\"/></center>\n",
    "\n",
    "Einen für solche Aufgaben besser geeigneten Farbraum ist der [HSV-Farbraum](https://de.wikipedia.org/wiki/HSV-Farbraum), in dem eine Farbe ebenfalls mit drei Komponenten repräsentiert wird, aber diese nun *Farbwert* (**H**ue), *Farbsättigung* (**S**aturation) und *Helligkeit* (**V**alue). Dieser Farbraum ist in obiger Abbildung (rechts) abgebildet und man erkennt, dass in diesem Farbraum ein Regenbogenfarben-Verlauf relativ einfach abzufahren ist, da man lediglich den Farbwert (H) variieren muss.\n",
    "\n",
    "Sowohl der RGB-Farbraum als auch der HSV-Farbraum können als Koordinatensysteme angesehen werden und dieses Beispiel zeigt sehr schön, wie in der Technik eine Aufgabenstellung häufig in einem bestimmten Koordinatensystem \"einfacher\" gelöst werden kann als in einem anderen. Man nennt einen solchen Koordinatensystem-Wechsel auch Koordinatentransformation.\n",
    "\n",
    "Damit wir die Transformationen vom RGB- in den HSV-Farbraum und umgekehrt nicht selber implementieren zu müssen, verwenden wir das Python-Modul <a href=\"https://opencv-python-tutroals.readthedocs.io/en/latest/py_tutorials/py_gui/py_image_display/py_image_display.html\" target=\"_blank\">OpenCV</a>, welches ein sehr mächtiges Werkzeug im Bereich der Bilderkennung etc. ist. Im nachfolgenden Code-Ausschnitt werden drei RGB-Farben mit der OpenCV-Funktion `cvtColor()` in den HSV-Farbraum transformiert. Mit dem Argument `cv.COLOR_RGB2HSV` wird vom RGB- in den HSV-Farbraum transformiert (mit `cv.COLOR_HSV2RGB` wäre die Rücktranformation möglich)."
   ]
  },
  {
   "cell_type": "code",
   "execution_count": 22,
   "metadata": {},
   "outputs": [
    {
     "data": {
      "text/plain": [
       "array([[[  0, 255, 255],\n",
       "        [ 60, 255, 255],\n",
       "        [120, 255, 255]]], dtype=uint8)"
      ]
     },
     "execution_count": 22,
     "metadata": {},
     "output_type": "execute_result"
    }
   ],
   "source": [
    "import numpy as np\n",
    "import cv2 as cv\n",
    "\n",
    "color_RGB = np.uint8([[[255, 0, 0], [0, 255, 0], [0, 0, 255]]]) # Rot, Grün, Blau im RGB-Farbraum\n",
    "color_HSV = cv.cvtColor(color_RGB, cv.COLOR_RGB2HSV)  # Transformation in HSV-Farbraum\n",
    "color_HSV  # Rot, Grün, Blau in HSV-Farbraum"
   ]
  },
  {
   "cell_type": "markdown",
   "metadata": {},
   "source": [
    "Da *OpenCV* mit *NumPy*-Arrays arbeitet, mussten wir oben auch das Paket *NumPy* importieren und die Farben als Arrays definieren (anstelle von einfachen Listen). Für den Moment können wir Arrays und Listen als gleichwertig anschauen. Später werden wir uns noch genauer mit *NumPy* beschäftigen und sehen, dass Arrays für numerische Berechnungen deutlich besser geeignet sind als Listen.\n",
    "\n",
    "Eine konkrete Aufgabe (vgl. Video unten) besteht darin, einen Farbverlauf von Weiss zu Rot (und zurück) zu implementieren. Betrachten Sie nochmals den HSV-Farbraum in der Abbildung weiter oben und überlegen Sie sich, wie Sie dies umsetzen können.\n",
    "\n",
    "Falls Ihnen die Transformation in den HSV-Farbraum bzw. Rücktransformation zu kompliziert scheint, lösen Sie die Aufgabe im RGB-Farbraum."
   ]
  },
  {
   "cell_type": "code",
   "execution_count": 2,
   "metadata": {
    "jupyter": {
     "source_hidden": true
    }
   },
   "outputs": [
    {
     "data": {
      "text/html": [
       "<div align=\"middle\">\n",
       "<video width=\"50%\" controls>\n",
       "      <source src=\"VIDEOS/Aufgabe_5_6_Farbverlauf.mp4\" type=\"video/mp4\">\n",
       "</video></div>\n"
      ],
      "text/plain": [
       "<IPython.core.display.HTML object>"
      ]
     },
     "metadata": {},
     "output_type": "display_data"
    }
   ],
   "source": [
    "%%HTML\n",
    "<div align=\"middle\">\n",
    "<video width=\"50%\" controls>\n",
    "      <source src=\"VIDEOS/Aufgabe_5_6_Farbverlauf.mp4\" type=\"video/mp4\">\n",
    "</video></div>"
   ]
  },
  {
   "cell_type": "markdown",
   "metadata": {},
   "source": [
    "---\n",
    "<p style='text-align: right; font-size: 70%;'>Grundlagen Python (PYT_G01) / 2024</p>"
   ]
  }
 ],
 "metadata": {
  "kernelspec": {
   "display_name": "Python 3 (ipykernel)",
   "language": "python",
   "name": "python3"
  },
  "language_info": {
   "codemirror_mode": {
    "name": "ipython",
    "version": 3
   },
   "file_extension": ".py",
   "mimetype": "text/x-python",
   "name": "python",
   "nbconvert_exporter": "python",
   "pygments_lexer": "ipython3",
   "version": "3.10.11"
  }
 },
 "nbformat": 4,
 "nbformat_minor": 4
}
