{
 "cells": [
  {
   "cell_type": "markdown",
   "metadata": {},
   "source": [
    "<img src=\"IMG/PYT_G01_logo.svg\" width=\"100%\"/>\n",
    "<a href=\"0_ABLAUF.ipynb\" target=\"_blank\">&larr; Ablauf</a>"
   ]
  },
  {
   "cell_type": "markdown",
   "metadata": {},
   "source": [
    "# 5. Dynamische Muster\n",
    "\n",
    "Ziel dieser Aufgabensammlung ist das Erzeugen von dynamischen Mustern auf der RGB-Matrix. Dadurch wird der Umgang mit Listen und Kontrollstrukturen intensiv geübt. Weiter müssen Sie sich mit der Frage auseinandersetzen, wann auf die Schnittstelle der RGB-Matrix geschrieben werden soll."
   ]
  },
  {
   "cell_type": "markdown",
   "metadata": {},
   "source": [
    "## Aufgabe 5.1 - Rahmen mit Kreuz\n",
    "\n",
    "Ziel dieser Aufgabe ist das dynamisch visualisieren des statischen Musters aus Aufgabe 4.1. Erweitern Sie dafür ihren erstellten Code. <br>"
   ]
  },
  {
   "cell_type": "code",
   "execution_count": 3,
   "metadata": {
    "jupyter": {
     "source_hidden": true
    }
   },
   "outputs": [
    {
     "data": {
      "text/html": [
       "<div align=\"middle\">\n",
       "<video width=\"50%\" controls>\n",
       "      <source src=\"VIDEOS/Aufgabe_5_1_Rahmen_mit_Kreuz.mp4\" type=\"video/mp4\">\n",
       "</video></div>\n"
      ],
      "text/plain": [
       "<IPython.core.display.HTML object>"
      ]
     },
     "metadata": {},
     "output_type": "display_data"
    }
   ],
   "source": [
    "%%HTML\n",
    "<div align=\"middle\">\n",
    "<video width=\"50%\" controls>\n",
    "      <source src=\"VIDEOS/Aufgabe_5_1_Rahmen_mit_Kreuz.mp4\" type=\"video/mp4\">\n",
    "</video></div>"
   ]
  },
  {
   "cell_type": "markdown",
   "metadata": {},
   "source": [
    "## Aufgabe 5.2 - Erleuchtung über Diagonale"
   ]
  },
  {
   "cell_type": "code",
   "execution_count": 2,
   "metadata": {
    "jupyter": {
     "source_hidden": true
    }
   },
   "outputs": [
    {
     "data": {
      "text/html": [
       "<div align=\"middle\">\n",
       "<video width=\"50%\" controls>\n",
       "      <source src=\"VIDEOS/Aufgabe_5_2_Erleuchtung_uber_Diagonale.mp4\" type=\"video/mp4\">\n",
       "</video></div>\n"
      ],
      "text/plain": [
       "<IPython.core.display.HTML object>"
      ]
     },
     "metadata": {},
     "output_type": "display_data"
    }
   ],
   "source": [
    "%%HTML\n",
    "<div align=\"middle\">\n",
    "<video width=\"50%\" controls>\n",
    "      <source src=\"VIDEOS/Aufgabe_5_2_Erleuchtung_uber_Diagonale.mp4\" type=\"video/mp4\">\n",
    "</video></div>"
   ]
  },
  {
   "cell_type": "markdown",
   "metadata": {},
   "source": [
    "## Aufgabe 5.3 - Nachleuchten"
   ]
  },
  {
   "cell_type": "code",
   "execution_count": 5,
   "metadata": {
    "jupyter": {
     "source_hidden": true
    }
   },
   "outputs": [
    {
     "data": {
      "text/html": [
       "<div align=\"middle\">\n",
       "<video width=\"50%\" controls>\n",
       "      <source src=\"VIDEOS/Aufgabe_5_3_Nachleuchten.mp4\" type=\"video/mp4\">\n",
       "</video></div>\n"
      ],
      "text/plain": [
       "<IPython.core.display.HTML object>"
      ]
     },
     "metadata": {},
     "output_type": "display_data"
    }
   ],
   "source": [
    "%%HTML\n",
    "<div align=\"middle\">\n",
    "<video width=\"50%\" controls>\n",
    "      <source src=\"VIDEOS/Aufgabe_5_3_Nachleuchten.mp4\" type=\"video/mp4\">\n",
    "</video></div>"
   ]
  },
  {
   "cell_type": "markdown",
   "metadata": {},
   "source": [
    "## Aufgabe 5.4 - Schlangenlinie"
   ]
  },
  {
   "cell_type": "code",
   "execution_count": 8,
   "metadata": {
    "jupyter": {
     "source_hidden": true
    }
   },
   "outputs": [
    {
     "data": {
      "text/html": [
       "<div align=\"middle\">\n",
       "<video width=\"50%\" controls>\n",
       "      <source src=\"VIDEOS/Aufgabe_5_4_Schlangenlinie.mp4\" type=\"video/mp4\">\n",
       "</video></div>\n"
      ],
      "text/plain": [
       "<IPython.core.display.HTML object>"
      ]
     },
     "metadata": {},
     "output_type": "display_data"
    }
   ],
   "source": [
    "%%HTML\n",
    "<div align=\"middle\">\n",
    "<video width=\"50%\" controls>\n",
    "      <source src=\"VIDEOS/Aufgabe_5_4_Schlangenlinie.mp4\" type=\"video/mp4\">\n",
    "</video></div>"
   ]
  },
  {
   "cell_type": "markdown",
   "metadata": {},
   "source": [
    "## Aufgabe 5.5 - Linie ohne Kollision\n",
    "\n",
    "Die Linie soll bei jedem erkannten Hindernis nach rechts (oder links) abbiegen. Hindernisse sind die physikalische Begrenzung der 8x8-Matrix oder bereits durchlaufene RGB's sein. <br>\n",
    "Parameter: Startpunkt, Start- und Kurvenrichtung frei wählbar. <br>\n",
    "Im Video: Startpunkt [5,2] mit Startrichtung nach oben. <br>"
   ]
  },
  {
   "cell_type": "code",
   "execution_count": 10,
   "metadata": {
    "jupyter": {
     "source_hidden": true
    }
   },
   "outputs": [
    {
     "data": {
      "text/html": [
       "<div align=\"middle\">\n",
       "<video width=\"50%\" controls>\n",
       "      <source src=\"VIDEOS/Aufgabe_5_5_Linie_ohne_Kollision.mp4\" type=\"video/mp4\">\n",
       "</video></div>\n"
      ],
      "text/plain": [
       "<IPython.core.display.HTML object>"
      ]
     },
     "metadata": {},
     "output_type": "display_data"
    }
   ],
   "source": [
    "%%HTML\n",
    "<div align=\"middle\">\n",
    "<video width=\"50%\" controls>\n",
    "      <source src=\"VIDEOS/Aufgabe_5_5_Linie_ohne_Kollision.mp4\" type=\"video/mp4\">\n",
    "</video></div>"
   ]
  },
  {
   "cell_type": "markdown",
   "metadata": {
    "jupyter": {
     "source_hidden": true
    }
   },
   "source": [
    "## Aufgabe 5.6 (optional) - Farbverlauf\n",
    "\n",
    "Diese Aufgabe widmet sich nun den Farbverläufen. Bis jetzt standen die Muster und nicht so sehr die Farbgebung der LEDs im Fokus. Ziel soll es sein einen weichen Farbübergang von z.B. Hell-Rot nach Dunkel-Rot und wieder zurück zu implementieren. Sie werden feststellen, dass dies mit dem implementierten Farbraum RGB nicht so einfach umzusetzen ist. Diese Aufgabe ist auch als Einstieg in die Thematik der Transformationen gedacht. Sie wurden und werden im Verlauf des Studiums immerwieder mit diesem Thema konfrontiert. Ein erstes Beispiel innerhalb des Faches Elektrotechnik und Elektronik mit der Anwendung von Komplexen Zahlen sollte bekannt sein. <br>\n",
    "Ganz allgemein und stark abstrahiert beschreibt eine Transformation die Regeln, wie von einem Raum in einen anderen Raum gereist werden kann. Mit Raum können z.B. unterschiedliche Koordinatensysteme gemeint sein. <br>\n",
    "<br>\n",
    "Das folgende kleine Beispiel soll den Sachverhalt anschaulich illustrieren. <br>\n",
    "Stellen Sie sich vor, Sie müssten im dargestellten Koordinatensystem (Polar) eine parallele Linie mit Abstand 3 zur Abszisse definieren.\n",
    "\n",
    "<img src=\"IMG/350px-Polarkoordinaten_und_Polarform.png\" width=\"30%\"/>\n",
    "\n",
    "Das gegebene Koordinatensystem liefert zur Orientierung nur Vektorlänge und Winkel. Diese beiden Parameter sind für die geforderte Aufgabe denkbar ungeeignet. Man kann sich nun überlegen, die geforderte Aufgabe in einem anderen Bezugssystem, welches viel einfachere Berechnungen abverlangt, zu lösen und danach das Ergebnis ins geforderte Ausgangssystem zu transformieren. Das würde bedeuten man erstellt die Berechnungen im kartesischen Koordinatensystem, da dort die geforderte Berechnung trivial, nämlich y = 3, beträgt. Danach muss nur noch das Ergebnis mit den bekannten Umformungen (Transformation) kartesisch in Polar-Koordinaten transformiert werden. <br>\n",
    "\n",
    "Sehr ähnlich verhält es sich nun auch bei diesem Beispiel mit den Farbverläufen auf der RGB-Matrix. Der Farbraum RGB ist dafür sehr ungeeignet. Suchen Sie dafür einen besser geeigneten Farbraum und wenden Sie diesen korrekt an. Eine Präsentation zu diesem spannenden Thema finden Sie <a href=\"ZUSATZ/04_farben.pdf\" target=\"_blank\">hier</a>. Weiter existiert ein Python-Modul (<a href=\"https://opencv-python-tutroals.readthedocs.io/en/latest/py_tutorials/py_gui/py_image_display/py_image_display.html\" target=\"_blank\">OpenCV</a>) zum Thema Bilderkennung, in welchem die geforderten Transformationen bereits umgesetzt sind."
   ]
  },
  {
   "cell_type": "code",
   "execution_count": 11,
   "metadata": {
    "jupyter": {
     "source_hidden": true
    }
   },
   "outputs": [
    {
     "data": {
      "text/html": [
       "<div align=\"middle\">\n",
       "<video width=\"50%\" controls>\n",
       "      <source src=\"VIDEOS/Aufgabe_5_6_Farbverlauf.mp4\" type=\"video/mp4\">\n",
       "</video></div>\n"
      ],
      "text/plain": [
       "<IPython.core.display.HTML object>"
      ]
     },
     "metadata": {},
     "output_type": "display_data"
    }
   ],
   "source": [
    "%%HTML\n",
    "<div align=\"middle\">\n",
    "<video width=\"50%\" controls>\n",
    "      <source src=\"VIDEOS/Aufgabe_5_6_Farbverlauf.mp4\" type=\"video/mp4\">\n",
    "</video></div>"
   ]
  },
  {
   "cell_type": "markdown",
   "metadata": {},
   "source": [
    "---\n",
    "<p style='text-align: right; font-size: 70%;'>Grundlagen Python (PYT_G01) / 2024</p>"
   ]
  }
 ],
 "metadata": {
  "kernelspec": {
   "display_name": "Python 3 (ipykernel)",
   "language": "python",
   "name": "python3"
  },
  "language_info": {
   "codemirror_mode": {
    "name": "ipython",
    "version": 3
   },
   "file_extension": ".py",
   "mimetype": "text/x-python",
   "name": "python",
   "nbconvert_exporter": "python",
   "pygments_lexer": "ipython3",
   "version": "3.10.11"
  }
 },
 "nbformat": 4,
 "nbformat_minor": 4
}
