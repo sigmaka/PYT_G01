{
 "cells": [
  {
   "cell_type": "markdown",
   "metadata": {},
   "source": [
    "<img src=\"IMG/PYT_G01_logo.svg\" width=\"100%\"/>\n",
    "<a href=\"0_ABLAUF.ipynb\" target=\"_blank\">&larr; Ablauf</a>"
   ]
  },
  {
   "cell_type": "markdown",
   "metadata": {},
   "source": [
    "# 4. Statische Muster\n",
    "\n",
    "Nachdem wir die Ansteuerung der RGB-Matrix verstanden haben, beginnen wir mit den ersten Übungen. Es handelt sich dabei um statische (unbewegliche) Muster. Ab jetzt arbeiten wir vorzugsweise in *PyCharm*, da wir dort vielfältige Debugging-Möglichkeiten haben und unsere Programme laufend etwas grösser werden.\n",
    "\n",
    "Wir haben im Einführungsbeispiel gesehen, dass das Erstellen eines bestimmten Musters für die RGB-Matrix im Wesentlichen auf das korrekte Setzen der Elemente in der `rgb_matrix`-Liste hinausläuft."
   ]
  },
  {
   "cell_type": "markdown",
   "metadata": {},
   "source": [
    "## Aufgabe 4.1 - Kreuz mit Rahmen\n",
    "\n",
    "Erstellen Sie ein Programm, welches das folgende Muster auf der RGB-Matrix visualisiert.\n",
    "\n",
    "<img src=\"IMG/AUFGABE_4_1_STATISCHE_MUSTER.png\" width=\"30%\"/>\n",
    "\n",
    "Überlegen Sie sich weitere Muster, welche auf der RGB-Matrix umgesetzt werden können. Mögliche Ideen:\n",
    "\n",
    "- Aufgabe 4.2 - Schachbrettmuster\n",
    "- Aufgabe 4.3 - alle Zeilen mit gerade (oder ungeraden) Zeilenindices (alternativ für Spalten)\n",
    "- ..."
   ]
  },
  {
   "cell_type": "markdown",
   "metadata": {},
   "source": [
    "---\n",
    "<p style='text-align: right; font-size: 70%;'>Grundlagen Python (PYT_G01) / 2024</p>"
   ]
  }
 ],
 "metadata": {
  "kernelspec": {
   "display_name": "Python 3 (ipykernel)",
   "language": "python",
   "name": "python3"
  },
  "language_info": {
   "codemirror_mode": {
    "name": "ipython",
    "version": 3
   },
   "file_extension": ".py",
   "mimetype": "text/x-python",
   "name": "python",
   "nbconvert_exporter": "python",
   "pygments_lexer": "ipython3",
   "version": "3.10.11"
  }
 },
 "nbformat": 4,
 "nbformat_minor": 4
}
