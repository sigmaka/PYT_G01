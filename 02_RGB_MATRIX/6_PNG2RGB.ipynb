{
 "cells": [
  {
   "cell_type": "markdown",
   "metadata": {},
   "source": [
    "<img src=\"IMG/PYT_G01_logo.svg\" width=\"100%\"/>\n",
    "<a href=\"0_ABLAUF.ipynb\" target=\"_blank\">&larr; Ablauf</a>"
   ]
  },
  {
   "cell_type": "markdown",
   "metadata": {},
   "source": [
    "# 6. RGB-Matrix anhand eines Bildes einfärben\n",
    "\n",
    "Die nachfolgenden Aufgaben benötigen das bereits installierte Modul <a href=\"https://opencv.org/\" target=\"_blank\">*OpenCV*</a>. Dieses Modul wurde bereits für die Aufgabe mit den Farbverläufen im Zusammenhang mit den unterschiedlichen Farbräumen verwendet. Die Idee besteht nun darin, ein 8x8 Pixel grosses PNG-Bild einzulesen und auf der RGB-Matrix anzuzeigen. Nachfolgend ist ein entsprechendes Beispielbild (stark vergrössert) dargestellt und man erkennt die einzelnen Pixel.\n",
    "\n",
    "<center><img src=\"IMG/bsp.svg\" width=\"30%\"/></center>\n",
    "\n",
    "Anhand der folgenden Codesquenz ist ersichtlich, wie ein PNG-Bild eingelesen werden kann und die Farbinformationen der Pixel entnommen werden kann. Beachtet werden muss, dass die Funktion `imread()` die Farbwerte in [B,G,R]-Reihenfolge (also nicht [R,G,B]) zurückgibt."
   ]
  },
  {
   "cell_type": "code",
   "execution_count": 1,
   "metadata": {},
   "outputs": [
    {
     "name": "stdout",
     "output_type": "stream",
     "text": [
      "[[255   0   0]\n",
      " [  0 255   0]\n",
      " [  0 255   0]\n",
      " [  0 255   0]\n",
      " [  0 255   0]\n",
      " [  0 255   0]\n",
      " [  0 255   0]\n",
      " [255   0   0]]\n",
      "\n",
      "[[  0   0 255]\n",
      " [255   0   0]\n",
      " [  0 255   0]\n",
      " [  0 255   0]\n",
      " [  0 255   0]\n",
      " [  0 255   0]\n",
      " [255   0   0]\n",
      " [  0   0 255]]\n",
      "\n",
      "[[  0   0 255]\n",
      " [  0   0 255]\n",
      " [255   0   0]\n",
      " [  0 255   0]\n",
      " [  0 255   0]\n",
      " [255   0   0]\n",
      " [  0   0 255]\n",
      " [  0   0 255]]\n",
      "\n",
      "[[  0   0 255]\n",
      " [  0   0 255]\n",
      " [  0   0 255]\n",
      " [255   0   0]\n",
      " [255   0   0]\n",
      " [  0   0 255]\n",
      " [  0   0 255]\n",
      " [  0   0 255]]\n",
      "\n",
      "[[  0   0 255]\n",
      " [  0   0 255]\n",
      " [  0   0 255]\n",
      " [255   0   0]\n",
      " [255   0   0]\n",
      " [  0   0 255]\n",
      " [  0   0 255]\n",
      " [  0   0 255]]\n",
      "\n",
      "[[  0   0 255]\n",
      " [  0   0 255]\n",
      " [255   0   0]\n",
      " [  0 255   0]\n",
      " [  0 255   0]\n",
      " [255   0   0]\n",
      " [  0   0 255]\n",
      " [  0   0 255]]\n",
      "\n",
      "[[  0   0 255]\n",
      " [255   0   0]\n",
      " [  0 255   0]\n",
      " [  0 255   0]\n",
      " [  0 255   0]\n",
      " [  0 255   0]\n",
      " [255   0   0]\n",
      " [  0   0 255]]\n",
      "\n",
      "[[255   0   0]\n",
      " [  0 255   0]\n",
      " [  0 255   0]\n",
      " [  0 255   0]\n",
      " [  0 255   0]\n",
      " [  0 255   0]\n",
      " [  0 255   0]\n",
      " [255   0   0]]\n",
      "\n"
     ]
    }
   ],
   "source": [
    "import cv2 as cv\n",
    "\n",
    "im_bgr = cv.imread('IMG/aufgabe_6_1.png')  # CV2 verwendet BGR-Farbraum\n",
    "height, width = im_bgr.shape[0:2]  # Bildgrösse auslesen (Höhe x Breite)\n",
    "\n",
    "im_rgb = cv.cvtColor(im_bgr, cv.COLOR_BGR2RGB)  # Umwandlung BGR -> RGB\n",
    "\n",
    "for i in range(height):\n",
    "    print(im_rgb[i][:]) \n",
    "    print()"
   ]
  },
  {
   "cell_type": "markdown",
   "metadata": {},
   "source": [
    "Nachfolgend finden Sie Aufgaben zum Thema. \n",
    "\n",
    "> Spielen Sie damit herum und erzeugen Sie eigene Icons/Bilder oder suchen Sie solche im Internet. Zum Erzeugen von Icons eignen sich Grafikprogramme oder explizite Icon-Editoren, z.B. <a href=\"http://greenfishsoftware.org/gfie.php\" target=\"_blank\">*Greenfish Icon Editor*</a>.\n",
    "\n",
    "## Aufgabe 6.1 - PNG &rarr; RGB\n",
    "\n",
    "Erstellen Sie ein Programm, welches ein PNG-Bild einliest und auf der RGB-Matrix darstellt. Verwenden Sie hierfür das Bild `aufgabe_6_1.png` im IMG-Ordner.\n",
    "\n",
    "<center><img src=\"IMG/Aufgabe_6_1_png2RGB.png\" width=\"50%\"/></center>"
   ]
  },
  {
   "cell_type": "markdown",
   "metadata": {},
   "source": [
    "## Aufgabe 6.2 - Ausschnitt aus grösserem Bild\n",
    "\n",
    "Erstellen Sie ein Programm, welches das nachfolgende PNG einliest. Das Bild besteht aus 8 x 32 Pixeln (also 8 Pixel breit und 32 Pixel hoch) und Ziel ist die statische Darstellung eines bestimmten Ausschnittes daraus. Verwenden Sie hierfür das Bild `aufgabe_6_2.png` im IMG-Ordner.\n",
    "\n",
    "<center><img src=\"IMG/Aufgabe_6_2_png2RGB.png\" width=\"50%\"/></center>"
   ]
  },
  {
   "cell_type": "markdown",
   "metadata": {},
   "source": [
    "## Aufgabe 6.3 - Laufbild\n",
    "\n",
    "Angelehnt an Aufgabe 6.2 soll nun ein automatisiertes, dynamisches Durchlaufen des Bildes (Zeile für Zeile) das Ziel sein. Verwenden Sie hierfür wiederum das Bild `aufgabe_6_2.png` im IMG-Ordner."
   ]
  },
  {
   "cell_type": "code",
   "execution_count": 5,
   "metadata": {
    "jupyter": {
     "source_hidden": true
    }
   },
   "outputs": [
    {
     "data": {
      "text/html": [
       "<div align=\"middle\">\n",
       "<video width=\"50%\" controls>\n",
       "      <source src=\"VIDEOS/Aufgabe_6_3_png2RGB.mp4\" type=\"video/mp4\">\n",
       "</video></div>\n"
      ],
      "text/plain": [
       "<IPython.core.display.HTML object>"
      ]
     },
     "metadata": {},
     "output_type": "display_data"
    }
   ],
   "source": [
    "%%HTML\n",
    "<div align=\"middle\">\n",
    "<video width=\"50%\" controls>\n",
    "      <source src=\"VIDEOS/Aufgabe_6_3_png2RGB.mp4\" type=\"video/mp4\">\n",
    "</video></div>"
   ]
  },
  {
   "cell_type": "markdown",
   "metadata": {},
   "source": [
    "---\n",
    "<p style='text-align: right; font-size: 70%;'>Grundlagen Python (PYT_G01) / 2024</p>"
   ]
  }
 ],
 "metadata": {
  "kernelspec": {
   "display_name": "Python 3 (ipykernel)",
   "language": "python",
   "name": "python3"
  },
  "language_info": {
   "codemirror_mode": {
    "name": "ipython",
    "version": 3
   },
   "file_extension": ".py",
   "mimetype": "text/x-python",
   "name": "python",
   "nbconvert_exporter": "python",
   "pygments_lexer": "ipython3",
   "version": "3.10.11"
  }
 },
 "nbformat": 4,
 "nbformat_minor": 4
}
