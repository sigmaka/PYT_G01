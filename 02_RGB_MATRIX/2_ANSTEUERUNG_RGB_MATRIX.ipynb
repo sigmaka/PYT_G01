{
 "cells": [
  {
   "cell_type": "markdown",
   "metadata": {},
   "source": [
    "<img src=\"IMG/PYT_G01_logo.svg\" width=\"100%\"/>\n",
    "<a href=\"0_ABLAUF.ipynb\" target=\"_blank\">&larr; Ablauf</a>"
   ]
  },
  {
   "cell_type": "markdown",
   "metadata": {},
   "source": [
    "# 2. Ansteuerung FPGA\n",
    "\n",
    "In diesem Kapitel soll gezeigt werden wie die Ansteuerung der RGB-Matrix detailliert funktioniert. Dieses Kapitel ist optional und ist nicht Teil des Stoffumfangs für die Modulschlussprüfung.\n",
    "\n",
    "### 2.1 Systemstruktur\n",
    "<center>\n",
    "    <img src=\"img/Systemstruktur_UART.png\" width=\"50%\"/>\n",
    "</center>\n",
    "\n",
    "### 2.2 USB-UART Schnittstellenbeschreibung\n",
    "In einem Kommunikationstelegramm werden jeweils 8 RGB-Dioden zusammengefasst. Dies ergibt einen Dateninhalt von 24 Bytes (8 LEDs * 3 Farbwerte, jeweils 1 Byte pro Farbkanal: 0..255). Die Bytereihenfolge entspricht dem <a href=\"zusatz/RGB_WS2812B.pdf\" target=\"_blank\">Datenblatt</a> GRUEN, ROT, BLAU. In der nachfolgenden Grafik ist dies in hexadezimaler Codierung visualiert.\n",
    "<center>\n",
    "    <img src=\"img/Kommunikation_UART.gif\" width=\"50%\"/>\n",
    "</center>\n",
    "<br>\n",
    "Legende: <br>\n",
    "Byte 1: Zeilennummer <br>\n",
    "Byte 2-25: Farbwerte der 8 RGB-Dioden in der Reihenfolge GRUEN, ROT, BLAU<br>\n",
    "\n",
    "<br>\n",
    "Die RGB-Matrix mit den drei Dimensionen wird in folgender Grafik dargestellt:<br>\n",
    "\n",
    "<center>\n",
    "    <img src=\"img/RGB_Matrix_4.png\" width=\"30%\"/><br>\n",
    "</center>\n",
    "\n",
    "Die Y-Achse entspricht den Zeilen, die X-Achse den Spalten und in der dritten Dimension werden die RGB-Farbwerte hinterlegt. Somit lässt sich die RGB-Diode in der vierten Zeile, fünfter Spalte folgendermassen beschreiben:\n",
    "```python\n",
    "rgb_matrix[3][4] = [0, 10, 0]\n",
    "```\n",
    "Zu beachten ist die Index-Reduzierung um 1. Der erste Eintrag einer Pythonliste wird mit dem Index 0 angesprochen.\n",
    "\n",
    "### 2.3 Bytestream\n",
    "Bei der Umwandlung der dreidimensionalen Matrixdarstellung in den Bytestream, welcher via USB-Verbindung in das FPGA übertragen wird, ist die mechanische Anordnung der Dioden zu beachten. <br> \n",
    "Um den PCB effizient layouten zu können, erfolgt die Anordung in einer Schlangenlinie (Snake Line). <br>\n",
    "<center>\n",
    "    <img src=\"img/RGB_Matrix_2.png\" width=\"30%\"/><br> \n",
    "</center>\n",
    "\n",
    "Dies erfordert bei ungeradzahligen Zeilen eine Umkehr der Indexreihenfolge.<br> \n",
    "<center>\n",
    "    <img src=\"img/RGB_Matrix_3.png\" width=\"30%\"/><br>\n",
    "</center>\n",
    "\n",
    "Die Umwandlung der Matrix- in die Bytestream-Darstellung wird vor jedem Schreibbefehl an die RGB-Matrix durch die Klasse RGBBasis (siehe rgb_matrix_to_rgb_bytestream) sichergestellt."
   ]
  },
  {
   "cell_type": "markdown",
   "metadata": {},
   "source": [
    "---\n",
    "<p style='text-align: right; font-size: 70%;'>Grundlagen Python (PYT_G01) / 2024</p>"
   ]
  }
 ],
 "metadata": {
  "kernelspec": {
   "display_name": "Python 3 (ipykernel)",
   "language": "python",
   "name": "python3"
  },
  "language_info": {
   "codemirror_mode": {
    "name": "ipython",
    "version": 3
   },
   "file_extension": ".py",
   "mimetype": "text/x-python",
   "name": "python",
   "nbconvert_exporter": "python",
   "pygments_lexer": "ipython3",
   "version": "3.10.11"
  }
 },
 "nbformat": 4,
 "nbformat_minor": 4
}
