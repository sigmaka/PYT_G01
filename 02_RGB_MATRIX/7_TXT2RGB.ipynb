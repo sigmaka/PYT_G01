{
 "cells": [
  {
   "cell_type": "markdown",
   "metadata": {},
   "source": [
    "<img src=\"IMG/PYT_G01_logo.svg\" width=\"100%\"/>\n",
    "<a href=\"0_ABLAUF.ipynb\" target=\"_blank\">&larr; Ablauf</a>"
   ]
  },
  {
   "cell_type": "markdown",
   "metadata": {},
   "source": [
    "# 7 RGB-Matrix anhand eines TXT-Files einfärben\n",
    "\n",
    "In diesem Kapitel geht es darum, die RGB-Matrix anhand von Informationen aus einer Textdatei zu steuern. Da der Inhalt einer Textdatei als String oder Liste von Strings eingelesen wird, steht damit das Analysieren von Strings im Zentrum. Python bietet hierfür sehr mächtige Werkzeuge, da Daten häufig in Textdateien (z. B. Config-Files, Daten-Files etc.) abgelegt werden, welche früher oder später in irgendeiner Form (mit sogenannten *Parsern*) gelesen und interpretiert werden müssen. \n",
    "\n",
    "Als Basis für unsere Aufgabe dient uns hier eine beispielhafte Textdatei mit verschiedenen Informationen:\n",
    "\n",
    "<center><img src=\"IMG/Textdatei_Vorgabe.png\" width=\"60%\"/></center>\n",
    "\n",
    "Die Datei besteht aus verschiedenen Segmenten und Informationen. Dabei kommen folgende Elemente vor:\n",
    "\n",
    "- Kommentarzeilen `#`\n",
    "- Abschnitte (Segmente) mit fixen Bezeichnungen`{}`\n",
    "- Daten `[]` oder `<>`\n",
    "\n",
    "Im Abschnitt `{DEFAULT}` wird die Standardfarbe definiert, welche für alle LEDs gilt, die nicht explizit im Abschnitt `{MATRIX}` definiert werden. Im Abschnitt `{MATRIX}` werden einzelne LEDs durch die Zeilen- bzw. Spaltenindices definiert und ihnen eine Farbe zugewiesen. Für die Farbdefinition können verschiedene Formate verwendet werden, entweder in `[]`- oder `<>`-Klammern, wobei in den `[]`-Klammern, die RGB-Werte stehen, z. B. `[10, 0, 0]`, und in den `<>`-Klammern Schlüsselwort-Argumente, z. B. `<r=10, g=0, b=0>`, wobei die Reihenfolge beliebig ist bzw. einzelne Einträge fehlen können (dann werden diejenigen der Standardfarbe verwendet). Beide Definitionen sind gleichberechtigt und können sowohl in der Definition der Standardfarbe als auch für die Definition von einzelnen LEDs verwendet werden."
   ]
  },
  {
   "cell_type": "markdown",
   "metadata": {},
   "source": [
    "## Aufgabe 7.1 - TXT &rarr; RGB\n",
    "\n",
    "Schreiben Sie einen Parser der die vorgebenene Textdatei (`DATA/rgb_data.txt`) einliest und korrekt interpretiert (vgl. Video unten). Überlegen Sie sich vorgängig, wie idealerweise vorgegangen wird. Gibt es wiederholende Aspekte, welche sich als Funktion wiederverwenden lassen? Testen Sie die Lösung betreffend Robustheit, indem Sie das Textfile abändern."
   ]
  },
  {
   "cell_type": "code",
   "execution_count": 1,
   "metadata": {
    "jupyter": {
     "source_hidden": true
    }
   },
   "outputs": [
    {
     "data": {
      "text/html": [
       "<div align=\"middle\">\n",
       "<video width=\"50%\" controls>\n",
       "      <source src=\"VIDEOS/Aufgabe_7_1_TXT2RGB.mp4\" type=\"video/mp4\">\n",
       "</video></div>\n"
      ],
      "text/plain": [
       "<IPython.core.display.HTML object>"
      ]
     },
     "metadata": {},
     "output_type": "display_data"
    }
   ],
   "source": [
    "%%HTML\n",
    "<div align=\"middle\">\n",
    "<video width=\"50%\" controls>\n",
    "      <source src=\"VIDEOS/Aufgabe_7_1_TXT2RGB.mp4\" type=\"video/mp4\">\n",
    "</video></div>"
   ]
  },
  {
   "cell_type": "markdown",
   "metadata": {},
   "source": [
    "---\n",
    "<p style='text-align: right; font-size: 70%;'>Grundlagen Python (PYT_G01) / 2024</p>"
   ]
  }
 ],
 "metadata": {
  "kernelspec": {
   "display_name": "Python 3 (ipykernel)",
   "language": "python",
   "name": "python3"
  },
  "language_info": {
   "codemirror_mode": {
    "name": "ipython",
    "version": 3
   },
   "file_extension": ".py",
   "mimetype": "text/x-python",
   "name": "python",
   "nbconvert_exporter": "python",
   "pygments_lexer": "ipython3",
   "version": "3.10.11"
  }
 },
 "nbformat": 4,
 "nbformat_minor": 4
}
