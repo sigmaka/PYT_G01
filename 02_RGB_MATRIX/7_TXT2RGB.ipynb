{
 "cells": [
  {
   "cell_type": "markdown",
   "metadata": {},
   "source": [
    "<img src=\"IMG/PYT_G01_logo.svg\" width=\"100%\"/>\n",
    "<a href=\"0_ABLAUF.ipynb\" target=\"_blank\">&larr; Ablauf</a>"
   ]
  },
  {
   "cell_type": "markdown",
   "metadata": {},
   "source": [
    "# 7 RGB-Matrix anhand eines TXT-Files einfärben\n",
    "\n",
    "In diesem Kapitel steht die Verwendung von Zeichenketten (Strings) im Zentrum. Python bietet hierfür sehr mächtige Werkzeuge, damit man mit Programmen automatisch Textdateien bearbeiten kann. \n",
    "Häufig werden Daten in Textdateien (z.B. Config) abgelegt, welche anschliessend mit sogenannten Parsern gelesen und interpretiert werden. Als Basis dient die vorgegebene Textdatei.\n",
    "\n",
    "<center><img src=\"IMG/Textdatei_Vorgabe.png\" width=\"60%\"/></center>\n",
    "\n",
    "Darin ersichtlich ist das Konzept solcher Dateien. Sie bestehen aus:\n",
    "- Kommentaren `#`\n",
    "- Schlüsselwörtern `{}`\n",
    "- Daten `[]` oder `<>`\n",
    "\n",
    "Zudem wird aus Gründen der Effizienz ein Standardtyp und Abweichungen davon definiert. In diesem Fall wird dem Standard eine Farbe zugewiesen und den einzelnen speziellen RGB eine eigene Farbe."
   ]
  },
  {
   "cell_type": "markdown",
   "metadata": {},
   "source": [
    "## Aufgabe 7.1 - TXT &rarr; RGB\n",
    "\n",
    "Schreiben Sie einen Parser der die vorgebenene Textdatei (`DATA/rgb_data.txt`) einliest und korrekt interpretiert. <br>\n",
    "Die vorgegebene Textdatei ist dreiteilig aufgebaut:\n",
    "1. Header mit Informationen zum Inhalt der Datei, Autor, Zeitstempel\n",
    "2. Definition des Standardwertes\n",
    "3. Auflistung abweichender Farbdefinitionen einzelner RGB's (Koordinaten: [Zeile][Spalte] und Farbdefinition)\n",
    "<br>\n",
    "\n",
    "Es fällt auf, dass zwei unterschiedliche Farbdefinitionen möglich sind. Entweder mittels [] oder mittels <>. Beide Definitionen sind gleichberechtigt und können sowohl in der Definition des Standardwertes oder in der Definition der Ausnahmefällen verwendet werden. Wie könnte eine sinnvolle Struktur aussehen? Gibt es wiederholende Aspekte, welche sich als Funktion wiederverwenden lassen? Testen Sie die Lösung betreffend Robustheit."
   ]
  },
  {
   "cell_type": "code",
   "execution_count": 1,
   "metadata": {
    "jupyter": {
     "source_hidden": true
    }
   },
   "outputs": [
    {
     "data": {
      "text/html": [
       "<div align=\"middle\">\n",
       "<video width=\"50%\" controls>\n",
       "      <source src=\"VIDEOS/Aufgabe_7_1_TXT2RGB.mp4\" type=\"video/mp4\">\n",
       "</video></div>\n"
      ],
      "text/plain": [
       "<IPython.core.display.HTML object>"
      ]
     },
     "metadata": {},
     "output_type": "display_data"
    }
   ],
   "source": [
    "%%HTML\n",
    "<div align=\"middle\">\n",
    "<video width=\"50%\" controls>\n",
    "      <source src=\"VIDEOS/Aufgabe_7_1_TXT2RGB.mp4\" type=\"video/mp4\">\n",
    "</video></div>"
   ]
  },
  {
   "cell_type": "markdown",
   "metadata": {},
   "source": [
    "---\n",
    "<p style='text-align: right; font-size: 70%;'>Grundlagen Python (PYT_G01) / 2024</p>"
   ]
  }
 ],
 "metadata": {
  "kernelspec": {
   "display_name": "Python 3 (ipykernel)",
   "language": "python",
   "name": "python3"
  },
  "language_info": {
   "codemirror_mode": {
    "name": "ipython",
    "version": 3
   },
   "file_extension": ".py",
   "mimetype": "text/x-python",
   "name": "python",
   "nbconvert_exporter": "python",
   "pygments_lexer": "ipython3",
   "version": "3.10.11"
  }
 },
 "nbformat": 4,
 "nbformat_minor": 4
}
