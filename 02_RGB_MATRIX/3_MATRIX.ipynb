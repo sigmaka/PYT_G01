{
 "cells": [
  {
   "cell_type": "markdown",
   "metadata": {},
   "source": [
    "# 3. RGB-Matrix\n",
    "\n",
    "<img src=\"IMG/logo.png\" /><br>\n",
    "[&larr; Übersicht](0_ABLAUF.ipynb)"
   ]
  },
  {
   "cell_type": "markdown",
   "metadata": {},
   "source": [
    "Den Begriff *Matrix* haben Sie sicherlich schon in unterschiedlichen Zusammenhängen gehört. Im mathematischen/programmiertechnischen Kontext bedeutet Matrix eine **zeilen- bzw. spaltenweise Anordnung von Elementen**. Entscheidend ist, dass eine Matrix in diesem Zusammenhang ein zweidimensionales Objekt ist und via Zeilen- bzw. Spaltenindex auf ein individuelles Element zugegriffen wird. Eine Matrix mit $n$ Zeilen und $m$ Spalten wird auch als $n \\times m$-Matrix bezeichnet.\n",
    "\n",
    "> Wie Sie bereits wissen, beginnen die Indices in Python bei 0. Wenn wir z. B. umgangssprachlich von der *ersten* Zeile (oder Spalte) sprechen, entspricht dies jeweils der Zeile (oder Spalte) mit dem Index 0 (nicht 1).\n",
    "\n",
    "![Matrix](IMG/PYT_G01_matrix.svg)"
   ]
  },
  {
   "cell_type": "markdown",
   "metadata": {},
   "source": [
    "## 3.1 Verschachtelte Liste\n",
    "\n",
    "Im Grundumfang von Python existiert kein expliziter Matrix-Datentyp, doch mittels einer Liste kann man das gleiche Verhalten erreichen. Da Listen selbst wiederum Listen enthalten können, kann man eine Art Matrix bilden, indem z. B. das erste Element der Liste die erste Zeile der Matrix repräsentiert und daher selbst eine Liste ist, welche die Spalteneinträge repräsentiert. Eine solche Liste wird *verschachtelte Liste* genannt, da sie als Elemente wiederum Listen enthält."
   ]
  },
  {
   "cell_type": "code",
   "execution_count": 1,
   "metadata": {},
   "outputs": [
    {
     "data": {
      "text/plain": [
       "[[1, 2], [3, 4], [5, 6]]"
      ]
     },
     "execution_count": 1,
     "metadata": {},
     "output_type": "execute_result"
    }
   ],
   "source": [
    "# Bsp. 3x2-Matrix\n",
    "matrix = [[1, 2], [3, 4], [5, 6]]\n",
    "matrix"
   ]
  },
  {
   "cell_type": "markdown",
   "metadata": {},
   "source": [
    "Um ein individuelles Element anzusprechen, wird bei einer verschachtelten Liste für jedes Verschachtelungslevel ein Index verwendet, der wie gehabt in eckigen Klammern steht. Mit dem ersten Index wird also die \"oberste\" Ebene der Liste angesprochen und mit dem zweiten Index die \"zweitoberste\" etc."
   ]
  },
  {
   "cell_type": "code",
   "execution_count": 38,
   "metadata": {},
   "outputs": [
    {
     "data": {
      "text/plain": [
       "[1, 2]"
      ]
     },
     "execution_count": 38,
     "metadata": {},
     "output_type": "execute_result"
    }
   ],
   "source": [
    "matrix[0]  # erster Index = 0, d.h. \"erste Zeile\""
   ]
  },
  {
   "cell_type": "code",
   "execution_count": 2,
   "metadata": {},
   "outputs": [
    {
     "data": {
      "text/plain": [
       "4"
      ]
     },
     "execution_count": 2,
     "metadata": {},
     "output_type": "execute_result"
    }
   ],
   "source": [
    "matrix[1][1]  # erster Index = 1 (\"zweite Zeile\") und zweiter Index = 1 (\"zweite Spalte\")"
   ]
  },
  {
   "cell_type": "markdown",
   "metadata": {},
   "source": [
    "Betrachten wir nun unsere RGB-Matrix mit 8 Zeilen und 8 Spalten, d. h. gesamthaft 64 LEDs, können wir diese 64 LEDs in einer verschachtelten Liste mit 8 Unterlisten (Zeilen) à 8 Elemente (Spalten) repräsentieren. Jedes Element dieser verschachtelten Liste entpsricht der Farbe der LED (RGB), d.h. besteht wiederum aus drei Elementen [R,G,B]. Wir haben also letztlich 3 Verschachtelungsebenen. Im ersten Beispiel (vgl. <a href=\"1_EINFUEHRUNG_RGB_MATRIX.ipynb\" target=\"_blank\">Einführung RGB-Matrix</a>) haben wir das bereits gesehen.\n",
    "\n",
    "```python\n",
    "rgb.rgb_matrix[zeile][spalte] = [rot, gruen, blau]  # Farbzuweisung\n",
    "```\n",
    "Das `rgb_matrix`-Attribut ist also eine verschachtelte Liste mit drei Ebenen, d. h. maximal sind drei Indices möglich.\n",
    "\n",
    "```python\n",
    "rgb.rgb_matrix[3][4][2]  # Blau-Anteil der LED in der vierten Zeile und fünften Spalte\n",
    "```\n",
    "\n",
    "Da wir bei allen Aufgaben mit verschachtelten Listen arbeiten, ist es sehr wichtig, die Listenstruktur und Indexierung gut verstanden zu haben. Als Hilfestellung (u. a. zum Ausdrucken) kann die folgende Vorlage verwendet werden.\n",
    "\n",
    "![RGB-Matrix](IMG/matrix_leer.png)\n",
    "\n",
    "<a href=\"DATA/Matrix_Notizvorlage.pdf\" target=\"_blank\">Notizvorlage</a>"
   ]
  },
  {
   "cell_type": "markdown",
   "metadata": {},
   "source": [
    "---\n",
    "<p style='text-align: right; font-size: 70%;'>Grundlagen Python (PYT_G01) / 2024</p>"
   ]
  }
 ],
 "metadata": {
  "kernelspec": {
   "display_name": "Python 3 (ipykernel)",
   "language": "python",
   "name": "python3"
  },
  "language_info": {
   "codemirror_mode": {
    "name": "ipython",
    "version": 3
   },
   "file_extension": ".py",
   "mimetype": "text/x-python",
   "name": "python",
   "nbconvert_exporter": "python",
   "pygments_lexer": "ipython3",
   "version": "3.10.11"
  }
 },
 "nbformat": 4,
 "nbformat_minor": 4
}
