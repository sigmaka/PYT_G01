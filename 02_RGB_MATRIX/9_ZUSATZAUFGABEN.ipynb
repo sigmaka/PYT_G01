{
 "cells": [
  {
   "cell_type": "markdown",
   "metadata": {},
   "source": [
    "<img src=\"IMG/PYT_G01_logo.svg\" width=\"100%\"/>\n",
    "<a href=\"0_ABLAUF.ipynb\" target=\"_blank\">&larr; Ablauf</a>"
   ]
  },
  {
   "cell_type": "markdown",
   "metadata": {},
   "source": [
    "# 9. Zusatzaufgaben\n",
    "\n",
    "Hier finden sich weitere Aufgaben zur Lernkontrolle."
   ]
  },
  {
   "cell_type": "markdown",
   "metadata": {},
   "source": [
    "## Aufgabe 9.1 - Rechteckmuster\n",
    "\n",
    "Es soll ein Rechteck auf der Matrix dargestellt werden, welches über die beiden Eckpunkte P1 und P2 definiert ist. Die Farbe soll ebenfalls vorgegeben werden können.\n",
    "\n",
    "<center><img src=\"IMG/Zusatzaufgabe_1_statische_Muster.png\" width=\"40%\"/></center>\n",
    "\n",
    "Die Implementation des Funktionsaufrufes soll wie folgt aussehen:\n",
    "\n",
    "````python\n",
    "punkt1 = [2, 2]\n",
    "punkt2 = [5, 6]\n",
    "farbe = [0, 10, 0]\n",
    "\n",
    "create_matrix(matrix=rgb, p1=punkt1, p2=punkt2, color=farbe)\n",
    "````\n",
    "\n",
    "- In einem ersten Schritt kann davon ausgegangen werden, dass P1 immer die obere linke Ecke und P2 immer die untere rechte Ecke definiert.\n",
    "- In einem zweiten Schritt sollen die beiden Punkte P1 und P2 beliebig definiert werden können und unterliegen damit nicht mehr obiger Einschränkung.\n",
    "\n",
    "Abschliessend soll es möglich sein mehrere Rechtecke mit unterschiedlichen Farben zu definieren.\n",
    "\n",
    "````python\n",
    "punkt1 = [[2, 2], [3, -1], [0, 0]]\n",
    "punkt2 = [[5, 5], [4, 5], [-1, 0]]\n",
    "farbe = [[0, 0, 10], [0, 5, 0], [0, 5, 0]]\n",
    "````\n",
    "\n",
    "Interpretation: <br>\n",
    "- Rechteck 1 mit [2,2] und [5,5] in der Farbe [0,0,10]\n",
    "- Rechteck 2 mit [3,-1] und [4,5] in der Farbe [0,5,0]\n",
    "- Rechteck 3 mit [0,0] und [-1,0] in der Farbe [0,5,0]"
   ]
  },
  {
   "cell_type": "markdown",
   "metadata": {},
   "source": [
    "---\n",
    "<p style='text-align: right; font-size: 70%;'>Grundlagen Python (PYT_G01) / 2024</p>"
   ]
  }
 ],
 "metadata": {
  "kernelspec": {
   "display_name": "Python 3 (ipykernel)",
   "language": "python",
   "name": "python3"
  },
  "language_info": {
   "codemirror_mode": {
    "name": "ipython",
    "version": 3
   },
   "file_extension": ".py",
   "mimetype": "text/x-python",
   "name": "python",
   "nbconvert_exporter": "python",
   "pygments_lexer": "ipython3",
   "version": "3.10.11"
  }
 },
 "nbformat": 4,
 "nbformat_minor": 4
}
